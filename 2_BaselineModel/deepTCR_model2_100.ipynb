{
  "nbformat": 4,
  "nbformat_minor": 0,
  "metadata": {
    "colab": {
      "provenance": []
    },
    "kernelspec": {
      "name": "python3",
      "display_name": "Python 3"
    },
    "language_info": {
      "name": "python"
    }
  },
  "cells": [
    {
      "cell_type": "code",
      "source": [
        "import tensorflow as tf\n",
        "import numpy as np\n",
        "import pandas as pd\n",
        "from tensorflow.keras.layers import Embedding, LSTM, Dense, Reshape"
      ],
      "metadata": {
        "id": "O6cJZlcYd_a6"
      },
      "execution_count": 1,
      "outputs": []
    },
    {
      "cell_type": "code",
      "source": [
        "encodding = {'P': 8, 'C': 19, 'D': 18, 'N': 9, 'Q': 7, 'I': 13, 'S': 5, 'W': 2, 'M': 10, 'G': 15, 'A': 20, 'R': 6, 'F': 16, 'E': 17, 'H': 14, 'T': 4, 'Y': 1, 'V': 3, 'K': 12, 'L': 11, 'NA': 0}\n"
      ],
      "metadata": {
        "id": "r6YsVsgPmg25"
      },
      "execution_count": 2,
      "outputs": []
    },
    {
      "cell_type": "code",
      "source": [
        "imgt_matrix = pd.read_csv('https://raw.githubusercontent.com/lokalokes/deepTCR/main/1_DatasetCharacteristics/encodded_imgt_positions.csv')"
      ],
      "metadata": {
        "id": "4OZdU-o5PWkn"
      },
      "execution_count": 2,
      "outputs": []
    },
    {
      "cell_type": "code",
      "source": [
        "imgt_matrix_wo_na = imgt_matrix.iloc[:, [0,1,2,3,4,8,9,10,11,12]]"
      ],
      "metadata": {
        "id": "5surL5XfPmM-"
      },
      "execution_count": 3,
      "outputs": []
    },
    {
      "cell_type": "code",
      "source": [
        "imgt_matrix_wo_na"
      ],
      "metadata": {
        "id": "HN3gmIEdQwUz",
        "colab": {
          "base_uri": "https://localhost:8080/",
          "height": 424
        },
        "outputId": "3e83f3d3-95a3-419e-fea5-2e2ce3334464"
      },
      "execution_count": 4,
      "outputs": [
        {
          "output_type": "execute_result",
          "data": {
            "text/plain": [
              "       P107  P108  P109  P110  P111  P112  P113  P114  P115  P116\n",
              "0         8    10     3     0     0     0     0    14    15     1\n",
              "1         5    16    15     5     4     5     9     7     8     7\n",
              "2         5     5     8     8    11     5    13     6     9     4\n",
              "3         5    11    20    15     4     8     1     9    17     7\n",
              "4         5     7    20     6    15     8    20     4    17    20\n",
              "...     ...   ...   ...   ...   ...   ...   ...   ...   ...   ...\n",
              "17797     5    11     3     4     5    16    15     9    17     7\n",
              "17798     5    16    15     5     0     0     1     9    17     7\n",
              "17799     5    14    15    17     4     5     4    18     4     7\n",
              "17800     5     7    17    17     6     5     9     7     8     7\n",
              "17801     5    11    20     0     0     0    13     9    17     7\n",
              "\n",
              "[17802 rows x 10 columns]"
            ],
            "text/html": [
              "\n",
              "  <div id=\"df-4870fc75-5b15-4fc8-8d42-d59b86c32fd9\" class=\"colab-df-container\">\n",
              "    <div>\n",
              "<style scoped>\n",
              "    .dataframe tbody tr th:only-of-type {\n",
              "        vertical-align: middle;\n",
              "    }\n",
              "\n",
              "    .dataframe tbody tr th {\n",
              "        vertical-align: top;\n",
              "    }\n",
              "\n",
              "    .dataframe thead th {\n",
              "        text-align: right;\n",
              "    }\n",
              "</style>\n",
              "<table border=\"1\" class=\"dataframe\">\n",
              "  <thead>\n",
              "    <tr style=\"text-align: right;\">\n",
              "      <th></th>\n",
              "      <th>P107</th>\n",
              "      <th>P108</th>\n",
              "      <th>P109</th>\n",
              "      <th>P110</th>\n",
              "      <th>P111</th>\n",
              "      <th>P112</th>\n",
              "      <th>P113</th>\n",
              "      <th>P114</th>\n",
              "      <th>P115</th>\n",
              "      <th>P116</th>\n",
              "    </tr>\n",
              "  </thead>\n",
              "  <tbody>\n",
              "    <tr>\n",
              "      <th>0</th>\n",
              "      <td>8</td>\n",
              "      <td>10</td>\n",
              "      <td>3</td>\n",
              "      <td>0</td>\n",
              "      <td>0</td>\n",
              "      <td>0</td>\n",
              "      <td>0</td>\n",
              "      <td>14</td>\n",
              "      <td>15</td>\n",
              "      <td>1</td>\n",
              "    </tr>\n",
              "    <tr>\n",
              "      <th>1</th>\n",
              "      <td>5</td>\n",
              "      <td>16</td>\n",
              "      <td>15</td>\n",
              "      <td>5</td>\n",
              "      <td>4</td>\n",
              "      <td>5</td>\n",
              "      <td>9</td>\n",
              "      <td>7</td>\n",
              "      <td>8</td>\n",
              "      <td>7</td>\n",
              "    </tr>\n",
              "    <tr>\n",
              "      <th>2</th>\n",
              "      <td>5</td>\n",
              "      <td>5</td>\n",
              "      <td>8</td>\n",
              "      <td>8</td>\n",
              "      <td>11</td>\n",
              "      <td>5</td>\n",
              "      <td>13</td>\n",
              "      <td>6</td>\n",
              "      <td>9</td>\n",
              "      <td>4</td>\n",
              "    </tr>\n",
              "    <tr>\n",
              "      <th>3</th>\n",
              "      <td>5</td>\n",
              "      <td>11</td>\n",
              "      <td>20</td>\n",
              "      <td>15</td>\n",
              "      <td>4</td>\n",
              "      <td>8</td>\n",
              "      <td>1</td>\n",
              "      <td>9</td>\n",
              "      <td>17</td>\n",
              "      <td>7</td>\n",
              "    </tr>\n",
              "    <tr>\n",
              "      <th>4</th>\n",
              "      <td>5</td>\n",
              "      <td>7</td>\n",
              "      <td>20</td>\n",
              "      <td>6</td>\n",
              "      <td>15</td>\n",
              "      <td>8</td>\n",
              "      <td>20</td>\n",
              "      <td>4</td>\n",
              "      <td>17</td>\n",
              "      <td>20</td>\n",
              "    </tr>\n",
              "    <tr>\n",
              "      <th>...</th>\n",
              "      <td>...</td>\n",
              "      <td>...</td>\n",
              "      <td>...</td>\n",
              "      <td>...</td>\n",
              "      <td>...</td>\n",
              "      <td>...</td>\n",
              "      <td>...</td>\n",
              "      <td>...</td>\n",
              "      <td>...</td>\n",
              "      <td>...</td>\n",
              "    </tr>\n",
              "    <tr>\n",
              "      <th>17797</th>\n",
              "      <td>5</td>\n",
              "      <td>11</td>\n",
              "      <td>3</td>\n",
              "      <td>4</td>\n",
              "      <td>5</td>\n",
              "      <td>16</td>\n",
              "      <td>15</td>\n",
              "      <td>9</td>\n",
              "      <td>17</td>\n",
              "      <td>7</td>\n",
              "    </tr>\n",
              "    <tr>\n",
              "      <th>17798</th>\n",
              "      <td>5</td>\n",
              "      <td>16</td>\n",
              "      <td>15</td>\n",
              "      <td>5</td>\n",
              "      <td>0</td>\n",
              "      <td>0</td>\n",
              "      <td>1</td>\n",
              "      <td>9</td>\n",
              "      <td>17</td>\n",
              "      <td>7</td>\n",
              "    </tr>\n",
              "    <tr>\n",
              "      <th>17799</th>\n",
              "      <td>5</td>\n",
              "      <td>14</td>\n",
              "      <td>15</td>\n",
              "      <td>17</td>\n",
              "      <td>4</td>\n",
              "      <td>5</td>\n",
              "      <td>4</td>\n",
              "      <td>18</td>\n",
              "      <td>4</td>\n",
              "      <td>7</td>\n",
              "    </tr>\n",
              "    <tr>\n",
              "      <th>17800</th>\n",
              "      <td>5</td>\n",
              "      <td>7</td>\n",
              "      <td>17</td>\n",
              "      <td>17</td>\n",
              "      <td>6</td>\n",
              "      <td>5</td>\n",
              "      <td>9</td>\n",
              "      <td>7</td>\n",
              "      <td>8</td>\n",
              "      <td>7</td>\n",
              "    </tr>\n",
              "    <tr>\n",
              "      <th>17801</th>\n",
              "      <td>5</td>\n",
              "      <td>11</td>\n",
              "      <td>20</td>\n",
              "      <td>0</td>\n",
              "      <td>0</td>\n",
              "      <td>0</td>\n",
              "      <td>13</td>\n",
              "      <td>9</td>\n",
              "      <td>17</td>\n",
              "      <td>7</td>\n",
              "    </tr>\n",
              "  </tbody>\n",
              "</table>\n",
              "<p>17802 rows × 10 columns</p>\n",
              "</div>\n",
              "    <div class=\"colab-df-buttons\">\n",
              "\n",
              "  <div class=\"colab-df-container\">\n",
              "    <button class=\"colab-df-convert\" onclick=\"convertToInteractive('df-4870fc75-5b15-4fc8-8d42-d59b86c32fd9')\"\n",
              "            title=\"Convert this dataframe to an interactive table.\"\n",
              "            style=\"display:none;\">\n",
              "\n",
              "  <svg xmlns=\"http://www.w3.org/2000/svg\" height=\"24px\" viewBox=\"0 -960 960 960\">\n",
              "    <path d=\"M120-120v-720h720v720H120Zm60-500h600v-160H180v160Zm220 220h160v-160H400v160Zm0 220h160v-160H400v160ZM180-400h160v-160H180v160Zm440 0h160v-160H620v160ZM180-180h160v-160H180v160Zm440 0h160v-160H620v160Z\"/>\n",
              "  </svg>\n",
              "    </button>\n",
              "\n",
              "  <style>\n",
              "    .colab-df-container {\n",
              "      display:flex;\n",
              "      gap: 12px;\n",
              "    }\n",
              "\n",
              "    .colab-df-convert {\n",
              "      background-color: #E8F0FE;\n",
              "      border: none;\n",
              "      border-radius: 50%;\n",
              "      cursor: pointer;\n",
              "      display: none;\n",
              "      fill: #1967D2;\n",
              "      height: 32px;\n",
              "      padding: 0 0 0 0;\n",
              "      width: 32px;\n",
              "    }\n",
              "\n",
              "    .colab-df-convert:hover {\n",
              "      background-color: #E2EBFA;\n",
              "      box-shadow: 0px 1px 2px rgba(60, 64, 67, 0.3), 0px 1px 3px 1px rgba(60, 64, 67, 0.15);\n",
              "      fill: #174EA6;\n",
              "    }\n",
              "\n",
              "    .colab-df-buttons div {\n",
              "      margin-bottom: 4px;\n",
              "    }\n",
              "\n",
              "    [theme=dark] .colab-df-convert {\n",
              "      background-color: #3B4455;\n",
              "      fill: #D2E3FC;\n",
              "    }\n",
              "\n",
              "    [theme=dark] .colab-df-convert:hover {\n",
              "      background-color: #434B5C;\n",
              "      box-shadow: 0px 1px 3px 1px rgba(0, 0, 0, 0.15);\n",
              "      filter: drop-shadow(0px 1px 2px rgba(0, 0, 0, 0.3));\n",
              "      fill: #FFFFFF;\n",
              "    }\n",
              "  </style>\n",
              "\n",
              "    <script>\n",
              "      const buttonEl =\n",
              "        document.querySelector('#df-4870fc75-5b15-4fc8-8d42-d59b86c32fd9 button.colab-df-convert');\n",
              "      buttonEl.style.display =\n",
              "        google.colab.kernel.accessAllowed ? 'block' : 'none';\n",
              "\n",
              "      async function convertToInteractive(key) {\n",
              "        const element = document.querySelector('#df-4870fc75-5b15-4fc8-8d42-d59b86c32fd9');\n",
              "        const dataTable =\n",
              "          await google.colab.kernel.invokeFunction('convertToInteractive',\n",
              "                                                    [key], {});\n",
              "        if (!dataTable) return;\n",
              "\n",
              "        const docLinkHtml = 'Like what you see? Visit the ' +\n",
              "          '<a target=\"_blank\" href=https://colab.research.google.com/notebooks/data_table.ipynb>data table notebook</a>'\n",
              "          + ' to learn more about interactive tables.';\n",
              "        element.innerHTML = '';\n",
              "        dataTable['output_type'] = 'display_data';\n",
              "        await google.colab.output.renderOutput(dataTable, element);\n",
              "        const docLink = document.createElement('div');\n",
              "        docLink.innerHTML = docLinkHtml;\n",
              "        element.appendChild(docLink);\n",
              "      }\n",
              "    </script>\n",
              "  </div>\n",
              "\n",
              "\n",
              "<div id=\"df-c4115b8f-0f00-4536-992b-22c53bd18fb2\">\n",
              "  <button class=\"colab-df-quickchart\" onclick=\"quickchart('df-c4115b8f-0f00-4536-992b-22c53bd18fb2')\"\n",
              "            title=\"Suggest charts\"\n",
              "            style=\"display:none;\">\n",
              "\n",
              "<svg xmlns=\"http://www.w3.org/2000/svg\" height=\"24px\"viewBox=\"0 0 24 24\"\n",
              "     width=\"24px\">\n",
              "    <g>\n",
              "        <path d=\"M19 3H5c-1.1 0-2 .9-2 2v14c0 1.1.9 2 2 2h14c1.1 0 2-.9 2-2V5c0-1.1-.9-2-2-2zM9 17H7v-7h2v7zm4 0h-2V7h2v10zm4 0h-2v-4h2v4z\"/>\n",
              "    </g>\n",
              "</svg>\n",
              "  </button>\n",
              "\n",
              "<style>\n",
              "  .colab-df-quickchart {\n",
              "      --bg-color: #E8F0FE;\n",
              "      --fill-color: #1967D2;\n",
              "      --hover-bg-color: #E2EBFA;\n",
              "      --hover-fill-color: #174EA6;\n",
              "      --disabled-fill-color: #AAA;\n",
              "      --disabled-bg-color: #DDD;\n",
              "  }\n",
              "\n",
              "  [theme=dark] .colab-df-quickchart {\n",
              "      --bg-color: #3B4455;\n",
              "      --fill-color: #D2E3FC;\n",
              "      --hover-bg-color: #434B5C;\n",
              "      --hover-fill-color: #FFFFFF;\n",
              "      --disabled-bg-color: #3B4455;\n",
              "      --disabled-fill-color: #666;\n",
              "  }\n",
              "\n",
              "  .colab-df-quickchart {\n",
              "    background-color: var(--bg-color);\n",
              "    border: none;\n",
              "    border-radius: 50%;\n",
              "    cursor: pointer;\n",
              "    display: none;\n",
              "    fill: var(--fill-color);\n",
              "    height: 32px;\n",
              "    padding: 0;\n",
              "    width: 32px;\n",
              "  }\n",
              "\n",
              "  .colab-df-quickchart:hover {\n",
              "    background-color: var(--hover-bg-color);\n",
              "    box-shadow: 0 1px 2px rgba(60, 64, 67, 0.3), 0 1px 3px 1px rgba(60, 64, 67, 0.15);\n",
              "    fill: var(--button-hover-fill-color);\n",
              "  }\n",
              "\n",
              "  .colab-df-quickchart-complete:disabled,\n",
              "  .colab-df-quickchart-complete:disabled:hover {\n",
              "    background-color: var(--disabled-bg-color);\n",
              "    fill: var(--disabled-fill-color);\n",
              "    box-shadow: none;\n",
              "  }\n",
              "\n",
              "  .colab-df-spinner {\n",
              "    border: 2px solid var(--fill-color);\n",
              "    border-color: transparent;\n",
              "    border-bottom-color: var(--fill-color);\n",
              "    animation:\n",
              "      spin 1s steps(1) infinite;\n",
              "  }\n",
              "\n",
              "  @keyframes spin {\n",
              "    0% {\n",
              "      border-color: transparent;\n",
              "      border-bottom-color: var(--fill-color);\n",
              "      border-left-color: var(--fill-color);\n",
              "    }\n",
              "    20% {\n",
              "      border-color: transparent;\n",
              "      border-left-color: var(--fill-color);\n",
              "      border-top-color: var(--fill-color);\n",
              "    }\n",
              "    30% {\n",
              "      border-color: transparent;\n",
              "      border-left-color: var(--fill-color);\n",
              "      border-top-color: var(--fill-color);\n",
              "      border-right-color: var(--fill-color);\n",
              "    }\n",
              "    40% {\n",
              "      border-color: transparent;\n",
              "      border-right-color: var(--fill-color);\n",
              "      border-top-color: var(--fill-color);\n",
              "    }\n",
              "    60% {\n",
              "      border-color: transparent;\n",
              "      border-right-color: var(--fill-color);\n",
              "    }\n",
              "    80% {\n",
              "      border-color: transparent;\n",
              "      border-right-color: var(--fill-color);\n",
              "      border-bottom-color: var(--fill-color);\n",
              "    }\n",
              "    90% {\n",
              "      border-color: transparent;\n",
              "      border-bottom-color: var(--fill-color);\n",
              "    }\n",
              "  }\n",
              "</style>\n",
              "\n",
              "  <script>\n",
              "    async function quickchart(key) {\n",
              "      const quickchartButtonEl =\n",
              "        document.querySelector('#' + key + ' button');\n",
              "      quickchartButtonEl.disabled = true;  // To prevent multiple clicks.\n",
              "      quickchartButtonEl.classList.add('colab-df-spinner');\n",
              "      try {\n",
              "        const charts = await google.colab.kernel.invokeFunction(\n",
              "            'suggestCharts', [key], {});\n",
              "      } catch (error) {\n",
              "        console.error('Error during call to suggestCharts:', error);\n",
              "      }\n",
              "      quickchartButtonEl.classList.remove('colab-df-spinner');\n",
              "      quickchartButtonEl.classList.add('colab-df-quickchart-complete');\n",
              "    }\n",
              "    (() => {\n",
              "      let quickchartButtonEl =\n",
              "        document.querySelector('#df-c4115b8f-0f00-4536-992b-22c53bd18fb2 button');\n",
              "      quickchartButtonEl.style.display =\n",
              "        google.colab.kernel.accessAllowed ? 'block' : 'none';\n",
              "    })();\n",
              "  </script>\n",
              "</div>\n",
              "    </div>\n",
              "  </div>\n"
            ],
            "application/vnd.google.colaboratory.intrinsic+json": {
              "type": "dataframe",
              "variable_name": "imgt_matrix_wo_na",
              "summary": "{\n  \"name\": \"imgt_matrix_wo_na\",\n  \"rows\": 17802,\n  \"fields\": [\n    {\n      \"column\": \"P107\",\n      \"properties\": {\n        \"dtype\": \"number\",\n        \"std\": 2,\n        \"min\": 0,\n        \"max\": 20,\n        \"num_unique_values\": 21,\n        \"samples\": [\n          8,\n          16,\n          11\n        ],\n        \"semantic_type\": \"\",\n        \"description\": \"\"\n      }\n    },\n    {\n      \"column\": \"P108\",\n      \"properties\": {\n        \"dtype\": \"number\",\n        \"std\": 5,\n        \"min\": 0,\n        \"max\": 20,\n        \"num_unique_values\": 21,\n        \"samples\": [\n          10,\n          9,\n          13\n        ],\n        \"semantic_type\": \"\",\n        \"description\": \"\"\n      }\n    },\n    {\n      \"column\": \"P109\",\n      \"properties\": {\n        \"dtype\": \"number\",\n        \"std\": 5,\n        \"min\": 0,\n        \"max\": 20,\n        \"num_unique_values\": 21,\n        \"samples\": [\n          3,\n          2,\n          6\n        ],\n        \"semantic_type\": \"\",\n        \"description\": \"\"\n      }\n    },\n    {\n      \"column\": \"P110\",\n      \"properties\": {\n        \"dtype\": \"number\",\n        \"std\": 6,\n        \"min\": 0,\n        \"max\": 20,\n        \"num_unique_values\": 21,\n        \"samples\": [\n          0,\n          9,\n          10\n        ],\n        \"semantic_type\": \"\",\n        \"description\": \"\"\n      }\n    },\n    {\n      \"column\": \"P111\",\n      \"properties\": {\n        \"dtype\": \"number\",\n        \"std\": 6,\n        \"min\": 0,\n        \"max\": 20,\n        \"num_unique_values\": 21,\n        \"samples\": [\n          0,\n          14,\n          3\n        ],\n        \"semantic_type\": \"\",\n        \"description\": \"\"\n      }\n    },\n    {\n      \"column\": \"P112\",\n      \"properties\": {\n        \"dtype\": \"number\",\n        \"std\": 6,\n        \"min\": 0,\n        \"max\": 20,\n        \"num_unique_values\": 21,\n        \"samples\": [\n          0,\n          2,\n          9\n        ],\n        \"semantic_type\": \"\",\n        \"description\": \"\"\n      }\n    },\n    {\n      \"column\": \"P113\",\n      \"properties\": {\n        \"dtype\": \"number\",\n        \"std\": 5,\n        \"min\": 0,\n        \"max\": 20,\n        \"num_unique_values\": 21,\n        \"samples\": [\n          0,\n          17,\n          8\n        ],\n        \"semantic_type\": \"\",\n        \"description\": \"\"\n      }\n    },\n    {\n      \"column\": \"P114\",\n      \"properties\": {\n        \"dtype\": \"number\",\n        \"std\": 6,\n        \"min\": 0,\n        \"max\": 20,\n        \"num_unique_values\": 21,\n        \"samples\": [\n          14,\n          2,\n          13\n        ],\n        \"semantic_type\": \"\",\n        \"description\": \"\"\n      }\n    },\n    {\n      \"column\": \"P115\",\n      \"properties\": {\n        \"dtype\": \"number\",\n        \"std\": 5,\n        \"min\": 0,\n        \"max\": 20,\n        \"num_unique_values\": 21,\n        \"samples\": [\n          15,\n          1,\n          2\n        ],\n        \"semantic_type\": \"\",\n        \"description\": \"\"\n      }\n    },\n    {\n      \"column\": \"P116\",\n      \"properties\": {\n        \"dtype\": \"number\",\n        \"std\": 5,\n        \"min\": 0,\n        \"max\": 20,\n        \"num_unique_values\": 21,\n        \"samples\": [\n          1,\n          2,\n          0\n        ],\n        \"semantic_type\": \"\",\n        \"description\": \"\"\n      }\n    }\n  ]\n}"
            }
          },
          "metadata": {},
          "execution_count": 4
        }
      ]
    },
    {
      "cell_type": "code",
      "source": [
        "matrix = imgt_matrix_wo_na.to_numpy()"
      ],
      "metadata": {
        "id": "pWbwu6IS3KZQ"
      },
      "execution_count": 5,
      "outputs": []
    },
    {
      "cell_type": "code",
      "source": [
        "round(len(matrix)*0.8)"
      ],
      "metadata": {
        "colab": {
          "base_uri": "https://localhost:8080/"
        },
        "id": "TO6XZJO5q3s1",
        "outputId": "56eb8661-c95b-49a2-ceb6-a07672625c7b"
      },
      "execution_count": 6,
      "outputs": [
        {
          "output_type": "execute_result",
          "data": {
            "text/plain": [
              "14242"
            ]
          },
          "metadata": {},
          "execution_count": 6
        }
      ]
    },
    {
      "cell_type": "code",
      "source": [
        "training_set_X = matrix[:round(len(matrix)*0.8),:4]\n",
        "test_set_X = matrix[round(len(matrix)*0.8):,:4]\n",
        "training_set_y = matrix[:round(len(matrix)*0.8),4]\n",
        "test_set_y = matrix[round(len(matrix)*0.8):,4]"
      ],
      "metadata": {
        "id": "q-RoQvQOwf8D"
      },
      "execution_count": 9,
      "outputs": []
    },
    {
      "cell_type": "code",
      "source": [
        "### Predicting the 4th position of the sequences"
      ],
      "metadata": {
        "id": "8mX9AMWhUl5j"
      },
      "execution_count": 7,
      "outputs": []
    },
    {
      "cell_type": "code",
      "source": [
        "\n",
        "print(\"Input sequences (training_set_X):\")\n",
        "print(training_set_X)\n",
        "print(\"\\nTarget sequences (training_set_y):\")\n",
        "print(training_set_y)"
      ],
      "metadata": {
        "colab": {
          "base_uri": "https://localhost:8080/"
        },
        "id": "bmzNjbYvxkvm",
        "outputId": "47399d26-48ec-4101-de96-deada1c7edad",
        "collapsed": true
      },
      "execution_count": 10,
      "outputs": [
        {
          "output_type": "stream",
          "name": "stdout",
          "text": [
            "Input sequences (training_set_X):\n",
            "[[ 8 10  3  0]\n",
            " [ 5 16 15  5]\n",
            " [ 5  5  8  8]\n",
            " ...\n",
            " [ 5  8  6 18]\n",
            " [ 6 18  4 13]\n",
            " [15  8  3  0]]\n",
            "\n",
            "Target sequences (training_set_y):\n",
            "[ 0  4 11 ...  0 11  0]\n"
          ]
        }
      ]
    },
    {
      "cell_type": "code",
      "source": [
        "\n",
        "print(\"Input sequences (test_set_X):\")\n",
        "print(test_set_X)\n",
        "print(\"\\nTarget sequences (test_set_y):\")\n",
        "print(test_set_y)"
      ],
      "metadata": {
        "colab": {
          "base_uri": "https://localhost:8080/"
        },
        "collapsed": true,
        "id": "zjenJjkSTgHc",
        "outputId": "cc929fad-f8a0-4504-87d5-cbffee474536"
      },
      "execution_count": 11,
      "outputs": [
        {
          "output_type": "stream",
          "name": "stdout",
          "text": [
            "Input sequences (test_set_X):\n",
            "[[ 5  6  4 15]\n",
            " [ 5  1  5 12]\n",
            " [ 5  8  3 15]\n",
            " ...\n",
            " [ 5 14 15 17]\n",
            " [ 5  7 17 17]\n",
            " [ 5 11 20  0]]\n",
            "\n",
            "Target sequences (test_set_y):\n",
            "[15  7  6 ...  4  6  0]\n"
          ]
        }
      ]
    },
    {
      "cell_type": "markdown",
      "source": [
        "### Developing the model and increasing accuracy"
      ],
      "metadata": {
        "id": "OXJ-3Sj_vJ2n"
      }
    },
    {
      "cell_type": "code",
      "source": [
        "import tensorflow as tf\n",
        "from tensorflow import keras\n",
        "from tensorflow.keras.models import Sequential\n",
        "from tensorflow.keras.layers import Embedding, LSTM, Dense, Reshape\n",
        "from tensorflow.keras.optimizers import Adam\n",
        "\n",
        "# Define parameters\n",
        "vocab_size = 21  # 20 amino acids\n",
        "embedding_dim = 8\n",
        "rnn_units = 32\n",
        "sequence_length = 4\n",
        "batch_size = 1  # Use batch size  for prediction later\n",
        "\n",
        "# Build the model\n",
        "model = Sequential([\n",
        "    Embedding(vocab_size, embedding_dim, input_length=sequence_length),\n",
        "    LSTM(rnn_units*2, return_sequences=True),\n",
        "    Dense(128, activation = \"relu\"),\n",
        "    Reshape((sequence_length, 128)),\n",
        "    LSTM(rnn_units, return_sequences=True),\n",
        "    Dense(64, activation = \"relu\"),\n",
        "    Reshape((sequence_length, 64)),\n",
        "    LSTM(rnn_units),\n",
        "    Dense(vocab_size, activation='softmax')\n",
        "\n",
        "])\n",
        "\n",
        "model.compile(optimizer=Adam(learning_rate=0.001), loss='sparse_categorical_crossentropy', metrics=['accuracy'])\n",
        "\n",
        "model.summary()\n",
        "\n"
      ],
      "metadata": {
        "colab": {
          "base_uri": "https://localhost:8080/"
        },
        "id": "dDoL__tExlAw",
        "outputId": "e3c4150d-e0f9-4bf2-89d0-ecdaf5bb353a"
      },
      "execution_count": 12,
      "outputs": [
        {
          "output_type": "stream",
          "name": "stdout",
          "text": [
            "Model: \"sequential\"\n",
            "_________________________________________________________________\n",
            " Layer (type)                Output Shape              Param #   \n",
            "=================================================================\n",
            " embedding (Embedding)       (None, 4, 8)              168       \n",
            "                                                                 \n",
            " lstm (LSTM)                 (None, 4, 64)             18688     \n",
            "                                                                 \n",
            " dense (Dense)               (None, 4, 128)            8320      \n",
            "                                                                 \n",
            " reshape (Reshape)           (None, 4, 128)            0         \n",
            "                                                                 \n",
            " lstm_1 (LSTM)               (None, 4, 32)             20608     \n",
            "                                                                 \n",
            " dense_1 (Dense)             (None, 4, 64)             2112      \n",
            "                                                                 \n",
            " reshape_1 (Reshape)         (None, 4, 64)             0         \n",
            "                                                                 \n",
            " lstm_2 (LSTM)               (None, 32)                12416     \n",
            "                                                                 \n",
            " dense_2 (Dense)             (None, 21)                693       \n",
            "                                                                 \n",
            "=================================================================\n",
            "Total params: 63005 (246.11 KB)\n",
            "Trainable params: 63005 (246.11 KB)\n",
            "Non-trainable params: 0 (0.00 Byte)\n",
            "_________________________________________________________________\n"
          ]
        }
      ]
    },
    {
      "cell_type": "code",
      "source": [
        "training_set_y.shape"
      ],
      "metadata": {
        "colab": {
          "base_uri": "https://localhost:8080/"
        },
        "id": "EAHGkzgnz5Dx",
        "outputId": "f02686d8-22b9-4e0c-d087-d044c17fb2ed"
      },
      "execution_count": 13,
      "outputs": [
        {
          "output_type": "execute_result",
          "data": {
            "text/plain": [
              "(14242,)"
            ]
          },
          "metadata": {},
          "execution_count": 13
        }
      ]
    },
    {
      "cell_type": "code",
      "source": [
        "from google.colab import drive\n",
        "drive.mount('/content/drive')"
      ],
      "metadata": {
        "colab": {
          "base_uri": "https://localhost:8080/"
        },
        "id": "h99f87EWtfB9",
        "outputId": "13a6ac89-7201-4ffc-d8cc-3975d65a15a3"
      },
      "execution_count": 14,
      "outputs": [
        {
          "output_type": "stream",
          "name": "stdout",
          "text": [
            "Mounted at /content/drive\n"
          ]
        }
      ]
    },
    {
      "cell_type": "code",
      "source": [
        "import pickle\n",
        "\n",
        "# Train the model\n",
        "history =  model.fit(training_set_X, training_set_y, epochs=100, batch_size = 1, validation_split =0.2)\n",
        "\n",
        "# Save the history object\n",
        "with open('/content/drive/My Drive/training_history.pkl', 'wb') as file:\n",
        "    pickle.dump(history.history, file)"
      ],
      "metadata": {
        "colab": {
          "base_uri": "https://localhost:8080/"
        },
        "id": "k8Znpv1K0g_l",
        "outputId": "0e56a543-fd82-4b44-b0ba-30568f8aeb62"
      },
      "execution_count": 22,
      "outputs": [
        {
          "output_type": "stream",
          "name": "stdout",
          "text": [
            "Epoch 1/100\n",
            "11393/11393 [==============================] - 104s 9ms/step - loss: 1.5642 - accuracy: 0.5668 - val_loss: 1.8225 - val_accuracy: 0.4542\n",
            "Epoch 2/100\n",
            "11393/11393 [==============================] - 100s 9ms/step - loss: 1.5583 - accuracy: 0.5663 - val_loss: 1.8328 - val_accuracy: 0.4542\n",
            "Epoch 3/100\n",
            "11393/11393 [==============================] - 102s 9ms/step - loss: 1.5523 - accuracy: 0.5660 - val_loss: 1.8330 - val_accuracy: 0.4542\n",
            "Epoch 4/100\n",
            "11393/11393 [==============================] - 102s 9ms/step - loss: 1.5422 - accuracy: 0.5650 - val_loss: 1.8187 - val_accuracy: 0.4556\n",
            "Epoch 5/100\n",
            "11393/11393 [==============================] - 103s 9ms/step - loss: 1.5326 - accuracy: 0.5669 - val_loss: 1.8103 - val_accuracy: 0.4584\n",
            "Epoch 6/100\n",
            "11393/11393 [==============================] - 99s 9ms/step - loss: 1.5243 - accuracy: 0.5642 - val_loss: 1.8094 - val_accuracy: 0.4556\n",
            "Epoch 7/100\n",
            "11393/11393 [==============================] - 101s 9ms/step - loss: 1.5192 - accuracy: 0.5659 - val_loss: 1.8030 - val_accuracy: 0.4584\n",
            "Epoch 8/100\n",
            "11393/11393 [==============================] - 102s 9ms/step - loss: 1.5147 - accuracy: 0.5663 - val_loss: 1.8077 - val_accuracy: 0.4651\n",
            "Epoch 9/100\n",
            "11393/11393 [==============================] - 101s 9ms/step - loss: 1.5081 - accuracy: 0.5696 - val_loss: 1.8215 - val_accuracy: 0.4552\n",
            "Epoch 10/100\n",
            "11393/11393 [==============================] - 103s 9ms/step - loss: 1.5066 - accuracy: 0.5684 - val_loss: 1.8101 - val_accuracy: 0.4675\n",
            "Epoch 11/100\n",
            "11393/11393 [==============================] - 106s 9ms/step - loss: 1.4966 - accuracy: 0.5697 - val_loss: 1.8602 - val_accuracy: 0.4559\n",
            "Epoch 12/100\n",
            "11393/11393 [==============================] - 104s 9ms/step - loss: 1.4899 - accuracy: 0.5706 - val_loss: 1.8630 - val_accuracy: 0.4577\n",
            "Epoch 13/100\n",
            "11393/11393 [==============================] - 106s 9ms/step - loss: 1.4804 - accuracy: 0.5706 - val_loss: 1.8176 - val_accuracy: 0.4661\n",
            "Epoch 14/100\n",
            "11393/11393 [==============================] - 101s 9ms/step - loss: 1.4738 - accuracy: 0.5702 - val_loss: 1.8292 - val_accuracy: 0.4630\n",
            "Epoch 15/100\n",
            "11393/11393 [==============================] - 104s 9ms/step - loss: 1.4678 - accuracy: 0.5718 - val_loss: 1.8300 - val_accuracy: 0.4672\n",
            "Epoch 16/100\n",
            "11393/11393 [==============================] - 103s 9ms/step - loss: 1.4584 - accuracy: 0.5704 - val_loss: 1.8513 - val_accuracy: 0.4647\n",
            "Epoch 17/100\n",
            "11393/11393 [==============================] - 103s 9ms/step - loss: 1.4515 - accuracy: 0.5754 - val_loss: 1.8508 - val_accuracy: 0.4689\n",
            "Epoch 18/100\n",
            "11393/11393 [==============================] - 101s 9ms/step - loss: 1.4484 - accuracy: 0.5736 - val_loss: 1.8401 - val_accuracy: 0.4619\n",
            "Epoch 19/100\n",
            "11393/11393 [==============================] - 101s 9ms/step - loss: 1.4365 - accuracy: 0.5754 - val_loss: 1.8432 - val_accuracy: 0.4654\n",
            "Epoch 20/100\n",
            "11393/11393 [==============================] - 104s 9ms/step - loss: 1.4321 - accuracy: 0.5752 - val_loss: 1.8727 - val_accuracy: 0.4619\n",
            "Epoch 21/100\n",
            "11393/11393 [==============================] - 104s 9ms/step - loss: 1.4186 - accuracy: 0.5753 - val_loss: 1.9216 - val_accuracy: 0.4605\n",
            "Epoch 22/100\n",
            "11393/11393 [==============================] - 103s 9ms/step - loss: 1.4122 - accuracy: 0.5797 - val_loss: 1.8901 - val_accuracy: 0.4640\n",
            "Epoch 23/100\n",
            "11393/11393 [==============================] - 101s 9ms/step - loss: 1.3999 - accuracy: 0.5796 - val_loss: 1.9046 - val_accuracy: 0.4588\n",
            "Epoch 24/100\n",
            "11393/11393 [==============================] - 106s 9ms/step - loss: 1.3978 - accuracy: 0.5827 - val_loss: 1.9412 - val_accuracy: 0.4654\n",
            "Epoch 25/100\n",
            "11393/11393 [==============================] - 105s 9ms/step - loss: 1.3855 - accuracy: 0.5836 - val_loss: 1.9470 - val_accuracy: 0.4574\n",
            "Epoch 26/100\n",
            "11393/11393 [==============================] - 106s 9ms/step - loss: 1.3791 - accuracy: 0.5872 - val_loss: 1.9778 - val_accuracy: 0.4588\n",
            "Epoch 27/100\n",
            "11393/11393 [==============================] - 103s 9ms/step - loss: 1.3717 - accuracy: 0.5831 - val_loss: 1.9738 - val_accuracy: 0.4584\n",
            "Epoch 28/100\n",
            "11393/11393 [==============================] - 101s 9ms/step - loss: 1.3665 - accuracy: 0.5849 - val_loss: 1.9597 - val_accuracy: 0.4556\n",
            "Epoch 29/100\n",
            "11393/11393 [==============================] - 109s 10ms/step - loss: 1.3583 - accuracy: 0.5856 - val_loss: 1.9866 - val_accuracy: 0.4591\n",
            "Epoch 30/100\n",
            "11393/11393 [==============================] - 104s 9ms/step - loss: 1.3455 - accuracy: 0.5891 - val_loss: 2.0087 - val_accuracy: 0.4567\n",
            "Epoch 31/100\n",
            "11393/11393 [==============================] - 106s 9ms/step - loss: 1.3355 - accuracy: 0.5932 - val_loss: 2.0326 - val_accuracy: 0.4531\n",
            "Epoch 32/100\n",
            "11393/11393 [==============================] - 107s 9ms/step - loss: 1.3321 - accuracy: 0.5934 - val_loss: 2.0041 - val_accuracy: 0.4581\n",
            "Epoch 33/100\n",
            "11393/11393 [==============================] - 105s 9ms/step - loss: 1.3210 - accuracy: 0.5963 - val_loss: 1.9757 - val_accuracy: 0.4510\n",
            "Epoch 34/100\n",
            "11393/11393 [==============================] - 105s 9ms/step - loss: 1.3179 - accuracy: 0.5963 - val_loss: 2.0624 - val_accuracy: 0.4567\n",
            "Epoch 35/100\n",
            "11393/11393 [==============================] - 106s 9ms/step - loss: 1.3053 - accuracy: 0.5973 - val_loss: 2.1158 - val_accuracy: 0.4517\n",
            "Epoch 36/100\n",
            "11393/11393 [==============================] - 108s 9ms/step - loss: 1.2964 - accuracy: 0.5989 - val_loss: 2.0693 - val_accuracy: 0.4479\n",
            "Epoch 37/100\n",
            "11393/11393 [==============================] - 104s 9ms/step - loss: 1.2875 - accuracy: 0.5993 - val_loss: 2.1284 - val_accuracy: 0.4440\n",
            "Epoch 38/100\n",
            "11393/11393 [==============================] - 103s 9ms/step - loss: 1.2817 - accuracy: 0.6010 - val_loss: 2.0975 - val_accuracy: 0.4444\n",
            "Epoch 39/100\n",
            "11393/11393 [==============================] - 105s 9ms/step - loss: 1.2769 - accuracy: 0.6041 - val_loss: 2.1162 - val_accuracy: 0.4510\n",
            "Epoch 40/100\n",
            "11393/11393 [==============================] - 102s 9ms/step - loss: 1.2697 - accuracy: 0.6046 - val_loss: 2.1158 - val_accuracy: 0.4482\n",
            "Epoch 41/100\n",
            "11393/11393 [==============================] - 103s 9ms/step - loss: 1.2701 - accuracy: 0.6049 - val_loss: 2.1578 - val_accuracy: 0.4377\n",
            "Epoch 42/100\n",
            "11393/11393 [==============================] - 102s 9ms/step - loss: 1.2544 - accuracy: 0.6081 - val_loss: 2.1491 - val_accuracy: 0.4433\n",
            "Epoch 43/100\n",
            "11393/11393 [==============================] - 106s 9ms/step - loss: 1.2440 - accuracy: 0.6117 - val_loss: 2.1624 - val_accuracy: 0.4409\n",
            "Epoch 44/100\n",
            "11393/11393 [==============================] - 103s 9ms/step - loss: 1.2400 - accuracy: 0.6099 - val_loss: 2.2042 - val_accuracy: 0.4412\n",
            "Epoch 45/100\n",
            "11393/11393 [==============================] - 104s 9ms/step - loss: 1.2386 - accuracy: 0.6077 - val_loss: 2.1281 - val_accuracy: 0.4356\n",
            "Epoch 46/100\n",
            "11393/11393 [==============================] - 110s 10ms/step - loss: 1.2291 - accuracy: 0.6156 - val_loss: 2.2956 - val_accuracy: 0.4373\n",
            "Epoch 47/100\n",
            "11393/11393 [==============================] - 104s 9ms/step - loss: 1.2294 - accuracy: 0.6129 - val_loss: 2.2481 - val_accuracy: 0.4409\n",
            "Epoch 48/100\n",
            "11393/11393 [==============================] - 103s 9ms/step - loss: 1.2226 - accuracy: 0.6133 - val_loss: 2.2430 - val_accuracy: 0.4345\n",
            "Epoch 49/100\n",
            "11393/11393 [==============================] - 102s 9ms/step - loss: 1.2154 - accuracy: 0.6145 - val_loss: 2.2712 - val_accuracy: 0.4366\n",
            "Epoch 50/100\n",
            "11393/11393 [==============================] - 106s 9ms/step - loss: 1.2118 - accuracy: 0.6169 - val_loss: 2.2715 - val_accuracy: 0.4419\n",
            "Epoch 51/100\n",
            "11393/11393 [==============================] - 109s 10ms/step - loss: 1.2030 - accuracy: 0.6156 - val_loss: 2.2971 - val_accuracy: 0.4345\n",
            "Epoch 52/100\n",
            "11393/11393 [==============================] - 104s 9ms/step - loss: 1.1944 - accuracy: 0.6210 - val_loss: 2.3133 - val_accuracy: 0.4342\n",
            "Epoch 53/100\n",
            "11393/11393 [==============================] - 108s 9ms/step - loss: 1.1922 - accuracy: 0.6201 - val_loss: 2.3435 - val_accuracy: 0.4335\n",
            "Epoch 54/100\n",
            "11393/11393 [==============================] - 107s 9ms/step - loss: 1.1883 - accuracy: 0.6181 - val_loss: 2.3692 - val_accuracy: 0.4468\n",
            "Epoch 55/100\n",
            "11393/11393 [==============================] - 108s 10ms/step - loss: 1.1849 - accuracy: 0.6224 - val_loss: 2.3988 - val_accuracy: 0.4275\n",
            "Epoch 56/100\n",
            "11393/11393 [==============================] - 109s 10ms/step - loss: 1.1814 - accuracy: 0.6199 - val_loss: 2.4052 - val_accuracy: 0.4377\n",
            "Epoch 57/100\n",
            "11393/11393 [==============================] - 107s 9ms/step - loss: 1.1724 - accuracy: 0.6228 - val_loss: 2.3935 - val_accuracy: 0.4384\n",
            "Epoch 58/100\n",
            "11393/11393 [==============================] - 109s 10ms/step - loss: 1.1745 - accuracy: 0.6242 - val_loss: 2.4947 - val_accuracy: 0.4377\n",
            "Epoch 59/100\n",
            "11393/11393 [==============================] - 108s 9ms/step - loss: 1.1702 - accuracy: 0.6236 - val_loss: 2.4039 - val_accuracy: 0.4289\n",
            "Epoch 60/100\n",
            "11393/11393 [==============================] - 107s 9ms/step - loss: 1.1623 - accuracy: 0.6278 - val_loss: 2.3904 - val_accuracy: 0.4307\n",
            "Epoch 61/100\n",
            "11393/11393 [==============================] - 110s 10ms/step - loss: 1.1732 - accuracy: 0.6234 - val_loss: 2.4741 - val_accuracy: 0.4194\n",
            "Epoch 62/100\n",
            "11393/11393 [==============================] - 107s 9ms/step - loss: 1.1639 - accuracy: 0.6231 - val_loss: 2.3854 - val_accuracy: 0.4230\n",
            "Epoch 63/100\n",
            "11393/11393 [==============================] - 113s 10ms/step - loss: 1.1502 - accuracy: 0.6285 - val_loss: 2.4900 - val_accuracy: 0.4216\n",
            "Epoch 64/100\n",
            "11393/11393 [==============================] - 109s 10ms/step - loss: 1.1495 - accuracy: 0.6294 - val_loss: 2.3913 - val_accuracy: 0.4296\n",
            "Epoch 65/100\n",
            "11393/11393 [==============================] - 110s 10ms/step - loss: 1.1491 - accuracy: 0.6297 - val_loss: 2.4806 - val_accuracy: 0.4156\n",
            "Epoch 66/100\n",
            "11393/11393 [==============================] - 108s 9ms/step - loss: 1.1397 - accuracy: 0.6294 - val_loss: 2.5741 - val_accuracy: 0.4303\n",
            "Epoch 67/100\n",
            "11393/11393 [==============================] - 109s 10ms/step - loss: 1.1316 - accuracy: 0.6321 - val_loss: 2.6833 - val_accuracy: 0.4237\n",
            "Epoch 68/100\n",
            "11393/11393 [==============================] - 110s 10ms/step - loss: 1.1531 - accuracy: 0.6280 - val_loss: 2.5378 - val_accuracy: 0.4328\n",
            "Epoch 69/100\n",
            "11393/11393 [==============================] - 107s 9ms/step - loss: 1.1339 - accuracy: 0.6360 - val_loss: 2.5467 - val_accuracy: 0.4310\n",
            "Epoch 70/100\n",
            "11393/11393 [==============================] - 105s 9ms/step - loss: 1.1313 - accuracy: 0.6280 - val_loss: 2.5304 - val_accuracy: 0.4293\n",
            "Epoch 71/100\n",
            "11393/11393 [==============================] - 108s 9ms/step - loss: 1.1268 - accuracy: 0.6344 - val_loss: 2.5580 - val_accuracy: 0.4261\n",
            "Epoch 72/100\n",
            "11393/11393 [==============================] - 110s 10ms/step - loss: 1.1366 - accuracy: 0.6309 - val_loss: 2.4968 - val_accuracy: 0.4321\n",
            "Epoch 73/100\n",
            "11393/11393 [==============================] - 107s 9ms/step - loss: 1.1294 - accuracy: 0.6317 - val_loss: 2.6110 - val_accuracy: 0.4272\n",
            "Epoch 74/100\n",
            "11393/11393 [==============================] - 107s 9ms/step - loss: 1.1235 - accuracy: 0.6337 - val_loss: 2.6291 - val_accuracy: 0.4268\n",
            "Epoch 75/100\n",
            "11393/11393 [==============================] - 107s 9ms/step - loss: 1.1211 - accuracy: 0.6331 - val_loss: 2.5318 - val_accuracy: 0.4258\n",
            "Epoch 76/100\n",
            "11393/11393 [==============================] - 114s 10ms/step - loss: 1.1156 - accuracy: 0.6364 - val_loss: 2.5811 - val_accuracy: 0.4240\n",
            "Epoch 77/100\n",
            "11393/11393 [==============================] - 108s 9ms/step - loss: 1.1146 - accuracy: 0.6365 - val_loss: 2.6683 - val_accuracy: 0.4233\n",
            "Epoch 78/100\n",
            "11393/11393 [==============================] - 109s 10ms/step - loss: 1.1072 - accuracy: 0.6394 - val_loss: 2.6688 - val_accuracy: 0.4128\n",
            "Epoch 79/100\n",
            "11393/11393 [==============================] - 106s 9ms/step - loss: 1.1147 - accuracy: 0.6381 - val_loss: 2.5618 - val_accuracy: 0.4268\n",
            "Epoch 80/100\n",
            "11393/11393 [==============================] - 110s 10ms/step - loss: 1.1147 - accuracy: 0.6364 - val_loss: 2.5880 - val_accuracy: 0.4191\n",
            "Epoch 81/100\n",
            "11393/11393 [==============================] - 109s 10ms/step - loss: 1.0997 - accuracy: 0.6408 - val_loss: 2.6755 - val_accuracy: 0.4233\n",
            "Epoch 82/100\n",
            "11393/11393 [==============================] - 109s 10ms/step - loss: 1.1109 - accuracy: 0.6343 - val_loss: 2.5626 - val_accuracy: 0.4279\n",
            "Epoch 83/100\n",
            "11393/11393 [==============================] - 109s 10ms/step - loss: 1.1062 - accuracy: 0.6373 - val_loss: 2.6938 - val_accuracy: 0.4100\n",
            "Epoch 84/100\n",
            "11393/11393 [==============================] - 109s 10ms/step - loss: 1.1074 - accuracy: 0.6355 - val_loss: 2.5585 - val_accuracy: 0.4230\n",
            "Epoch 85/100\n",
            "11393/11393 [==============================] - 105s 9ms/step - loss: 1.1082 - accuracy: 0.6407 - val_loss: 2.6328 - val_accuracy: 0.4184\n",
            "Epoch 86/100\n",
            "11393/11393 [==============================] - 102s 9ms/step - loss: 1.1047 - accuracy: 0.6391 - val_loss: 2.5778 - val_accuracy: 0.4275\n",
            "Epoch 87/100\n",
            "11393/11393 [==============================] - 107s 9ms/step - loss: 1.1113 - accuracy: 0.6395 - val_loss: 2.6201 - val_accuracy: 0.4170\n",
            "Epoch 88/100\n",
            "11393/11393 [==============================] - 108s 9ms/step - loss: 1.0996 - accuracy: 0.6378 - val_loss: 2.5836 - val_accuracy: 0.4187\n",
            "Epoch 89/100\n",
            "11393/11393 [==============================] - 106s 9ms/step - loss: 1.0978 - accuracy: 0.6404 - val_loss: 2.6214 - val_accuracy: 0.4135\n",
            "Epoch 90/100\n",
            "11393/11393 [==============================] - 105s 9ms/step - loss: 1.0961 - accuracy: 0.6380 - val_loss: 2.6803 - val_accuracy: 0.4194\n",
            "Epoch 91/100\n",
            "11393/11393 [==============================] - 106s 9ms/step - loss: 1.0946 - accuracy: 0.6419 - val_loss: 2.6853 - val_accuracy: 0.4240\n",
            "Epoch 92/100\n",
            "11393/11393 [==============================] - 107s 9ms/step - loss: 1.0940 - accuracy: 0.6393 - val_loss: 2.7427 - val_accuracy: 0.4159\n",
            "Epoch 93/100\n",
            "11393/11393 [==============================] - 102s 9ms/step - loss: 1.0976 - accuracy: 0.6351 - val_loss: 2.6836 - val_accuracy: 0.4247\n",
            "Epoch 94/100\n",
            "11393/11393 [==============================] - 108s 9ms/step - loss: 1.0889 - accuracy: 0.6444 - val_loss: 2.6919 - val_accuracy: 0.4191\n",
            "Epoch 95/100\n",
            "11393/11393 [==============================] - 110s 10ms/step - loss: 1.0879 - accuracy: 0.6411 - val_loss: 2.5870 - val_accuracy: 0.4212\n",
            "Epoch 96/100\n",
            "11393/11393 [==============================] - 107s 9ms/step - loss: 1.0792 - accuracy: 0.6436 - val_loss: 2.9110 - val_accuracy: 0.4177\n",
            "Epoch 97/100\n",
            "11393/11393 [==============================] - 101s 9ms/step - loss: 1.0901 - accuracy: 0.6406 - val_loss: 2.7443 - val_accuracy: 0.4121\n",
            "Epoch 98/100\n",
            "11393/11393 [==============================] - 108s 9ms/step - loss: 1.0893 - accuracy: 0.6451 - val_loss: 2.8054 - val_accuracy: 0.4198\n",
            "Epoch 99/100\n",
            "11393/11393 [==============================] - 108s 9ms/step - loss: 1.0876 - accuracy: 0.6443 - val_loss: 2.7723 - val_accuracy: 0.4124\n",
            "Epoch 100/100\n",
            "11393/11393 [==============================] - 104s 9ms/step - loss: 1.0884 - accuracy: 0.6480 - val_loss: 2.7257 - val_accuracy: 0.4180\n"
          ]
        }
      ]
    },
    {
      "cell_type": "code",
      "source": [
        "test_set_X[[0]]"
      ],
      "metadata": {
        "colab": {
          "base_uri": "https://localhost:8080/"
        },
        "id": "o-Zb7qMKS94Q",
        "outputId": "c92f0013-7c1f-4989-81ac-035ec88acd34"
      },
      "execution_count": 15,
      "outputs": [
        {
          "output_type": "execute_result",
          "data": {
            "text/plain": [
              "array([[ 5,  6,  4, 15]])"
            ]
          },
          "metadata": {},
          "execution_count": 15
        }
      ]
    },
    {
      "cell_type": "code",
      "source": [
        "predictions = model.predict(test_set_X[[200]])\n",
        "\n",
        "# Display the predictions\n",
        "print(\"Raw predictions:\\n\", predictions)\n"
      ],
      "metadata": {
        "colab": {
          "base_uri": "https://localhost:8080/"
        },
        "id": "D_cImV3xRhbR",
        "outputId": "80f4d478-cf77-49e3-a00a-ec28f14cf609"
      },
      "execution_count": 16,
      "outputs": [
        {
          "output_type": "stream",
          "name": "stdout",
          "text": [
            "1/1 [==============================] - 1s 1s/step\n",
            "Raw predictions:\n",
            " [[0.04761798 0.04762038 0.04761436 0.04761508 0.04762231 0.04762925\n",
            "  0.04761532 0.04761988 0.04761911 0.04761869 0.04761558 0.04762012\n",
            "  0.04762014 0.04761317 0.04761313 0.04762087 0.04761694 0.04762205\n",
            "  0.04762086 0.04761886 0.04762595]]\n"
          ]
        }
      ]
    },
    {
      "cell_type": "code",
      "source": [
        "test_set_y[200]"
      ],
      "metadata": {
        "colab": {
          "base_uri": "https://localhost:8080/"
        },
        "id": "aIeNTNDLSuWf",
        "outputId": "a8d4cc23-7457-465f-812a-480ca06e55c0"
      },
      "execution_count": 17,
      "outputs": [
        {
          "output_type": "execute_result",
          "data": {
            "text/plain": [
              "20"
            ]
          },
          "metadata": {},
          "execution_count": 17
        }
      ]
    },
    {
      "cell_type": "code",
      "source": [
        "# Convert probabilities to class labels\n",
        "predicted_classes = np.argmax(predictions, axis=-1)\n",
        "\n",
        "# Display the predicted class labels\n",
        "print(\"Predicted class labels:\\n\", predicted_classes)"
      ],
      "metadata": {
        "colab": {
          "base_uri": "https://localhost:8080/"
        },
        "id": "sX7W4tUPRxgO",
        "outputId": "93f06834-85a9-4723-92e0-47f8160d2c6c"
      },
      "execution_count": 18,
      "outputs": [
        {
          "output_type": "stream",
          "name": "stdout",
          "text": [
            "Predicted class labels:\n",
            " [5]\n"
          ]
        }
      ]
    },
    {
      "cell_type": "code",
      "source": [
        "# Evaluate the model on the test data\n",
        "test_loss, test_accuracy = model.evaluate(test_set_X, test_set_y)\n"
      ],
      "metadata": {
        "colab": {
          "base_uri": "https://localhost:8080/"
        },
        "id": "HDguXpdWQgXM",
        "outputId": "7cf77e36-0549-4978-fb89-9bd134dee7c7"
      },
      "execution_count": 19,
      "outputs": [
        {
          "output_type": "stream",
          "name": "stdout",
          "text": [
            "112/112 [==============================] - 3s 4ms/step - loss: 3.0445 - accuracy: 0.0938\n"
          ]
        }
      ]
    },
    {
      "cell_type": "code",
      "source": [
        "print(f'Test Loss: {test_loss}')\n",
        "print(f'Test Accuracy: {test_accuracy}')"
      ],
      "metadata": {
        "colab": {
          "base_uri": "https://localhost:8080/"
        },
        "id": "BnFXclp-RQyo",
        "outputId": "8215ce1d-b631-4234-9797-54d892ebf9e1"
      },
      "execution_count": 20,
      "outputs": [
        {
          "output_type": "stream",
          "name": "stdout",
          "text": [
            "Test Loss: 3.0444846153259277\n",
            "Test Accuracy: 0.09382022172212601\n"
          ]
        }
      ]
    },
    {
      "cell_type": "code",
      "source": [
        "import pickle\n",
        "import matplotlib.pyplot as plt\n",
        "\n",
        "# Load the history object\n",
        "with open('/content/drive/My Drive/training_history.pkl', 'rb') as file:\n",
        "    history = pickle.load(file)\n",
        "\n",
        "# Check if 'history' is a dictionary\n",
        "print(type(history))  # Should output: <class 'dict'>\n",
        "\n",
        "# Plot the training history\n",
        "plt.figure(figsize=(12, 6))\n",
        "\n",
        "# Plot training & validation accuracy values\n",
        "plt.subplot(1, 2, 1)\n",
        "plt.plot(history['accuracy'], label='Training Accuracy')\n",
        "plt.plot(history['val_accuracy'], label='Validation Accuracy')\n",
        "plt.title('Model Accuracy')\n",
        "plt.ylabel('Accuracy')\n",
        "plt.xlabel('Epoch')\n",
        "plt.legend(loc='upper left')\n",
        "\n",
        "# Plot training & validation loss values\n",
        "plt.subplot(1, 2, 2)\n",
        "plt.plot(history['loss'], label='Training Loss')\n",
        "plt.plot(history['val_loss'], label='Validation Loss')\n",
        "plt.title('Model Loss')\n",
        "plt.ylabel('Loss')\n",
        "plt.xlabel('Epoch')\n",
        "plt.legend(loc='upper left')\n",
        "\n",
        "plt.show()"
      ],
      "metadata": {
        "colab": {
          "base_uri": "https://localhost:8080/",
          "height": 582
        },
        "id": "DfljMQteuuTd",
        "outputId": "1f5edc6a-a2bc-4613-9048-8b08d42937df"
      },
      "execution_count": 21,
      "outputs": [
        {
          "output_type": "stream",
          "name": "stdout",
          "text": [
            "<class 'dict'>\n"
          ]
        },
        {
          "output_type": "display_data",
          "data": {
            "text/plain": [
              "<Figure size 1200x600 with 2 Axes>"
            ],
            "image/png": "[encoded data removed]"
          },
          "metadata": {}
        }
      ]
    }
  ]
}