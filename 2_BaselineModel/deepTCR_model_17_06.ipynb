{
  "nbformat": 4,
  "nbformat_minor": 0,
  "metadata": {
    "colab": {
      "provenance": []
    },
    "kernelspec": {
      "name": "python3",
      "display_name": "Python 3"
    },
    "language_info": {
      "name": "python"
    }
  },
  "cells": [
    {
      "cell_type": "code",
      "source": [
        "import tensorflow as tf\n",
        "import numpy as np\n",
        "import pandas as pd\n"
      ],
      "metadata": {
        "id": "O6cJZlcYd_a6"
      },
      "execution_count": 3,
      "outputs": []
    },
    {
      "cell_type": "code",
      "source": [
        "file_path = 'MS_01_T0_TCRB.tsv'\n",
        "# Read the CSV file\n",
        "df = pd.read_csv(file_path, sep = \"\\t\")"
      ],
      "metadata": {
        "id": "UU1ABLENd_AV"
      },
      "execution_count": 15,
      "outputs": []
    },
    {
      "cell_type": "code",
      "source": [
        "df = df.dropna(subset=['aminoAcid'])"
      ],
      "metadata": {
        "id": "5c0IEFdid-st"
      },
      "execution_count": 16,
      "outputs": []
    },
    {
      "cell_type": "code",
      "source": [
        "df.to_csv('MS_wo_na_all.csv', index=False)"
      ],
      "metadata": {
        "id": "e2RqvPuUkEdn"
      },
      "execution_count": 17,
      "outputs": []
    },
    {
      "cell_type": "code",
      "source": [
        "y = df[~df['aminoAcid'].astype(str).str.contains(r'\\*')]"
      ],
      "metadata": {
        "id": "B3J87M92nnqi"
      },
      "execution_count": 18,
      "outputs": []
    },
    {
      "cell_type": "code",
      "source": [
        "y = df[\"aminoAcid\"].tolist()"
      ],
      "metadata": {
        "id": "S44JhldMcswO"
      },
      "execution_count": 29,
      "outputs": []
    },
    {
      "cell_type": "code",
      "source": [
        "# Apply align_imgt to each sequence and create a DataFrame\n",
        "aligned_sequences = [align_imgt(seq) for seq in y]\n",
        "df_aligned = pd.DataFrame(aligned_sequences)\n",
        "df_aligned"
      ],
      "metadata": {
        "colab": {
          "base_uri": "https://localhost:8080/",
          "height": 424
        },
        "id": "YIcvxBAGczhv",
        "outputId": "6eb41a02-e87d-460f-e879-1f8aea63922e"
      },
      "execution_count": 31,
      "outputs": [
        {
          "output_type": "execute_result",
          "data": {
            "text/plain": [
              "      P104 P105 P106 P107 P108 P109 P110 P111 P111.1 P112.2 P112.1 P112 P113  \\\n",
              "0        C    A    S    P    M    V   NA   NA     NA     NA     NA   NA   NA   \n",
              "1        C    A    S    S    F    G    S    T     NA     NA      Y    S    N   \n",
              "2        C    A    S    S    S    P    P    L      D      S      S    S    I   \n",
              "3        C    A    S    S    L    A    G    T     NA     NA     NA    P    Y   \n",
              "4        C    A    S    S    Q    A    R    G     NA     NA     NA    P    A   \n",
              "...    ...  ...  ...  ...  ...  ...  ...  ...    ...    ...    ...  ...  ...   \n",
              "17797    C    A    S    S    L    V    T    S      G      R      V    F    G   \n",
              "17798    C    A    S    S    F    G    S   NA     NA     NA     NA   NA    Y   \n",
              "17799    C    A    S    S    H    G    E    T     NA     NA     NA    S    T   \n",
              "17800    C    A    S    S    Q    E    E    R      G     NA      Y    S    N   \n",
              "17801    C    A    S    S    L    A   NA   NA     NA     NA     NA   NA    I   \n",
              "\n",
              "      P114 P115 P116 P117 P118  \n",
              "0        H    G    Y    T    F  \n",
              "1        Q    P    Q    H    F  \n",
              "2        R    N    T    E    A  \n",
              "3        N    E    Q    F    F  \n",
              "4        T    E    A    F    F  \n",
              "...    ...  ...  ...  ...  ...  \n",
              "17797    N    E    Q    F    F  \n",
              "17798    N    E    Q    F    F  \n",
              "17799    D    T    Q    Y    F  \n",
              "17800    Q    P    Q    H    F  \n",
              "17801    N    E    Q    F    F  \n",
              "\n",
              "[17802 rows x 18 columns]"
            ],
            "text/html": [
              "\n",
              "  <div id=\"df-d41efe25-44dc-429d-8c75-e9c3415f678e\" class=\"colab-df-container\">\n",
              "    <div>\n",
              "<style scoped>\n",
              "    .dataframe tbody tr th:only-of-type {\n",
              "        vertical-align: middle;\n",
              "    }\n",
              "\n",
              "    .dataframe tbody tr th {\n",
              "        vertical-align: top;\n",
              "    }\n",
              "\n",
              "    .dataframe thead th {\n",
              "        text-align: right;\n",
              "    }\n",
              "</style>\n",
              "<table border=\"1\" class=\"dataframe\">\n",
              "  <thead>\n",
              "    <tr style=\"text-align: right;\">\n",
              "      <th></th>\n",
              "      <th>P104</th>\n",
              "      <th>P105</th>\n",
              "      <th>P106</th>\n",
              "      <th>P107</th>\n",
              "      <th>P108</th>\n",
              "      <th>P109</th>\n",
              "      <th>P110</th>\n",
              "      <th>P111</th>\n",
              "      <th>P111.1</th>\n",
              "      <th>P112.2</th>\n",
              "      <th>P112.1</th>\n",
              "      <th>P112</th>\n",
              "      <th>P113</th>\n",
              "      <th>P114</th>\n",
              "      <th>P115</th>\n",
              "      <th>P116</th>\n",
              "      <th>P117</th>\n",
              "      <th>P118</th>\n",
              "    </tr>\n",
              "  </thead>\n",
              "  <tbody>\n",
              "    <tr>\n",
              "      <th>0</th>\n",
              "      <td>C</td>\n",
              "      <td>A</td>\n",
              "      <td>S</td>\n",
              "      <td>P</td>\n",
              "      <td>M</td>\n",
              "      <td>V</td>\n",
              "      <td>NA</td>\n",
              "      <td>NA</td>\n",
              "      <td>NA</td>\n",
              "      <td>NA</td>\n",
              "      <td>NA</td>\n",
              "      <td>NA</td>\n",
              "      <td>NA</td>\n",
              "      <td>H</td>\n",
              "      <td>G</td>\n",
              "      <td>Y</td>\n",
              "      <td>T</td>\n",
              "      <td>F</td>\n",
              "    </tr>\n",
              "    <tr>\n",
              "      <th>1</th>\n",
              "      <td>C</td>\n",
              "      <td>A</td>\n",
              "      <td>S</td>\n",
              "      <td>S</td>\n",
              "      <td>F</td>\n",
              "      <td>G</td>\n",
              "      <td>S</td>\n",
              "      <td>T</td>\n",
              "      <td>NA</td>\n",
              "      <td>NA</td>\n",
              "      <td>Y</td>\n",
              "      <td>S</td>\n",
              "      <td>N</td>\n",
              "      <td>Q</td>\n",
              "      <td>P</td>\n",
              "      <td>Q</td>\n",
              "      <td>H</td>\n",
              "      <td>F</td>\n",
              "    </tr>\n",
              "    <tr>\n",
              "      <th>2</th>\n",
              "      <td>C</td>\n",
              "      <td>A</td>\n",
              "      <td>S</td>\n",
              "      <td>S</td>\n",
              "      <td>S</td>\n",
              "      <td>P</td>\n",
              "      <td>P</td>\n",
              "      <td>L</td>\n",
              "      <td>D</td>\n",
              "      <td>S</td>\n",
              "      <td>S</td>\n",
              "      <td>S</td>\n",
              "      <td>I</td>\n",
              "      <td>R</td>\n",
              "      <td>N</td>\n",
              "      <td>T</td>\n",
              "      <td>E</td>\n",
              "      <td>A</td>\n",
              "    </tr>\n",
              "    <tr>\n",
              "      <th>3</th>\n",
              "      <td>C</td>\n",
              "      <td>A</td>\n",
              "      <td>S</td>\n",
              "      <td>S</td>\n",
              "      <td>L</td>\n",
              "      <td>A</td>\n",
              "      <td>G</td>\n",
              "      <td>T</td>\n",
              "      <td>NA</td>\n",
              "      <td>NA</td>\n",
              "      <td>NA</td>\n",
              "      <td>P</td>\n",
              "      <td>Y</td>\n",
              "      <td>N</td>\n",
              "      <td>E</td>\n",
              "      <td>Q</td>\n",
              "      <td>F</td>\n",
              "      <td>F</td>\n",
              "    </tr>\n",
              "    <tr>\n",
              "      <th>4</th>\n",
              "      <td>C</td>\n",
              "      <td>A</td>\n",
              "      <td>S</td>\n",
              "      <td>S</td>\n",
              "      <td>Q</td>\n",
              "      <td>A</td>\n",
              "      <td>R</td>\n",
              "      <td>G</td>\n",
              "      <td>NA</td>\n",
              "      <td>NA</td>\n",
              "      <td>NA</td>\n",
              "      <td>P</td>\n",
              "      <td>A</td>\n",
              "      <td>T</td>\n",
              "      <td>E</td>\n",
              "      <td>A</td>\n",
              "      <td>F</td>\n",
              "      <td>F</td>\n",
              "    </tr>\n",
              "    <tr>\n",
              "      <th>...</th>\n",
              "      <td>...</td>\n",
              "      <td>...</td>\n",
              "      <td>...</td>\n",
              "      <td>...</td>\n",
              "      <td>...</td>\n",
              "      <td>...</td>\n",
              "      <td>...</td>\n",
              "      <td>...</td>\n",
              "      <td>...</td>\n",
              "      <td>...</td>\n",
              "      <td>...</td>\n",
              "      <td>...</td>\n",
              "      <td>...</td>\n",
              "      <td>...</td>\n",
              "      <td>...</td>\n",
              "      <td>...</td>\n",
              "      <td>...</td>\n",
              "      <td>...</td>\n",
              "    </tr>\n",
              "    <tr>\n",
              "      <th>17797</th>\n",
              "      <td>C</td>\n",
              "      <td>A</td>\n",
              "      <td>S</td>\n",
              "      <td>S</td>\n",
              "      <td>L</td>\n",
              "      <td>V</td>\n",
              "      <td>T</td>\n",
              "      <td>S</td>\n",
              "      <td>G</td>\n",
              "      <td>R</td>\n",
              "      <td>V</td>\n",
              "      <td>F</td>\n",
              "      <td>G</td>\n",
              "      <td>N</td>\n",
              "      <td>E</td>\n",
              "      <td>Q</td>\n",
              "      <td>F</td>\n",
              "      <td>F</td>\n",
              "    </tr>\n",
              "    <tr>\n",
              "      <th>17798</th>\n",
              "      <td>C</td>\n",
              "      <td>A</td>\n",
              "      <td>S</td>\n",
              "      <td>S</td>\n",
              "      <td>F</td>\n",
              "      <td>G</td>\n",
              "      <td>S</td>\n",
              "      <td>NA</td>\n",
              "      <td>NA</td>\n",
              "      <td>NA</td>\n",
              "      <td>NA</td>\n",
              "      <td>NA</td>\n",
              "      <td>Y</td>\n",
              "      <td>N</td>\n",
              "      <td>E</td>\n",
              "      <td>Q</td>\n",
              "      <td>F</td>\n",
              "      <td>F</td>\n",
              "    </tr>\n",
              "    <tr>\n",
              "      <th>17799</th>\n",
              "      <td>C</td>\n",
              "      <td>A</td>\n",
              "      <td>S</td>\n",
              "      <td>S</td>\n",
              "      <td>H</td>\n",
              "      <td>G</td>\n",
              "      <td>E</td>\n",
              "      <td>T</td>\n",
              "      <td>NA</td>\n",
              "      <td>NA</td>\n",
              "      <td>NA</td>\n",
              "      <td>S</td>\n",
              "      <td>T</td>\n",
              "      <td>D</td>\n",
              "      <td>T</td>\n",
              "      <td>Q</td>\n",
              "      <td>Y</td>\n",
              "      <td>F</td>\n",
              "    </tr>\n",
              "    <tr>\n",
              "      <th>17800</th>\n",
              "      <td>C</td>\n",
              "      <td>A</td>\n",
              "      <td>S</td>\n",
              "      <td>S</td>\n",
              "      <td>Q</td>\n",
              "      <td>E</td>\n",
              "      <td>E</td>\n",
              "      <td>R</td>\n",
              "      <td>G</td>\n",
              "      <td>NA</td>\n",
              "      <td>Y</td>\n",
              "      <td>S</td>\n",
              "      <td>N</td>\n",
              "      <td>Q</td>\n",
              "      <td>P</td>\n",
              "      <td>Q</td>\n",
              "      <td>H</td>\n",
              "      <td>F</td>\n",
              "    </tr>\n",
              "    <tr>\n",
              "      <th>17801</th>\n",
              "      <td>C</td>\n",
              "      <td>A</td>\n",
              "      <td>S</td>\n",
              "      <td>S</td>\n",
              "      <td>L</td>\n",
              "      <td>A</td>\n",
              "      <td>NA</td>\n",
              "      <td>NA</td>\n",
              "      <td>NA</td>\n",
              "      <td>NA</td>\n",
              "      <td>NA</td>\n",
              "      <td>NA</td>\n",
              "      <td>I</td>\n",
              "      <td>N</td>\n",
              "      <td>E</td>\n",
              "      <td>Q</td>\n",
              "      <td>F</td>\n",
              "      <td>F</td>\n",
              "    </tr>\n",
              "  </tbody>\n",
              "</table>\n",
              "<p>17802 rows × 18 columns</p>\n",
              "</div>\n",
              "    <div class=\"colab-df-buttons\">\n",
              "\n",
              "  <div class=\"colab-df-container\">\n",
              "    <button class=\"colab-df-convert\" onclick=\"convertToInteractive('df-d41efe25-44dc-429d-8c75-e9c3415f678e')\"\n",
              "            title=\"Convert this dataframe to an interactive table.\"\n",
              "            style=\"display:none;\">\n",
              "\n",
              "  <svg xmlns=\"http://www.w3.org/2000/svg\" height=\"24px\" viewBox=\"0 -960 960 960\">\n",
              "    <path d=\"M120-120v-720h720v720H120Zm60-500h600v-160H180v160Zm220 220h160v-160H400v160Zm0 220h160v-160H400v160ZM180-400h160v-160H180v160Zm440 0h160v-160H620v160ZM180-180h160v-160H180v160Zm440 0h160v-160H620v160Z\"/>\n",
              "  </svg>\n",
              "    </button>\n",
              "\n",
              "  <style>\n",
              "    .colab-df-container {\n",
              "      display:flex;\n",
              "      gap: 12px;\n",
              "    }\n",
              "\n",
              "    .colab-df-convert {\n",
              "      background-color: #E8F0FE;\n",
              "      border: none;\n",
              "      border-radius: 50%;\n",
              "      cursor: pointer;\n",
              "      display: none;\n",
              "      fill: #1967D2;\n",
              "      height: 32px;\n",
              "      padding: 0 0 0 0;\n",
              "      width: 32px;\n",
              "    }\n",
              "\n",
              "    .colab-df-convert:hover {\n",
              "      background-color: #E2EBFA;\n",
              "      box-shadow: 0px 1px 2px rgba(60, 64, 67, 0.3), 0px 1px 3px 1px rgba(60, 64, 67, 0.15);\n",
              "      fill: #174EA6;\n",
              "    }\n",
              "\n",
              "    .colab-df-buttons div {\n",
              "      margin-bottom: 4px;\n",
              "    }\n",
              "\n",
              "    [theme=dark] .colab-df-convert {\n",
              "      background-color: #3B4455;\n",
              "      fill: #D2E3FC;\n",
              "    }\n",
              "\n",
              "    [theme=dark] .colab-df-convert:hover {\n",
              "      background-color: #434B5C;\n",
              "      box-shadow: 0px 1px 3px 1px rgba(0, 0, 0, 0.15);\n",
              "      filter: drop-shadow(0px 1px 2px rgba(0, 0, 0, 0.3));\n",
              "      fill: #FFFFFF;\n",
              "    }\n",
              "  </style>\n",
              "\n",
              "    <script>\n",
              "      const buttonEl =\n",
              "        document.querySelector('#df-d41efe25-44dc-429d-8c75-e9c3415f678e button.colab-df-convert');\n",
              "      buttonEl.style.display =\n",
              "        google.colab.kernel.accessAllowed ? 'block' : 'none';\n",
              "\n",
              "      async function convertToInteractive(key) {\n",
              "        const element = document.querySelector('#df-d41efe25-44dc-429d-8c75-e9c3415f678e');\n",
              "        const dataTable =\n",
              "          await google.colab.kernel.invokeFunction('convertToInteractive',\n",
              "                                                    [key], {});\n",
              "        if (!dataTable) return;\n",
              "\n",
              "        const docLinkHtml = 'Like what you see? Visit the ' +\n",
              "          '<a target=\"_blank\" href=https://colab.research.google.com/notebooks/data_table.ipynb>data table notebook</a>'\n",
              "          + ' to learn more about interactive tables.';\n",
              "        element.innerHTML = '';\n",
              "        dataTable['output_type'] = 'display_data';\n",
              "        await google.colab.output.renderOutput(dataTable, element);\n",
              "        const docLink = document.createElement('div');\n",
              "        docLink.innerHTML = docLinkHtml;\n",
              "        element.appendChild(docLink);\n",
              "      }\n",
              "    </script>\n",
              "  </div>\n",
              "\n",
              "\n",
              "<div id=\"df-a8f586c7-d5aa-490a-870c-afc717ba1c9c\">\n",
              "  <button class=\"colab-df-quickchart\" onclick=\"quickchart('df-a8f586c7-d5aa-490a-870c-afc717ba1c9c')\"\n",
              "            title=\"Suggest charts\"\n",
              "            style=\"display:none;\">\n",
              "\n",
              "<svg xmlns=\"http://www.w3.org/2000/svg\" height=\"24px\"viewBox=\"0 0 24 24\"\n",
              "     width=\"24px\">\n",
              "    <g>\n",
              "        <path d=\"M19 3H5c-1.1 0-2 .9-2 2v14c0 1.1.9 2 2 2h14c1.1 0 2-.9 2-2V5c0-1.1-.9-2-2-2zM9 17H7v-7h2v7zm4 0h-2V7h2v10zm4 0h-2v-4h2v4z\"/>\n",
              "    </g>\n",
              "</svg>\n",
              "  </button>\n",
              "\n",
              "<style>\n",
              "  .colab-df-quickchart {\n",
              "      --bg-color: #E8F0FE;\n",
              "      --fill-color: #1967D2;\n",
              "      --hover-bg-color: #E2EBFA;\n",
              "      --hover-fill-color: #174EA6;\n",
              "      --disabled-fill-color: #AAA;\n",
              "      --disabled-bg-color: #DDD;\n",
              "  }\n",
              "\n",
              "  [theme=dark] .colab-df-quickchart {\n",
              "      --bg-color: #3B4455;\n",
              "      --fill-color: #D2E3FC;\n",
              "      --hover-bg-color: #434B5C;\n",
              "      --hover-fill-color: #FFFFFF;\n",
              "      --disabled-bg-color: #3B4455;\n",
              "      --disabled-fill-color: #666;\n",
              "  }\n",
              "\n",
              "  .colab-df-quickchart {\n",
              "    background-color: var(--bg-color);\n",
              "    border: none;\n",
              "    border-radius: 50%;\n",
              "    cursor: pointer;\n",
              "    display: none;\n",
              "    fill: var(--fill-color);\n",
              "    height: 32px;\n",
              "    padding: 0;\n",
              "    width: 32px;\n",
              "  }\n",
              "\n",
              "  .colab-df-quickchart:hover {\n",
              "    background-color: var(--hover-bg-color);\n",
              "    box-shadow: 0 1px 2px rgba(60, 64, 67, 0.3), 0 1px 3px 1px rgba(60, 64, 67, 0.15);\n",
              "    fill: var(--button-hover-fill-color);\n",
              "  }\n",
              "\n",
              "  .colab-df-quickchart-complete:disabled,\n",
              "  .colab-df-quickchart-complete:disabled:hover {\n",
              "    background-color: var(--disabled-bg-color);\n",
              "    fill: var(--disabled-fill-color);\n",
              "    box-shadow: none;\n",
              "  }\n",
              "\n",
              "  .colab-df-spinner {\n",
              "    border: 2px solid var(--fill-color);\n",
              "    border-color: transparent;\n",
              "    border-bottom-color: var(--fill-color);\n",
              "    animation:\n",
              "      spin 1s steps(1) infinite;\n",
              "  }\n",
              "\n",
              "  @keyframes spin {\n",
              "    0% {\n",
              "      border-color: transparent;\n",
              "      border-bottom-color: var(--fill-color);\n",
              "      border-left-color: var(--fill-color);\n",
              "    }\n",
              "    20% {\n",
              "      border-color: transparent;\n",
              "      border-left-color: var(--fill-color);\n",
              "      border-top-color: var(--fill-color);\n",
              "    }\n",
              "    30% {\n",
              "      border-color: transparent;\n",
              "      border-left-color: var(--fill-color);\n",
              "      border-top-color: var(--fill-color);\n",
              "      border-right-color: var(--fill-color);\n",
              "    }\n",
              "    40% {\n",
              "      border-color: transparent;\n",
              "      border-right-color: var(--fill-color);\n",
              "      border-top-color: var(--fill-color);\n",
              "    }\n",
              "    60% {\n",
              "      border-color: transparent;\n",
              "      border-right-color: var(--fill-color);\n",
              "    }\n",
              "    80% {\n",
              "      border-color: transparent;\n",
              "      border-right-color: var(--fill-color);\n",
              "      border-bottom-color: var(--fill-color);\n",
              "    }\n",
              "    90% {\n",
              "      border-color: transparent;\n",
              "      border-bottom-color: var(--fill-color);\n",
              "    }\n",
              "  }\n",
              "</style>\n",
              "\n",
              "  <script>\n",
              "    async function quickchart(key) {\n",
              "      const quickchartButtonEl =\n",
              "        document.querySelector('#' + key + ' button');\n",
              "      quickchartButtonEl.disabled = true;  // To prevent multiple clicks.\n",
              "      quickchartButtonEl.classList.add('colab-df-spinner');\n",
              "      try {\n",
              "        const charts = await google.colab.kernel.invokeFunction(\n",
              "            'suggestCharts', [key], {});\n",
              "      } catch (error) {\n",
              "        console.error('Error during call to suggestCharts:', error);\n",
              "      }\n",
              "      quickchartButtonEl.classList.remove('colab-df-spinner');\n",
              "      quickchartButtonEl.classList.add('colab-df-quickchart-complete');\n",
              "    }\n",
              "    (() => {\n",
              "      let quickchartButtonEl =\n",
              "        document.querySelector('#df-a8f586c7-d5aa-490a-870c-afc717ba1c9c button');\n",
              "      quickchartButtonEl.style.display =\n",
              "        google.colab.kernel.accessAllowed ? 'block' : 'none';\n",
              "    })();\n",
              "  </script>\n",
              "</div>\n",
              "    </div>\n",
              "  </div>\n"
            ],
            "application/vnd.google.colaboratory.intrinsic+json": {
              "type": "dataframe",
              "variable_name": "df_aligned",
              "summary": "{\n  \"name\": \"df_aligned\",\n  \"rows\": 17802,\n  \"fields\": [\n    {\n      \"column\": \"P104\",\n      \"properties\": {\n        \"dtype\": \"category\",\n        \"num_unique_values\": 11,\n        \"samples\": [\n          \"S\",\n          \"C\",\n          \"A\"\n        ],\n        \"semantic_type\": \"\",\n        \"description\": \"\"\n      }\n    },\n    {\n      \"column\": \"P105\",\n      \"properties\": {\n        \"dtype\": \"category\",\n        \"num_unique_values\": 16,\n        \"samples\": [\n          \"A\",\n          \"S\",\n          \"G\"\n        ],\n        \"semantic_type\": \"\",\n        \"description\": \"\"\n      }\n    },\n    {\n      \"column\": \"P106\",\n      \"properties\": {\n        \"dtype\": \"category\",\n        \"num_unique_values\": 21,\n        \"samples\": [\n          \"S\",\n          \"K\",\n          \"F\"\n        ],\n        \"semantic_type\": \"\",\n        \"description\": \"\"\n      }\n    },\n    {\n      \"column\": \"P107\",\n      \"properties\": {\n        \"dtype\": \"category\",\n        \"num_unique_values\": 22,\n        \"samples\": [\n          \"P\",\n          \"Q\",\n          \"I\"\n        ],\n        \"semantic_type\": \"\",\n        \"description\": \"\"\n      }\n    },\n    {\n      \"column\": \"P108\",\n      \"properties\": {\n        \"dtype\": \"category\",\n        \"num_unique_values\": 22,\n        \"samples\": [\n          \"M\",\n          \"G\",\n          \"H\"\n        ],\n        \"semantic_type\": \"\",\n        \"description\": \"\"\n      }\n    },\n    {\n      \"column\": \"P109\",\n      \"properties\": {\n        \"dtype\": \"category\",\n        \"num_unique_values\": 22,\n        \"samples\": [\n          \"V\",\n          \"T\",\n          \"NA\"\n        ],\n        \"semantic_type\": \"\",\n        \"description\": \"\"\n      }\n    },\n    {\n      \"column\": \"P110\",\n      \"properties\": {\n        \"dtype\": \"category\",\n        \"num_unique_values\": 22,\n        \"samples\": [\n          \"NA\",\n          \"Y\",\n          \"D\"\n        ],\n        \"semantic_type\": \"\",\n        \"description\": \"\"\n      }\n    },\n    {\n      \"column\": \"P111\",\n      \"properties\": {\n        \"dtype\": \"category\",\n        \"num_unique_values\": 22,\n        \"samples\": [\n          \"NA\",\n          \"Y\",\n          \"R\"\n        ],\n        \"semantic_type\": \"\",\n        \"description\": \"\"\n      }\n    },\n    {\n      \"column\": \"P111.1\",\n      \"properties\": {\n        \"dtype\": \"category\",\n        \"num_unique_values\": 22,\n        \"samples\": [\n          \"NA\",\n          \"N\",\n          \"Y\"\n        ],\n        \"semantic_type\": \"\",\n        \"description\": \"\"\n      }\n    },\n    {\n      \"column\": \"P112.2\",\n      \"properties\": {\n        \"dtype\": \"category\",\n        \"num_unique_values\": 21,\n        \"samples\": [\n          \"NA\",\n          \"K\",\n          \"*\"\n        ],\n        \"semantic_type\": \"\",\n        \"description\": \"\"\n      }\n    },\n    {\n      \"column\": \"P112.1\",\n      \"properties\": {\n        \"dtype\": \"category\",\n        \"num_unique_values\": 22,\n        \"samples\": [\n          \"NA\",\n          \"K\",\n          \"Q\"\n        ],\n        \"semantic_type\": \"\",\n        \"description\": \"\"\n      }\n    },\n    {\n      \"column\": \"P112\",\n      \"properties\": {\n        \"dtype\": \"category\",\n        \"num_unique_values\": 22,\n        \"samples\": [\n          \"NA\",\n          \"H\",\n          \"L\"\n        ],\n        \"semantic_type\": \"\",\n        \"description\": \"\"\n      }\n    },\n    {\n      \"column\": \"P113\",\n      \"properties\": {\n        \"dtype\": \"category\",\n        \"num_unique_values\": 22,\n        \"samples\": [\n          \"NA\",\n          \"W\",\n          \"G\"\n        ],\n        \"semantic_type\": \"\",\n        \"description\": \"\"\n      }\n    },\n    {\n      \"column\": \"P114\",\n      \"properties\": {\n        \"dtype\": \"category\",\n        \"num_unique_values\": 22,\n        \"samples\": [\n          \"H\",\n          \"V\",\n          \"G\"\n        ],\n        \"semantic_type\": \"\",\n        \"description\": \"\"\n      }\n    },\n    {\n      \"column\": \"P115\",\n      \"properties\": {\n        \"dtype\": \"category\",\n        \"num_unique_values\": 22,\n        \"samples\": [\n          \"G\",\n          \"D\",\n          \"K\"\n        ],\n        \"semantic_type\": \"\",\n        \"description\": \"\"\n      }\n    },\n    {\n      \"column\": \"P116\",\n      \"properties\": {\n        \"dtype\": \"category\",\n        \"num_unique_values\": 22,\n        \"samples\": [\n          \"Y\",\n          \"K\",\n          \"V\"\n        ],\n        \"semantic_type\": \"\",\n        \"description\": \"\"\n      }\n    },\n    {\n      \"column\": \"P117\",\n      \"properties\": {\n        \"dtype\": \"category\",\n        \"num_unique_values\": 19,\n        \"samples\": [\n          \"T\",\n          \"Q\",\n          \"L\"\n        ],\n        \"semantic_type\": \"\",\n        \"description\": \"\"\n      }\n    },\n    {\n      \"column\": \"P118\",\n      \"properties\": {\n        \"dtype\": \"category\",\n        \"num_unique_values\": 17,\n        \"samples\": [\n          \"F\",\n          \"A\",\n          \"Y\"\n        ],\n        \"semantic_type\": \"\",\n        \"description\": \"\"\n      }\n    }\n  ]\n}"
            }
          },
          "metadata": {},
          "execution_count": 31
        }
      ]
    },
    {
      "cell_type": "code",
      "source": [
        "all_imgt_pos = [\n",
        "    \"P104\", \"P105\", \"P106\", \"P107\", \"P108\", \"P109\", \"P110\", \"P111\",\n",
        "    \"P111.1\", \"P112.2\", \"P112.1\", \"P112\", \"P113\", \"P114\", \"P115\",\n",
        "    \"P116\", \"P117\", \"P118\"]\n",
        "\n",
        "# Custom function to align CDR3 AA seq to IMGT\n",
        "def align_imgt(CDR3):\n",
        "    # Convert the string to a list of characters\n",
        "    AA = list(CDR3)\n",
        "\n",
        "    # Calculate the forward count\n",
        "    N_AA_fow = len(CDR3) // 2 + len(CDR3) % 2\n",
        "\n",
        "    # Calculate the number of NA positions\n",
        "    N_AA_na = 18 - len(CDR3)\n",
        "\n",
        "    # Adjust the list of characters\n",
        "    AAmod = (\n",
        "        AA[:N_AA_fow] +\n",
        "        [\"NA\"] * N_AA_na +\n",
        "        AA[N_AA_fow:]\n",
        "    )\n",
        "\n",
        "    # Assign names to the modified list\n",
        "    AAmod_named = dict(zip(all_imgt_pos, AAmod))\n",
        "\n",
        "    return AAmod_named\n",
        "\n",
        "# Example usage\n",
        "CDR3 = \"CASSIRSSYEQYF\"\n",
        "aligned_seq = align_imgt(CDR3)\n",
        "print(aligned_seq)"
      ],
      "metadata": {
        "colab": {
          "base_uri": "https://localhost:8080/"
        },
        "id": "6haqU1cXocJA",
        "outputId": "7b93cd71-340e-4215-a2b2-82a25d6ccecf"
      },
      "execution_count": 21,
      "outputs": [
        {
          "output_type": "stream",
          "name": "stdout",
          "text": [
            "{'P104': 'C', 'P105': 'A', 'P106': 'S', 'P107': 'S', 'P108': 'I', 'P109': 'R', 'P110': 'S', 'P111': 'NA', 'P111.1': 'NA', 'P112.2': 'NA', 'P112.1': 'NA', 'P112': 'NA', 'P113': 'S', 'P114': 'Y', 'P115': 'E', 'P116': 'Q', 'P117': 'Y', 'P118': 'F'}\n"
          ]
        }
      ]
    },
    {
      "cell_type": "code",
      "source": [
        "### Removing the first three and the last two columns due to las of information there"
      ],
      "metadata": {
        "id": "_9QOi6X8j62m"
      },
      "execution_count": 32,
      "outputs": []
    },
    {
      "cell_type": "code",
      "source": [
        "df_aligned_middle = df_aligned.iloc[:,3:16]"
      ],
      "metadata": {
        "id": "0dVmTRKSnOPx"
      },
      "execution_count": 45,
      "outputs": []
    },
    {
      "cell_type": "code",
      "source": [
        "encodding = {'P': 8, 'C': 19, 'D': 18, 'N': 9, 'Q': 7, 'I': 13, 'S': 5, 'W': 2, 'M': 10, 'G': 15, 'A': 20, 'R': 6, 'F': 16, 'E': 17, 'H': 14, 'T': 4, 'Y': 1, 'V': 3, 'K': 12, 'L': 11, 'NA': 0}\n"
      ],
      "metadata": {
        "id": "r6YsVsgPmg25"
      },
      "execution_count": 59,
      "outputs": []
    },
    {
      "cell_type": "code",
      "source": [
        "matrix"
      ],
      "metadata": {
        "colab": {
          "base_uri": "https://localhost:8080/"
        },
        "id": "pXyblz5hpaf_",
        "outputId": "6a02a521-e8ae-45f7-9312-ef99050a70bb"
      },
      "execution_count": 65,
      "outputs": [
        {
          "output_type": "execute_result",
          "data": {
            "text/plain": [
              "array([[ 8, 10,  3, ..., 14, 15,  1],\n",
              "       [ 5, 16, 15, ...,  7,  8,  7],\n",
              "       [ 5,  5,  8, ...,  6,  9,  4],\n",
              "       ...,\n",
              "       [ 5, 14, 15, ..., 18,  4,  7],\n",
              "       [ 5,  7, 17, ...,  7,  8,  7],\n",
              "       [ 5, 11, 20, ...,  9, 17,  7]])"
            ]
          },
          "metadata": {},
          "execution_count": 65
        }
      ]
    },
    {
      "cell_type": "code",
      "source": [
        "df_encodded = df_aligned_middle.replace(encodding)\n",
        "df_encodded = df_encodded.apply(pd.to_numeric, errors='coerce').fillna(0).astype(int)\n",
        "matrix = df_encodded.values\n",
        "np.savetxt(\"extended_matrix.txt\", matrix, fmt='%d', delimiter=' ')"
      ],
      "metadata": {
        "collapsed": true,
        "id": "CjuycOlNnd6-"
      },
      "execution_count": 64,
      "outputs": []
    },
    {
      "cell_type": "code",
      "source": [
        "df_encodded.to_csv('encodded_imgt_positions.csv', index=False)"
      ],
      "metadata": {
        "id": "C4eENFH9qYJI"
      },
      "execution_count": 66,
      "outputs": []
    },
    {
      "cell_type": "code",
      "source": [
        "matrix = np.loadtxt('extended_matrix.txt')"
      ],
      "metadata": {
        "id": "nyRtakdWcgPY"
      },
      "execution_count": 4,
      "outputs": []
    },
    {
      "cell_type": "code",
      "source": [
        "matrix"
      ],
      "metadata": {
        "colab": {
          "base_uri": "https://localhost:8080/"
        },
        "id": "weSWA_MAbXX1",
        "outputId": "61e7e33b-1ae0-41ce-cb1e-9f58fa5aeded"
      },
      "execution_count": 5,
      "outputs": [
        {
          "output_type": "execute_result",
          "data": {
            "text/plain": [
              "array([[ 8., 10.,  3., ..., 14., 15.,  1.],\n",
              "       [ 5., 16., 15., ...,  7.,  8.,  7.],\n",
              "       [ 5.,  5.,  8., ...,  6.,  9.,  4.],\n",
              "       ...,\n",
              "       [ 5., 14., 15., ..., 18.,  4.,  7.],\n",
              "       [ 5.,  7., 17., ...,  7.,  8.,  7.],\n",
              "       [ 5., 11., 20., ...,  9., 17.,  7.]])"
            ]
          },
          "metadata": {},
          "execution_count": 5
        }
      ]
    },
    {
      "cell_type": "code",
      "source": [
        "round(len(matrix)*0.8)"
      ],
      "metadata": {
        "colab": {
          "base_uri": "https://localhost:8080/"
        },
        "id": "TO6XZJO5q3s1",
        "outputId": "f387a1c9-fadb-474b-e650-f74f5126caeb"
      },
      "execution_count": 6,
      "outputs": [
        {
          "output_type": "execute_result",
          "data": {
            "text/plain": [
              "14242"
            ]
          },
          "metadata": {},
          "execution_count": 6
        }
      ]
    },
    {
      "cell_type": "code",
      "source": [
        "training_set_X = matrix[:round(len(matrix)*0.8),:4]\n",
        "test_set_X = matrix[round(len(matrix)*0.8):,:4]\n",
        "training_set_y = matrix[:round(len(matrix)*0.8),4]\n",
        "test_set_y = matrix[round(len(matrix)*0.8):,4]"
      ],
      "metadata": {
        "id": "q-RoQvQOwf8D"
      },
      "execution_count": 5,
      "outputs": []
    },
    {
      "cell_type": "code",
      "source": [
        "### Predicting the 4th position of the sequences"
      ],
      "metadata": {
        "id": "8mX9AMWhUl5j"
      },
      "execution_count": 12,
      "outputs": []
    },
    {
      "cell_type": "code",
      "source": [
        "\n",
        "print(\"Input sequences (training_set_X):\")\n",
        "print(training_set_X)\n",
        "print(\"\\nTarget sequences (training_set_y):\")\n",
        "print(training_set_y)"
      ],
      "metadata": {
        "colab": {
          "base_uri": "https://localhost:8080/"
        },
        "id": "bmzNjbYvxkvm",
        "outputId": "69d61971-6edf-4002-810b-0aa030206f56"
      },
      "execution_count": 8,
      "outputs": [
        {
          "output_type": "stream",
          "name": "stdout",
          "text": [
            "Input sequences (training_set_X):\n",
            "[[ 8. 10.  3.  0.]\n",
            " [ 5. 16. 15.  5.]\n",
            " [ 5.  5.  8.  8.]\n",
            " ...\n",
            " [ 5.  8.  6. 18.]\n",
            " [ 6. 18.  4. 13.]\n",
            " [15.  8.  3.  0.]]\n",
            "\n",
            "Target sequences (training_set_y):\n",
            "[ 0.  4. 11. ...  0. 11.  0.]\n"
          ]
        }
      ]
    },
    {
      "cell_type": "code",
      "source": [
        "\n",
        "print(\"Input sequences (test_set_X):\")\n",
        "print(test_set_X)\n",
        "print(\"\\nTarget sequences (test_set_y):\")\n",
        "print(test_set_y)"
      ],
      "metadata": {
        "colab": {
          "base_uri": "https://localhost:8080/"
        },
        "id": "zjenJjkSTgHc",
        "outputId": "23c0a740-5e05-497c-a55c-58252cf0e045"
      },
      "execution_count": 28,
      "outputs": [
        {
          "output_type": "stream",
          "name": "stdout",
          "text": [
            "Input sequences (test_set_X):\n",
            "[[ 5.  6.  4. 15.]\n",
            " [ 5.  1.  5. 12.]\n",
            " [ 5.  8.  3. 15.]\n",
            " ...\n",
            " [ 5. 14. 15. 17.]\n",
            " [ 5.  7. 17. 17.]\n",
            " [ 5. 11. 20.  0.]]\n",
            "\n",
            "Target sequences (test_set_y):\n",
            "[15.  7.  6. ...  4.  6.  0.]\n"
          ]
        }
      ]
    },
    {
      "cell_type": "code",
      "source": [
        "### Developing the model and increasing accuracy"
      ],
      "metadata": {
        "id": "KS7JxKT1U8ob"
      },
      "execution_count": 13,
      "outputs": []
    },
    {
      "cell_type": "code",
      "source": [
        "import tensorflow as tf\n",
        "from tensorflow import keras\n",
        "from tensorflow.keras.models import Sequential\n",
        "from tensorflow.keras.layers import Embedding, LSTM, Dense\n",
        "from tensorflow.keras.optimizers import Adam\n",
        "\n",
        "# Define parameters\n",
        "vocab_size = 21  # 20 amino acids plus NA\n",
        "embedding_dim = 8\n",
        "rnn_units = 32\n",
        "sequence_length = 4\n",
        "batch_size = 10  # Use batch size  for prediction later\n",
        "\n",
        "# Build the model\n",
        "model = Sequential([\n",
        "    Embedding(vocab_size, embedding_dim, input_length=sequence_length),\n",
        "    #LSTM(rnn_units, return_sequences=True),\n",
        "    LSTM(rnn_units),\n",
        "    Dense(vocab_size, activation='softmax')\n",
        "])\n",
        "\n",
        "model.compile(optimizer=Adam(learning_rate=0.001), loss='sparse_categorical_crossentropy', metrics=['accuracy'])\n",
        "\n",
        "model.summary()\n",
        "\n"
      ],
      "metadata": {
        "colab": {
          "base_uri": "https://localhost:8080/"
        },
        "id": "dDoL__tExlAw",
        "outputId": "9143d344-2933-41c7-e6cb-21e5ddaeb77d"
      },
      "execution_count": 9,
      "outputs": [
        {
          "output_type": "stream",
          "name": "stdout",
          "text": [
            "Model: \"sequential_1\"\n",
            "_________________________________________________________________\n",
            " Layer (type)                Output Shape              Param #   \n",
            "=================================================================\n",
            " embedding_2 (Embedding)     (None, 4, 8)              168       \n",
            "                                                                 \n",
            " lstm_2 (LSTM)               (None, 32)                5248      \n",
            "                                                                 \n",
            " dense_1 (Dense)             (None, 21)                693       \n",
            "                                                                 \n",
            "=================================================================\n",
            "Total params: 6109 (23.86 KB)\n",
            "Trainable params: 6109 (23.86 KB)\n",
            "Non-trainable params: 0 (0.00 Byte)\n",
            "_________________________________________________________________\n"
          ]
        }
      ]
    },
    {
      "cell_type": "code",
      "source": [
        "training_set_y.shape"
      ],
      "metadata": {
        "colab": {
          "base_uri": "https://localhost:8080/"
        },
        "id": "EAHGkzgnz5Dx",
        "outputId": "cb184304-e5f8-4792-ddf0-442089cf67bb"
      },
      "execution_count": 10,
      "outputs": [
        {
          "output_type": "execute_result",
          "data": {
            "text/plain": [
              "(14242,)"
            ]
          },
          "metadata": {},
          "execution_count": 10
        }
      ]
    },
    {
      "cell_type": "code",
      "source": [
        "# Train the model\n",
        "history =  model.fit(training_set_X, training_set_y, epochs=10, batch_size = 10)"
      ],
      "metadata": {
        "colab": {
          "base_uri": "https://localhost:8080/"
        },
        "id": "k8Znpv1K0g_l",
        "outputId": "c35374f7-71d2-4af9-d33f-c657d7c01013"
      },
      "execution_count": 11,
      "outputs": [
        {
          "output_type": "stream",
          "name": "stdout",
          "text": [
            "Epoch 1/10\n",
            "1425/1425 [==============================] - 5s 4ms/step - loss: 1.6691 - accuracy: 0.5444\n",
            "Epoch 2/10\n",
            "1425/1425 [==============================] - 5s 4ms/step - loss: 1.6561 - accuracy: 0.5443\n",
            "Epoch 3/10\n",
            "1425/1425 [==============================] - 6s 4ms/step - loss: 1.6364 - accuracy: 0.5442\n",
            "Epoch 4/10\n",
            "1425/1425 [==============================] - 5s 3ms/step - loss: 1.6196 - accuracy: 0.5442\n",
            "Epoch 5/10\n",
            "1425/1425 [==============================] - 6s 4ms/step - loss: 1.6070 - accuracy: 0.5444\n",
            "Epoch 6/10\n",
            "1425/1425 [==============================] - 5s 4ms/step - loss: 1.5969 - accuracy: 0.5431\n",
            "Epoch 7/10\n",
            "1425/1425 [==============================] - 6s 4ms/step - loss: 1.5911 - accuracy: 0.5431\n",
            "Epoch 8/10\n",
            "1425/1425 [==============================] - 6s 4ms/step - loss: 1.5849 - accuracy: 0.5452\n",
            "Epoch 9/10\n",
            "1425/1425 [==============================] - 5s 4ms/step - loss: 1.5807 - accuracy: 0.5446\n",
            "Epoch 10/10\n",
            "1425/1425 [==============================] - 7s 5ms/step - loss: 1.5753 - accuracy: 0.5435\n"
          ]
        }
      ]
    },
    {
      "cell_type": "code",
      "source": [
        "test_set_X[[0]]"
      ],
      "metadata": {
        "colab": {
          "base_uri": "https://localhost:8080/"
        },
        "id": "o-Zb7qMKS94Q",
        "outputId": "7c578394-21c0-42e5-9de8-aa2f0494cf6d"
      },
      "execution_count": 29,
      "outputs": [
        {
          "output_type": "execute_result",
          "data": {
            "text/plain": [
              "array([[ 5.,  6.,  4., 15.]])"
            ]
          },
          "metadata": {},
          "execution_count": 29
        }
      ]
    },
    {
      "cell_type": "code",
      "source": [
        "predictions = model.predict(test_set_X[[200]])\n",
        "\n",
        "# Display the predictions\n",
        "print(\"Raw predictions:\\n\", predictions)\n"
      ],
      "metadata": {
        "colab": {
          "base_uri": "https://localhost:8080/"
        },
        "id": "D_cImV3xRhbR",
        "outputId": "cf0e871e-630f-4af8-a5fc-6885cd5506f9"
      },
      "execution_count": 38,
      "outputs": [
        {
          "output_type": "stream",
          "name": "stdout",
          "text": [
            "1/1 [==============================] - 0s 30ms/step\n",
            "Raw predictions:\n",
            " [[3.6837456e-01 5.6220358e-03 3.8173953e-03 9.5339594e-03 3.1510841e-02\n",
            "  1.4117022e-02 4.1606292e-02 1.8525001e-02 1.6794834e-02 3.7266351e-03\n",
            "  1.9282008e-03 1.4213787e-02 2.7638725e-03 4.5323875e-03 3.2311911e-03\n",
            "  1.2388185e-01 4.0851906e-03 1.4069413e-02 2.3738807e-02 2.2642396e-04\n",
            "  2.9370025e-01]]\n"
          ]
        }
      ]
    },
    {
      "cell_type": "code",
      "source": [
        "test_set_y[200]"
      ],
      "metadata": {
        "colab": {
          "base_uri": "https://localhost:8080/"
        },
        "id": "aIeNTNDLSuWf",
        "outputId": "e416b294-c3d0-4283-c718-c5c2121c12ad"
      },
      "execution_count": 39,
      "outputs": [
        {
          "output_type": "execute_result",
          "data": {
            "text/plain": [
              "20.0"
            ]
          },
          "metadata": {},
          "execution_count": 39
        }
      ]
    },
    {
      "cell_type": "code",
      "source": [
        "# Convert probabilities to class labels\n",
        "predicted_classes = np.argmax(predictions, axis=-1)\n",
        "\n",
        "# Display the predicted class labels\n",
        "print(\"Predicted class labels:\\n\", predicted_classes)"
      ],
      "metadata": {
        "colab": {
          "base_uri": "https://localhost:8080/"
        },
        "id": "sX7W4tUPRxgO",
        "outputId": "00d4c8dc-b19d-42fb-a797-38895a94316a"
      },
      "execution_count": 40,
      "outputs": [
        {
          "output_type": "stream",
          "name": "stdout",
          "text": [
            "Predicted class labels:\n",
            " [0]\n"
          ]
        }
      ]
    },
    {
      "cell_type": "code",
      "source": [
        "# Evaluate the model on the test data\n",
        "test_loss, test_accuracy = model.evaluate(test_set_X, test_set_y)\n"
      ],
      "metadata": {
        "colab": {
          "base_uri": "https://localhost:8080/"
        },
        "id": "HDguXpdWQgXM",
        "outputId": "c90f59ca-7e26-4e42-a370-b2bdfd139452"
      },
      "execution_count": 13,
      "outputs": [
        {
          "output_type": "stream",
          "name": "stdout",
          "text": [
            "112/112 [==============================] - 1s 2ms/step - loss: 1.9285 - accuracy: 0.3994\n"
          ]
        }
      ]
    },
    {
      "cell_type": "code",
      "source": [
        "print(f'Test Loss: {test_loss}')\n",
        "print(f'Test Accuracy: {test_accuracy}')"
      ],
      "metadata": {
        "colab": {
          "base_uri": "https://localhost:8080/"
        },
        "id": "BnFXclp-RQyo",
        "outputId": "d700d14a-83f3-4d2d-9a8e-bc30f56567ab"
      },
      "execution_count": 14,
      "outputs": [
        {
          "output_type": "stream",
          "name": "stdout",
          "text": [
            "Test Loss: 1.9285264015197754\n",
            "Test Accuracy: 0.39943820238113403\n"
          ]
        }
      ]
    },
    {
      "cell_type": "code",
      "source": [
        "# Plot the training history\n",
        "import matplotlib.pyplot as plt\n",
        "plt.figure(figsize=(12, 6))\n",
        "\n",
        "# Plot training & validation accuracy values\n",
        "plt.subplot(1, 2, 1)\n",
        "plt.plot(history.history['accuracy'], label='Training Accuracy')\n",
        "plt.title('Model Accuracy')\n",
        "plt.ylabel('Accuracy')\n",
        "plt.xlabel('Epoch')\n",
        "plt.legend(loc='upper left')\n",
        "\n",
        "# Plot training & validation loss values\n",
        "plt.subplot(1, 2, 2)\n",
        "plt.plot(history.history['loss'], label='Training Loss')\n",
        "plt.title('Model Loss')\n",
        "plt.ylabel('Loss')\n",
        "plt.xlabel('Epoch')\n",
        "plt.legend(loc='upper left')\n",
        "\n",
        "plt.show()"
      ],
      "metadata": {
        "colab": {
          "base_uri": "https://localhost:8080/",
          "height": 562
        },
        "id": "5HfFtE_x4h88",
        "outputId": "dca7d1a9-bb0f-498d-c457-2366023164ee"
      },
      "execution_count": 135,
      "outputs": [
        {
          "output_type": "display_data",
          "data": {
            "text/plain": [
              "<Figure size 1200x600 with 2 Axes>"
            ],
            "image/png": "[encoded data removed]"
          },
          "metadata": {}
        }
      ]
    },
    {
      "cell_type": "code",
      "source": [
        "training_set_X_2 = amino_acids[:1387,:5]\n",
        "test_set_X_2 = amino_acids[1388:,:5]\n",
        "training_set_y_2 = amino_acids[:1387,5]\n",
        "test_set_y_2 = amino_acids[1388:,5]"
      ],
      "metadata": {
        "id": "cMiUiUAT7IAn"
      },
      "execution_count": 137,
      "outputs": []
    },
    {
      "cell_type": "code",
      "source": [
        "# Train the model\n",
        "history_2 =  model.fit(training_set_X_2, training_set_y_2, epochs=100, batch_size = 1)"
      ],
      "metadata": {
        "colab": {
          "base_uri": "https://localhost:8080/"
        },
        "collapsed": true,
        "id": "5UjPAqVZ7IUS",
        "outputId": "ebdaaff8-353a-4a1f-e2f6-1f0f7a4ed614"
      },
      "execution_count": 138,
      "outputs": [
        {
          "output_type": "stream",
          "name": "stdout",
          "text": [
            "Epoch 1/100\n",
            "1387/1387 [==============================] - 7s 4ms/step - loss: 6.0623 - accuracy: 0.1312\n",
            "Epoch 2/100\n",
            "1387/1387 [==============================] - 5s 3ms/step - loss: 4.4131 - accuracy: 0.1759\n",
            "Epoch 3/100\n",
            "1387/1387 [==============================] - 5s 4ms/step - loss: 3.8451 - accuracy: 0.1839\n",
            "Epoch 4/100\n",
            "1387/1387 [==============================] - 5s 4ms/step - loss: 3.5097 - accuracy: 0.1932\n",
            "Epoch 5/100\n",
            "1387/1387 [==============================] - 5s 3ms/step - loss: 3.2597 - accuracy: 0.2141\n",
            "Epoch 6/100\n",
            "1387/1387 [==============================] - 6s 4ms/step - loss: 3.0755 - accuracy: 0.2098\n",
            "Epoch 7/100\n",
            "1387/1387 [==============================] - 5s 3ms/step - loss: 2.9365 - accuracy: 0.2264\n",
            "Epoch 8/100\n",
            "1387/1387 [==============================] - 5s 3ms/step - loss: 2.7902 - accuracy: 0.2502\n",
            "Epoch 9/100\n",
            "1387/1387 [==============================] - 6s 4ms/step - loss: 2.7395 - accuracy: 0.2574\n",
            "Epoch 10/100\n",
            "1387/1387 [==============================] - 5s 3ms/step - loss: 2.6410 - accuracy: 0.2624\n",
            "Epoch 11/100\n",
            "1387/1387 [==============================] - 7s 5ms/step - loss: 2.5909 - accuracy: 0.2704\n",
            "Epoch 12/100\n",
            "1387/1387 [==============================] - 5s 3ms/step - loss: 2.5057 - accuracy: 0.2761\n",
            "Epoch 13/100\n",
            "1387/1387 [==============================] - 5s 3ms/step - loss: 2.4761 - accuracy: 0.2812\n",
            "Epoch 14/100\n",
            "1387/1387 [==============================] - 6s 4ms/step - loss: 2.3978 - accuracy: 0.2870\n",
            "Epoch 15/100\n",
            "1387/1387 [==============================] - 5s 3ms/step - loss: 2.3632 - accuracy: 0.2884\n",
            "Epoch 16/100\n",
            "1387/1387 [==============================] - 5s 4ms/step - loss: 2.3312 - accuracy: 0.2934\n",
            "Epoch 17/100\n",
            "1387/1387 [==============================] - 8s 6ms/step - loss: 2.3002 - accuracy: 0.2942\n",
            "Epoch 18/100\n",
            "1387/1387 [==============================] - 5s 3ms/step - loss: 2.2749 - accuracy: 0.3043\n",
            "Epoch 19/100\n",
            "1387/1387 [==============================] - 6s 4ms/step - loss: 2.2296 - accuracy: 0.3093\n",
            "Epoch 20/100\n",
            "1387/1387 [==============================] - 4s 3ms/step - loss: 2.2110 - accuracy: 0.2949\n",
            "Epoch 21/100\n",
            "1387/1387 [==============================] - 6s 4ms/step - loss: 2.1877 - accuracy: 0.3028\n",
            "Epoch 22/100\n",
            "1387/1387 [==============================] - 5s 4ms/step - loss: 2.1679 - accuracy: 0.3122\n",
            "Epoch 23/100\n",
            "1387/1387 [==============================] - 4s 3ms/step - loss: 2.1480 - accuracy: 0.3151\n",
            "Epoch 24/100\n",
            "1387/1387 [==============================] - 6s 5ms/step - loss: 2.1289 - accuracy: 0.3194\n",
            "Epoch 25/100\n",
            "1387/1387 [==============================] - 5s 4ms/step - loss: 2.1306 - accuracy: 0.3093\n",
            "Epoch 26/100\n",
            "1387/1387 [==============================] - 5s 4ms/step - loss: 2.1157 - accuracy: 0.3201\n",
            "Epoch 27/100\n",
            "1387/1387 [==============================] - 5s 4ms/step - loss: 2.1189 - accuracy: 0.3158\n",
            "Epoch 28/100\n",
            "1387/1387 [==============================] - 5s 3ms/step - loss: 2.0817 - accuracy: 0.3143\n",
            "Epoch 29/100\n",
            "1387/1387 [==============================] - 6s 4ms/step - loss: 2.0672 - accuracy: 0.3208\n",
            "Epoch 30/100\n",
            "1387/1387 [==============================] - 4s 3ms/step - loss: 2.0820 - accuracy: 0.3194\n",
            "Epoch 31/100\n",
            "1387/1387 [==============================] - 5s 4ms/step - loss: 2.0518 - accuracy: 0.3216\n",
            "Epoch 32/100\n",
            "1387/1387 [==============================] - 6s 4ms/step - loss: 2.0423 - accuracy: 0.3237\n",
            "Epoch 33/100\n",
            "1387/1387 [==============================] - 5s 3ms/step - loss: 2.0413 - accuracy: 0.3165\n",
            "Epoch 34/100\n",
            "1387/1387 [==============================] - 6s 4ms/step - loss: 2.0308 - accuracy: 0.3216\n",
            "Epoch 35/100\n",
            "1387/1387 [==============================] - 5s 3ms/step - loss: 2.0168 - accuracy: 0.3208\n",
            "Epoch 36/100\n",
            "1387/1387 [==============================] - 5s 4ms/step - loss: 2.0165 - accuracy: 0.3223\n",
            "Epoch 37/100\n",
            "1387/1387 [==============================] - 6s 4ms/step - loss: 2.0171 - accuracy: 0.3223\n",
            "Epoch 38/100\n",
            "1387/1387 [==============================] - 5s 3ms/step - loss: 2.0142 - accuracy: 0.3230\n",
            "Epoch 39/100\n",
            "1387/1387 [==============================] - 5s 4ms/step - loss: 2.0132 - accuracy: 0.3324\n",
            "Epoch 40/100\n",
            "1387/1387 [==============================] - 6s 4ms/step - loss: 2.0086 - accuracy: 0.3129\n",
            "Epoch 41/100\n",
            "1387/1387 [==============================] - 5s 3ms/step - loss: 1.9902 - accuracy: 0.3266\n",
            "Epoch 42/100\n",
            "1387/1387 [==============================] - 6s 4ms/step - loss: 1.9929 - accuracy: 0.3317\n",
            "Epoch 43/100\n",
            "1387/1387 [==============================] - 5s 3ms/step - loss: 1.9828 - accuracy: 0.3295\n",
            "Epoch 44/100\n",
            "1387/1387 [==============================] - 5s 3ms/step - loss: 1.9843 - accuracy: 0.3216\n",
            "Epoch 45/100\n",
            "1387/1387 [==============================] - 6s 4ms/step - loss: 1.9731 - accuracy: 0.3353\n",
            "Epoch 46/100\n",
            "1387/1387 [==============================] - 5s 3ms/step - loss: 1.9851 - accuracy: 0.3216\n",
            "Epoch 47/100\n",
            "1387/1387 [==============================] - 5s 4ms/step - loss: 1.9666 - accuracy: 0.3244\n",
            "Epoch 48/100\n",
            "1387/1387 [==============================] - 5s 4ms/step - loss: 1.9633 - accuracy: 0.3201\n",
            "Epoch 49/100\n",
            "1387/1387 [==============================] - 5s 3ms/step - loss: 1.9586 - accuracy: 0.3295\n",
            "Epoch 50/100\n",
            "1387/1387 [==============================] - 6s 4ms/step - loss: 1.9864 - accuracy: 0.3295\n",
            "Epoch 51/100\n",
            "1387/1387 [==============================] - 5s 3ms/step - loss: 1.9707 - accuracy: 0.3252\n",
            "Epoch 52/100\n",
            "1387/1387 [==============================] - 5s 3ms/step - loss: 1.9605 - accuracy: 0.3187\n",
            "Epoch 53/100\n",
            "1387/1387 [==============================] - 6s 4ms/step - loss: 1.9563 - accuracy: 0.3324\n",
            "Epoch 54/100\n",
            "1387/1387 [==============================] - 5s 3ms/step - loss: 1.9562 - accuracy: 0.3237\n",
            "Epoch 55/100\n",
            "1387/1387 [==============================] - 6s 4ms/step - loss: 1.9695 - accuracy: 0.3353\n",
            "Epoch 56/100\n",
            "1387/1387 [==============================] - 5s 4ms/step - loss: 1.9539 - accuracy: 0.3367\n",
            "Epoch 57/100\n",
            "1387/1387 [==============================] - 5s 3ms/step - loss: 1.9439 - accuracy: 0.3331\n",
            "Epoch 58/100\n",
            "1387/1387 [==============================] - 6s 4ms/step - loss: 1.9374 - accuracy: 0.3273\n",
            "Epoch 59/100\n",
            "1387/1387 [==============================] - 5s 3ms/step - loss: 1.9372 - accuracy: 0.3295\n",
            "Epoch 60/100\n",
            "1387/1387 [==============================] - 5s 4ms/step - loss: 1.9371 - accuracy: 0.3295\n",
            "Epoch 61/100\n",
            "1387/1387 [==============================] - 5s 4ms/step - loss: 1.9293 - accuracy: 0.3266\n",
            "Epoch 62/100\n",
            "1387/1387 [==============================] - 5s 3ms/step - loss: 1.9318 - accuracy: 0.3338\n",
            "Epoch 63/100\n",
            "1387/1387 [==============================] - 6s 4ms/step - loss: 1.9205 - accuracy: 0.3288\n",
            "Epoch 64/100\n",
            "1387/1387 [==============================] - 5s 3ms/step - loss: 1.9236 - accuracy: 0.3360\n",
            "Epoch 65/100\n",
            "1387/1387 [==============================] - 5s 3ms/step - loss: 1.9322 - accuracy: 0.3309\n",
            "Epoch 66/100\n",
            "1387/1387 [==============================] - 6s 4ms/step - loss: 1.9280 - accuracy: 0.3295\n",
            "Epoch 67/100\n",
            "1387/1387 [==============================] - 5s 3ms/step - loss: 1.9260 - accuracy: 0.3266\n",
            "Epoch 68/100\n",
            "1387/1387 [==============================] - 7s 5ms/step - loss: 1.9191 - accuracy: 0.3230\n",
            "Epoch 69/100\n",
            "1387/1387 [==============================] - 5s 3ms/step - loss: 1.9255 - accuracy: 0.3180\n",
            "Epoch 70/100\n",
            "1387/1387 [==============================] - 5s 3ms/step - loss: 1.9164 - accuracy: 0.3367\n",
            "Epoch 71/100\n",
            "1387/1387 [==============================] - 6s 4ms/step - loss: 1.9288 - accuracy: 0.3280\n",
            "Epoch 72/100\n",
            "1387/1387 [==============================] - 5s 3ms/step - loss: 1.9150 - accuracy: 0.3338\n",
            "Epoch 73/100\n",
            "1387/1387 [==============================] - 5s 4ms/step - loss: 1.9175 - accuracy: 0.3345\n",
            "Epoch 74/100\n",
            "1387/1387 [==============================] - 5s 4ms/step - loss: 1.9090 - accuracy: 0.3259\n",
            "Epoch 75/100\n",
            "1387/1387 [==============================] - 5s 3ms/step - loss: 1.9070 - accuracy: 0.3345\n",
            "Epoch 76/100\n",
            "1387/1387 [==============================] - 6s 4ms/step - loss: 1.9049 - accuracy: 0.3244\n",
            "Epoch 77/100\n",
            "1387/1387 [==============================] - 5s 3ms/step - loss: 1.9083 - accuracy: 0.3396\n",
            "Epoch 78/100\n",
            "1387/1387 [==============================] - 5s 3ms/step - loss: 1.9089 - accuracy: 0.3338\n",
            "Epoch 79/100\n",
            "1387/1387 [==============================] - 6s 4ms/step - loss: 1.9007 - accuracy: 0.3389\n",
            "Epoch 80/100\n",
            "1387/1387 [==============================] - 5s 3ms/step - loss: 1.9023 - accuracy: 0.3273\n",
            "Epoch 81/100\n",
            "1387/1387 [==============================] - 5s 4ms/step - loss: 1.9067 - accuracy: 0.3353\n",
            "Epoch 82/100\n",
            "1387/1387 [==============================] - 5s 4ms/step - loss: 1.9075 - accuracy: 0.3280\n",
            "Epoch 83/100\n",
            "1387/1387 [==============================] - 5s 3ms/step - loss: 1.8998 - accuracy: 0.3266\n",
            "Epoch 84/100\n",
            "1387/1387 [==============================] - 6s 4ms/step - loss: 1.8971 - accuracy: 0.3273\n",
            "Epoch 85/100\n",
            "1387/1387 [==============================] - 5s 3ms/step - loss: 1.8970 - accuracy: 0.3331\n",
            "Epoch 86/100\n",
            "1387/1387 [==============================] - 5s 3ms/step - loss: 1.8929 - accuracy: 0.3389\n",
            "Epoch 87/100\n",
            "1387/1387 [==============================] - 6s 4ms/step - loss: 1.8955 - accuracy: 0.3360\n",
            "Epoch 88/100\n",
            "1387/1387 [==============================] - 5s 3ms/step - loss: 1.8948 - accuracy: 0.3309\n",
            "Epoch 89/100\n",
            "1387/1387 [==============================] - 5s 4ms/step - loss: 1.8929 - accuracy: 0.3331\n",
            "Epoch 90/100\n",
            "1387/1387 [==============================] - 5s 4ms/step - loss: 1.9047 - accuracy: 0.3302\n",
            "Epoch 91/100\n",
            "1387/1387 [==============================] - 5s 3ms/step - loss: 1.9005 - accuracy: 0.3295\n",
            "Epoch 92/100\n",
            "1387/1387 [==============================] - 6s 4ms/step - loss: 1.8953 - accuracy: 0.3381\n",
            "Epoch 93/100\n",
            "1387/1387 [==============================] - 5s 3ms/step - loss: 1.8961 - accuracy: 0.3259\n",
            "Epoch 94/100\n",
            "1387/1387 [==============================] - 5s 3ms/step - loss: 1.8947 - accuracy: 0.3302\n",
            "Epoch 95/100\n",
            "1387/1387 [==============================] - 6s 4ms/step - loss: 1.8919 - accuracy: 0.3417\n",
            "Epoch 96/100\n",
            "1387/1387 [==============================] - 5s 3ms/step - loss: 1.8903 - accuracy: 0.3367\n",
            "Epoch 97/100\n",
            "1387/1387 [==============================] - 6s 4ms/step - loss: 1.8968 - accuracy: 0.3288\n",
            "Epoch 98/100\n",
            "1387/1387 [==============================] - 5s 3ms/step - loss: 1.8954 - accuracy: 0.3331\n",
            "Epoch 99/100\n",
            "1387/1387 [==============================] - 5s 3ms/step - loss: 1.8847 - accuracy: 0.3266\n",
            "Epoch 100/100\n",
            "1387/1387 [==============================] - 6s 4ms/step - loss: 1.8873 - accuracy: 0.3331\n"
          ]
        }
      ]
    },
    {
      "cell_type": "code",
      "source": [
        "# Plot the training history\n",
        "import matplotlib.pyplot as plt\n",
        "plt.figure(figsize=(12, 6))\n",
        "\n",
        "# Plot training & validation accuracy values\n",
        "plt.subplot(1, 2, 1)\n",
        "plt.plot(history_2.history['accuracy'], label='Training Accuracy')\n",
        "plt.title('Model Accuracy')\n",
        "plt.ylabel('Accuracy')\n",
        "plt.xlabel('Epoch')\n",
        "plt.legend(loc='upper left')\n",
        "\n",
        "# Plot training & validation loss values\n",
        "plt.subplot(1, 2, 2)\n",
        "plt.plot(history_2.history['loss'], label='Training Loss')\n",
        "plt.title('Model Loss')\n",
        "plt.ylabel('Loss')\n",
        "plt.xlabel('Epoch')\n",
        "plt.legend(loc='upper left')\n",
        "\n",
        "plt.show()"
      ],
      "metadata": {
        "colab": {
          "base_uri": "https://localhost:8080/",
          "height": 564
        },
        "id": "pnTm83Pg7Ip4",
        "outputId": "fc543fa3-503e-4e70-bdcf-dbcf608e4ce6"
      },
      "execution_count": 139,
      "outputs": [
        {
          "output_type": "display_data",
          "data": {
            "text/plain": [
              "<Figure size 1200x600 with 2 Axes>"
            ],
            "image/png": "[encoded data removed]"
          },
          "metadata": {}
        }
      ]
    },
    {
      "cell_type": "code",
      "source": [],
      "metadata": {
        "id": "I4s3Xs8N-2Pk"
      },
      "execution_count": null,
      "outputs": []
    },
    {
      "cell_type": "code",
      "source": [
        "training_set_X_3 = amino_acids[:1387,:6]\n",
        "test_set_X_3 = amino_acids[1388:,:6]\n",
        "training_set_y_3 = amino_acids[:1387,6]\n",
        "test_set_y_3 = amino_acids[1388:,6]\n",
        "# Train the model\n",
        "history_3 =  model.fit(training_set_X_3, training_set_y_3, epochs=100, batch_size = 1)\n",
        "\n",
        "# Plot the training history\n",
        "import matplotlib.pyplot as plt\n",
        "plt.figure(figsize=(12, 6))\n",
        "\n",
        "# Plot training & validation accuracy values\n",
        "plt.subplot(1, 2, 1)\n",
        "plt.plot(history_3.history['accuracy'], label='Training Accuracy')\n",
        "plt.title('Model Accuracy')\n",
        "plt.ylabel('Accuracy')\n",
        "plt.xlabel('Epoch')\n",
        "plt.legend(loc='upper left')\n",
        "\n",
        "# Plot training & validation loss values\n",
        "plt.subplot(1, 2, 2)\n",
        "plt.plot(history_3.history['loss'], label='Training Loss')\n",
        "plt.title('Model Loss')\n",
        "plt.ylabel('Loss')\n",
        "plt.xlabel('Epoch')\n",
        "plt.legend(loc='upper left')\n",
        "\n",
        "plt.show()"
      ],
      "metadata": {
        "colab": {
          "base_uri": "https://localhost:8080/",
          "height": 1000
        },
        "id": "o-lJ7gqs-2k5",
        "outputId": "b7542547-c08c-4de2-ffd5-7403f874528e"
      },
      "execution_count": 140,
      "outputs": [
        {
          "output_type": "stream",
          "name": "stdout",
          "text": [
            "Epoch 1/100\n",
            "1387/1387 [==============================] - 5s 3ms/step - loss: 4.8367 - accuracy: 0.1839\n",
            "Epoch 2/100\n",
            "1387/1387 [==============================] - 5s 4ms/step - loss: 3.5181 - accuracy: 0.2660\n",
            "Epoch 3/100\n",
            "1387/1387 [==============================] - 6s 4ms/step - loss: 3.0463 - accuracy: 0.3100\n",
            "Epoch 4/100\n",
            "1387/1387 [==============================] - 5s 3ms/step - loss: 2.7892 - accuracy: 0.3425\n",
            "Epoch 5/100\n",
            "1387/1387 [==============================] - 6s 4ms/step - loss: 2.6368 - accuracy: 0.3396\n",
            "Epoch 6/100\n",
            "1387/1387 [==============================] - 5s 3ms/step - loss: 2.4782 - accuracy: 0.3648\n",
            "Epoch 7/100\n",
            "1387/1387 [==============================] - 5s 4ms/step - loss: 2.3511 - accuracy: 0.3727\n",
            "Epoch 8/100\n",
            "1387/1387 [==============================] - 6s 4ms/step - loss: 2.2420 - accuracy: 0.3850\n",
            "Epoch 9/100\n",
            "1387/1387 [==============================] - 5s 3ms/step - loss: 2.1615 - accuracy: 0.4023\n",
            "Epoch 10/100\n",
            "1387/1387 [==============================] - 6s 4ms/step - loss: 2.0851 - accuracy: 0.4045\n",
            "Epoch 11/100\n",
            "1387/1387 [==============================] - 6s 4ms/step - loss: 2.0298 - accuracy: 0.4268\n",
            "Epoch 12/100\n",
            "1387/1387 [==============================] - 5s 4ms/step - loss: 1.9858 - accuracy: 0.4283\n",
            "Epoch 13/100\n",
            "1387/1387 [==============================] - 6s 4ms/step - loss: 1.9341 - accuracy: 0.4340\n",
            "Epoch 14/100\n",
            "1387/1387 [==============================] - 6s 5ms/step - loss: 1.8832 - accuracy: 0.4427\n",
            "Epoch 15/100\n",
            "1387/1387 [==============================] - 6s 4ms/step - loss: 1.8521 - accuracy: 0.4391\n",
            "Epoch 16/100\n",
            "1387/1387 [==============================] - 5s 3ms/step - loss: 1.8177 - accuracy: 0.4448\n",
            "Epoch 17/100\n",
            "1387/1387 [==============================] - 5s 4ms/step - loss: 1.7762 - accuracy: 0.4593\n",
            "Epoch 18/100\n",
            "1387/1387 [==============================] - 6s 4ms/step - loss: 1.7231 - accuracy: 0.4636\n",
            "Epoch 19/100\n",
            "1387/1387 [==============================] - 5s 3ms/step - loss: 1.6963 - accuracy: 0.4795\n",
            "Epoch 20/100\n",
            "1387/1387 [==============================] - 7s 5ms/step - loss: 1.6740 - accuracy: 0.4809\n",
            "Epoch 21/100\n",
            "1387/1387 [==============================] - 5s 4ms/step - loss: 1.6481 - accuracy: 0.4838\n",
            "Epoch 22/100\n",
            "1387/1387 [==============================] - 6s 4ms/step - loss: 1.6079 - accuracy: 0.4888\n",
            "Epoch 23/100\n",
            "1387/1387 [==============================] - 5s 3ms/step - loss: 1.5805 - accuracy: 0.4932\n",
            "Epoch 24/100\n",
            "1387/1387 [==============================] - 5s 3ms/step - loss: 1.5818 - accuracy: 0.4852\n",
            "Epoch 25/100\n",
            "1387/1387 [==============================] - 6s 4ms/step - loss: 1.5482 - accuracy: 0.4816\n",
            "Epoch 26/100\n",
            "1387/1387 [==============================] - 5s 3ms/step - loss: 1.5470 - accuracy: 0.5004\n",
            "Epoch 27/100\n",
            "1387/1387 [==============================] - 6s 4ms/step - loss: 1.5081 - accuracy: 0.4953\n",
            "Epoch 28/100\n",
            "1387/1387 [==============================] - 5s 4ms/step - loss: 1.5061 - accuracy: 0.5025\n",
            "Epoch 29/100\n",
            "1387/1387 [==============================] - 5s 3ms/step - loss: 1.4802 - accuracy: 0.5177\n",
            "Epoch 30/100\n",
            "1387/1387 [==============================] - 6s 4ms/step - loss: 1.4630 - accuracy: 0.5133\n",
            "Epoch 31/100\n",
            "1387/1387 [==============================] - 5s 3ms/step - loss: 1.4724 - accuracy: 0.5141\n",
            "Epoch 32/100\n",
            "1387/1387 [==============================] - 5s 4ms/step - loss: 1.4383 - accuracy: 0.5090\n",
            "Epoch 33/100\n",
            "1387/1387 [==============================] - 6s 4ms/step - loss: 1.4281 - accuracy: 0.5155\n",
            "Epoch 34/100\n",
            "1387/1387 [==============================] - 5s 3ms/step - loss: 1.4094 - accuracy: 0.5205\n",
            "Epoch 35/100\n",
            "1387/1387 [==============================] - 6s 4ms/step - loss: 1.3959 - accuracy: 0.5220\n",
            "Epoch 36/100\n",
            "1387/1387 [==============================] - 5s 3ms/step - loss: 1.3997 - accuracy: 0.5177\n",
            "Epoch 37/100\n",
            "1387/1387 [==============================] - 5s 4ms/step - loss: 1.3873 - accuracy: 0.5306\n",
            "Epoch 38/100\n",
            "1387/1387 [==============================] - 6s 4ms/step - loss: 1.3601 - accuracy: 0.5278\n",
            "Epoch 39/100\n",
            "1387/1387 [==============================] - 5s 3ms/step - loss: 1.3660 - accuracy: 0.5321\n",
            "Epoch 40/100\n",
            "1387/1387 [==============================] - 6s 4ms/step - loss: 1.3426 - accuracy: 0.5242\n",
            "Epoch 41/100\n",
            "1387/1387 [==============================] - 5s 3ms/step - loss: 1.3340 - accuracy: 0.5371\n",
            "Epoch 42/100\n",
            "1387/1387 [==============================] - 5s 4ms/step - loss: 1.3447 - accuracy: 0.5335\n",
            "Epoch 43/100\n",
            "1387/1387 [==============================] - 6s 4ms/step - loss: 1.3295 - accuracy: 0.5314\n",
            "Epoch 44/100\n",
            "1387/1387 [==============================] - 5s 3ms/step - loss: 1.3236 - accuracy: 0.5407\n",
            "Epoch 45/100\n",
            "1387/1387 [==============================] - 6s 4ms/step - loss: 1.3165 - accuracy: 0.5198\n",
            "Epoch 46/100\n",
            "1387/1387 [==============================] - 5s 3ms/step - loss: 1.3016 - accuracy: 0.5371\n",
            "Epoch 47/100\n",
            "1387/1387 [==============================] - 5s 3ms/step - loss: 1.2946 - accuracy: 0.5314\n",
            "Epoch 48/100\n",
            "1387/1387 [==============================] - 6s 4ms/step - loss: 1.2865 - accuracy: 0.5342\n",
            "Epoch 49/100\n",
            "1387/1387 [==============================] - 5s 4ms/step - loss: 1.2841 - accuracy: 0.5386\n",
            "Epoch 50/100\n",
            "1387/1387 [==============================] - 7s 5ms/step - loss: 1.2886 - accuracy: 0.5321\n",
            "Epoch 51/100\n",
            "1387/1387 [==============================] - 5s 3ms/step - loss: 1.2845 - accuracy: 0.5292\n",
            "Epoch 52/100\n",
            "1387/1387 [==============================] - 5s 4ms/step - loss: 1.2768 - accuracy: 0.5429\n",
            "Epoch 53/100\n",
            "1387/1387 [==============================] - 6s 4ms/step - loss: 1.2723 - accuracy: 0.5321\n",
            "Epoch 54/100\n",
            "1387/1387 [==============================] - 5s 3ms/step - loss: 1.2514 - accuracy: 0.5379\n",
            "Epoch 55/100\n",
            "1387/1387 [==============================] - 6s 4ms/step - loss: 1.2545 - accuracy: 0.5342\n",
            "Epoch 56/100\n",
            "1387/1387 [==============================] - 5s 3ms/step - loss: 1.2492 - accuracy: 0.5559\n",
            "Epoch 57/100\n",
            "1387/1387 [==============================] - 5s 3ms/step - loss: 1.2476 - accuracy: 0.5400\n",
            "Epoch 58/100\n",
            "1387/1387 [==============================] - 6s 4ms/step - loss: 1.2476 - accuracy: 0.5342\n",
            "Epoch 59/100\n",
            "1387/1387 [==============================] - 5s 3ms/step - loss: 1.2502 - accuracy: 0.5436\n",
            "Epoch 60/100\n",
            "1387/1387 [==============================] - 6s 4ms/step - loss: 1.2366 - accuracy: 0.5364\n",
            "Epoch 61/100\n",
            "1387/1387 [==============================] - 5s 3ms/step - loss: 1.2240 - accuracy: 0.5364\n",
            "Epoch 62/100\n",
            "1387/1387 [==============================] - 5s 3ms/step - loss: 1.2175 - accuracy: 0.5407\n",
            "Epoch 63/100\n",
            "1387/1387 [==============================] - 6s 4ms/step - loss: 1.2137 - accuracy: 0.5465\n",
            "Epoch 64/100\n",
            "1387/1387 [==============================] - 5s 3ms/step - loss: 1.2286 - accuracy: 0.5415\n",
            "Epoch 65/100\n",
            "1387/1387 [==============================] - 6s 4ms/step - loss: 1.2134 - accuracy: 0.5494\n",
            "Epoch 66/100\n",
            "1387/1387 [==============================] - 5s 4ms/step - loss: 1.2086 - accuracy: 0.5451\n",
            "Epoch 67/100\n",
            "1387/1387 [==============================] - 5s 3ms/step - loss: 1.2164 - accuracy: 0.5544\n",
            "Epoch 68/100\n",
            "1387/1387 [==============================] - 6s 4ms/step - loss: 1.2096 - accuracy: 0.5494\n",
            "Epoch 69/100\n",
            "1387/1387 [==============================] - 5s 3ms/step - loss: 1.1957 - accuracy: 0.5479\n",
            "Epoch 70/100\n",
            "1387/1387 [==============================] - 6s 4ms/step - loss: 1.1958 - accuracy: 0.5508\n",
            "Epoch 71/100\n",
            "1387/1387 [==============================] - 6s 4ms/step - loss: 1.1962 - accuracy: 0.5523\n",
            "Epoch 72/100\n",
            "1387/1387 [==============================] - 5s 4ms/step - loss: 1.2032 - accuracy: 0.5494\n",
            "Epoch 73/100\n",
            "1387/1387 [==============================] - 6s 4ms/step - loss: 1.1861 - accuracy: 0.5494\n",
            "Epoch 74/100\n",
            "1387/1387 [==============================] - 5s 3ms/step - loss: 1.1977 - accuracy: 0.5472\n",
            "Epoch 75/100\n",
            "1387/1387 [==============================] - 5s 4ms/step - loss: 1.1818 - accuracy: 0.5559\n",
            "Epoch 76/100\n",
            "1387/1387 [==============================] - 6s 4ms/step - loss: 1.1950 - accuracy: 0.5501\n",
            "Epoch 77/100\n",
            "1387/1387 [==============================] - 5s 3ms/step - loss: 1.1841 - accuracy: 0.5487\n",
            "Epoch 78/100\n",
            "1387/1387 [==============================] - 6s 5ms/step - loss: 1.1967 - accuracy: 0.5451\n",
            "Epoch 79/100\n",
            "1387/1387 [==============================] - 5s 4ms/step - loss: 1.1814 - accuracy: 0.5415\n",
            "Epoch 80/100\n",
            "1387/1387 [==============================] - 5s 4ms/step - loss: 1.1885 - accuracy: 0.5386\n",
            "Epoch 81/100\n",
            "1387/1387 [==============================] - 6s 4ms/step - loss: 1.1756 - accuracy: 0.5530\n",
            "Epoch 82/100\n",
            "1387/1387 [==============================] - 5s 4ms/step - loss: 1.1682 - accuracy: 0.5559\n",
            "Epoch 83/100\n",
            "1387/1387 [==============================] - 6s 4ms/step - loss: 1.1691 - accuracy: 0.5487\n",
            "Epoch 84/100\n",
            "1387/1387 [==============================] - 5s 3ms/step - loss: 1.1697 - accuracy: 0.5537\n",
            "Epoch 85/100\n",
            "1387/1387 [==============================] - 5s 4ms/step - loss: 1.1856 - accuracy: 0.5400\n",
            "Epoch 86/100\n",
            "1387/1387 [==============================] - 6s 4ms/step - loss: 1.1688 - accuracy: 0.5451\n",
            "Epoch 87/100\n",
            "1387/1387 [==============================] - 5s 3ms/step - loss: 1.1678 - accuracy: 0.5400\n",
            "Epoch 88/100\n",
            "1387/1387 [==============================] - 6s 5ms/step - loss: 1.1752 - accuracy: 0.5335\n",
            "Epoch 89/100\n",
            "1387/1387 [==============================] - 6s 5ms/step - loss: 1.1747 - accuracy: 0.5530\n",
            "Epoch 90/100\n",
            "1387/1387 [==============================] - 6s 4ms/step - loss: 1.1521 - accuracy: 0.5472\n",
            "Epoch 91/100\n",
            "1387/1387 [==============================] - 5s 4ms/step - loss: 1.1794 - accuracy: 0.5415\n",
            "Epoch 92/100\n",
            "1387/1387 [==============================] - 5s 3ms/step - loss: 1.1874 - accuracy: 0.5552\n",
            "Epoch 93/100\n",
            "1387/1387 [==============================] - 6s 4ms/step - loss: 1.1588 - accuracy: 0.5501\n",
            "Epoch 94/100\n",
            "1387/1387 [==============================] - 5s 4ms/step - loss: 1.1519 - accuracy: 0.5494\n",
            "Epoch 95/100\n",
            "1387/1387 [==============================] - 6s 4ms/step - loss: 1.1513 - accuracy: 0.5472\n",
            "Epoch 96/100\n",
            "1387/1387 [==============================] - 5s 4ms/step - loss: 1.1428 - accuracy: 0.5479\n",
            "Epoch 97/100\n",
            "1387/1387 [==============================] - 5s 3ms/step - loss: 1.1882 - accuracy: 0.5494\n",
            "Epoch 98/100\n",
            "1387/1387 [==============================] - 6s 4ms/step - loss: 1.1541 - accuracy: 0.5487\n",
            "Epoch 99/100\n",
            "1387/1387 [==============================] - 5s 3ms/step - loss: 1.1404 - accuracy: 0.5609\n",
            "Epoch 100/100\n",
            "1387/1387 [==============================] - 6s 4ms/step - loss: 1.1425 - accuracy: 0.5479\n"
          ]
        },
        {
          "output_type": "display_data",
          "data": {
            "text/plain": [
              "<Figure size 1200x600 with 2 Axes>"
            ],
            "image/png": "[encoded data removed]"
          },
          "metadata": {}
        }
      ]
    }
  ]
}