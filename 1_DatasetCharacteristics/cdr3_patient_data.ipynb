{
 "cells": [
  {
   "cell_type": "code",
   "execution_count": 15,
   "id": "7701b185-bf4d-4890-8bf1-3b9771a57b91",
   "metadata": {},
   "outputs": [
    {
     "ename": "ERROR",
     "evalue": "Error in library(sparklyr): there is no package called 'sparklyr'\n",
     "output_type": "error",
     "traceback": [
      "Error in library(sparklyr): there is no package called 'sparklyr'\nTraceback:\n",
      "1. library(sparklyr)"
     ]
    }
   ],
   "source": [
    "library(magrittr)\n",
    "library(data.table)\n",
    "library(dplyr)\n",
    "library(tidyr)\n",
    "library(ggsci)\n",
    "library(ggplot2)\n",
    "library(ggrepel)\n",
    "library(RColorBrewer)\n",
    "#library(ggseqlogo)\n",
    "library(MVLM)\n",
    "library(jsonlite)\n",
    "library(readr)\n",
    "library(sparklyr)"
   ]
  },
  {
   "cell_type": "code",
   "execution_count": 16,
   "id": "350c3e37-132a-4395-8cc5-be6d44924cbc",
   "metadata": {},
   "outputs": [
    {
     "name": "stderr",
     "output_type": "stream",
     "text": [
      "Installing package into '/home/sukmb667/R/x86_64-pc-linux-gnu-library/4.1'\n",
      "(as 'lib' is unspecified)\n",
      "\n",
      "also installing the dependency 'xml2'\n",
      "\n",
      "\n",
      "Warning message in system2(cmd0, args, env = env, stdout = outfile, stderr = outfile, :\n",
      "\"system call failed: Cannot allocate memory\"\n",
      "Warning message in system2(cmd0, args, env = env, stdout = outfile, stderr = outfile, :\n",
      "\"error in running command\"\n",
      "Warning message in install.packages(\"sparklyr\"):\n",
      "\"installation of package 'xml2' had non-zero exit status\"\n",
      "Warning message in system2(cmd0, args, env = env, stdout = outfile, stderr = outfile, :\n",
      "\"system call failed: Cannot allocate memory\"\n",
      "Warning message in system2(cmd0, args, env = env, stdout = outfile, stderr = outfile, :\n",
      "\"error in running command\"\n",
      "Warning message in install.packages(\"sparklyr\"):\n",
      "\"installation of package 'sparklyr' had non-zero exit status\"\n"
     ]
    }
   ],
   "source": [
    "install.packages(\"sparklyr\")"
   ]
  },
  {
   "cell_type": "code",
   "execution_count": 4,
   "id": "8d726d0d-0a38-4369-9a5e-69597f7a4903",
   "metadata": {},
   "outputs": [
    {
     "name": "stderr",
     "output_type": "stream",
     "text": [
      "Warning message:\n",
      "\"\u001b[1m\u001b[22mExpected 2 pieces. Missing pieces filled with `NA` in 31 rows [1, 24, 25, 26, 27, 28, 29, 30, 31, 32, 33, 34, 35, 36, 37, 38, 39, 40, 41, 42, ...].\"\n"
     ]
    }
   ],
   "source": [
    "# IMGT database\n",
    "\n",
    "database <- fromJSON('imgt.202312-3.sv8.json')[[5]][[8]]\n",
    "database <- extract(database, uri, into = c('fasta', 'gene'), regex = \"(.*)#(.*)\", remove = TRUE)\n",
    "\n",
    "database_tcr <- filter(database, (grepl('TRBJ', gene) | grepl('TRBV', gene))) %>% \n",
    "  select(gene, sequence)\n",
    "\n",
    "database_tcr_v <- filter(database_tcr, grepl('TRBV', gene)) %>% \n",
    "  mutate(gene_number = sub('TRBV','', gene)) %>%\n",
    "  separate(gene_number, into = c('gene_number', 'allele'), sep = '\\\\*', remove = T) %>%\n",
    "  separate(gene_number, into = c('gene_number', 'transcript'), sep = '-', remove = T)\n",
    "database_tcr_v <- replace_na(database_tcr_v, list(transcript = '1'))\n",
    "database_tcr_v$gene_number <- sprintf('%02s', c(database_tcr_v$gene_number))\n",
    "database_tcr_v$transcript <- sprintf('%02s', c(database_tcr_v$transcript))\n",
    "database_tcr_v <- database_tcr_v %>% mutate(vGeneName = paste0(paste0(paste0('TCRBV',gene_number),'-'),transcript))\n",
    "  \n",
    "\n",
    "\n",
    "database_tcr_j <- filter(database_tcr, grepl('TRBJ', gene)) %>%\n",
    "  mutate(gene_number = sub('TRBJ','', gene)) %>%\n",
    "  separate(gene_number, into = c('gene_number', 'allele'), sep = '\\\\*', remove = T) %>%\n",
    "  separate(gene_number, into = c('gene_number', 'transcript'), sep = '-', remove = T)\n",
    "database_tcr_j <- replace_na(database_tcr_j, list(transcript = '1'))\n",
    "database_tcr_j$gene_number <- sprintf('%02s', c(database_tcr_j$gene_number))\n",
    "database_tcr_j$transcript <- sprintf('%02s', c(database_tcr_j$transcript))\n",
    "database_tcr_j <- database_tcr_j %>% mutate(jGeneName = paste0(paste0(paste0('TCRBJ',gene_number),'-'),transcript))\n",
    "\n",
    "\n",
    "#-------------V and J germ-line database-----\n",
    "\n",
    "#AAs encoded in V gene germline sequences\n",
    "V_germ_line <- read.table(\"data/V_exclude_AA.info\",\n",
    "                          header=T,colClasses=\"character\")\n",
    "V_germ_line$IMGT <- paste0(\"P\",V_germ_line$IMGT)\n",
    "V_exclude <- paste0(V_germ_line$Vgene,\":\",V_germ_line$IMGT,\":\",V_germ_line$AA)\n",
    "\n",
    "#AAs encoded in J gene germline sequences (we need to consider CDR3 length for J genes)\n",
    "J_germ_line <- read.table(\"data/J_exclude_AA.info\",\n",
    "                          header=T,colClasses=\"character\")\n",
    "J_germ_line$IMGT <- paste0(\"P\",J_germ_line$IMGT)\n",
    "J_exclude <- paste0(J_germ_line$Jgene,':',J_germ_line$Length,\":\",J_germ_line$IMGT,\":\",J_germ_line$AA)\n",
    "\n",
    "\n",
    "\n"
   ]
  },
  {
   "cell_type": "code",
   "execution_count": 7,
   "id": "d535b910-2e39-4fc0-8d02-a174c6ee320a",
   "metadata": {},
   "outputs": [
    {
     "data": {
      "text/html": [
       "18"
      ],
      "text/latex": [
       "18"
      ],
      "text/markdown": [
       "18"
      ],
      "text/plain": [
       "[1] 18"
      ]
     },
     "metadata": {},
     "output_type": "display_data"
    }
   ],
   "source": [
    "\n",
    "\n",
    "#-------all IMGT positions--------\n",
    "all_imgt_pos <- c(\n",
    "  \"P104\",\"P105\",\"P106\",\"P107\",\"P108\",\"P109\",\"P110\",\"P111\",\n",
    "  \"P111.1\",\"P112.2\",\"P112.1\",\n",
    "  \"P112\",\"P113\",\"P114\",\"P115\",\"P116\",\"P117\",\"P118\")\n",
    "length(all_imgt_pos)\n",
    "\n",
    "\n",
    "#-------Custom function to align CDR3 AA seq to IMGT------\n",
    "align_imgt <- function(CDR3){\n",
    "  AA <- unlist(strsplit(CDR3, \"\"));\n",
    "  N_AA_fow <- nchar(CDR3) %/% 2 + nchar(CDR3) %% 2;\n",
    "  N_AA_na <- 18 - nchar(CDR3);\n",
    "  AAmod <- c(\n",
    "    AA[1:(N_AA_fow)],\n",
    "    rep(\"NA\",N_AA_na),\n",
    "    AA[(N_AA_fow + 1):nchar(CDR3)]\n",
    "  );\n",
    "  names(AAmod) <- all_imgt_pos\n",
    "  return(t(AAmod))\n",
    "}\n",
    "\n",
    "cdr3_read <- function(){\n",
    "    \n",
    "    #---get a list of patients-------\n",
    "    individuals_to_match <- list.files('data/CMV')[grep('.tsv', list.files('data/CMV'))]\n",
    "    individuals_to_match <- individuals_to_match[grep('P', individuals_to_match)]\n",
    "    cdr3_data <- data.frame(matrix(ncol= 8, nrow = 0))\n",
    "    colnames(cdr3_data) <- c('patient_id_Emerson', 'rearrangement', 'amino_acid', 'v_family', 'v_gene', 'j_family', 'j_gene', 'cdr3_length')\n",
    "\n",
    "    for (indiv in individuals_to_match){\n",
    "        \n",
    "        tdata <- read.csv(paste0(\"data/CMV/\",indiv), sep= '\\t', header = T, colClasses = 'character')  %>% \n",
    "            select(c(rearrangement, amino_acid, v_family, v_gene, j_family, j_gene, cdr3_length)) %>% \n",
    "            mutate(func = ifelse((grepl('\\\\*', amino_acid) | amino_acid == ''), 'non_productive', 'productive')) %>%\n",
    "            mutate(patient_id_Emerson = substr(indiv, 4, 6)) %>%\n",
    "            filter(func == 'productive') %>% \n",
    "            filter((cdr3_length>=36) & (cdr3_length<=54)) %>% \n",
    "            filter(substr(amino_acid,1,1)=='C' & substr(amino_acid,nchar(amino_acid),nchar(amino_acid))=='F') %>%\n",
    "            filter(v_gene != '') %>%\n",
    "            filter(v_gene %in% unique(V_germ_line$Vgene)) %>%\n",
    "            filter(j_gene %in% unique(J_germ_line$Jgene)) %>%\n",
    "            mutate(length = nchar(amino_acid)) %>%\n",
    "            select(patient_id_Emerson, amino_acid, v_gene, j_gene, length, func)\n",
    "        cdr3_data <- rbind(cdr3_data, tdata)\n",
    "        }\n",
    "\n",
    "    return(cdr3_data)\n",
    "    \n",
    "}\n",
    "    \n",
    "#----------column of CDR3s starts with C and ends with F------------\n",
    "imgt_pivot <- function(tdata){    \n",
    "    tdata_productive_subseting <- tdata %>% \n",
    "      dplyr::filter(func == 'productive') %>% \n",
    "      dplyr::filter((length>=12) & (length<=18)) %>% \n",
    "      dplyr::filter(substr(amino_acid,1,1)=='C' & substr(amino_acid,nchar(amino_acid),nchar(amino_acid))=='F') %>%\n",
    "      dplyr::filter(v_gene != '') %>%\n",
    "      dplyr::filter(v_gene %in% unique(V_germ_line$Vgene)) %>%\n",
    "      dplyr::filter(j_gene %in% unique(J_germ_line$Jgene)) %>%\n",
    "      select(patient_id_Emerson, amino_acid, v_gene, j_gene, length)\n",
    "    \n",
    "    #Add imgt position data to tdata_qc\n",
    "    tdata_imgt_pos <- t(sapply(as.character(tdata_productive_subseting$amino_acid),align_imgt))\n",
    "    colnames(tdata_imgt_pos) <- all_imgt_pos\n",
    "    tdata_qc_imgt <- data.frame(tdata_productive_subseting,tdata_imgt_pos)\n",
    "    \n",
    "    #--------my part with excluding the germ line AA----\n",
    "    tdata_qc_imgt_pivot_long <- tdata_qc_imgt %>% pivot_longer(all_of(all_imgt_pos), names_to = 'IMGT', values_to = 'AA')\n",
    "    tdata_qc_imgt_pivot_long$v_pos_aa <- paste0(tdata_qc_imgt_pivot_long$v_gene,\":\",tdata_qc_imgt_pivot_long$IMGT,\":\",tdata_qc_imgt_pivot_long$AA)\n",
    "    tdata_qc_imgt_pivot_long$j_len_pos_aa <- paste0(tdata_qc_imgt_pivot_long$j_gene,\":\",tdata_qc_imgt_pivot_long$length, ':', tdata_qc_imgt_pivot_long$IMGT,\":\",tdata_qc_imgt_pivot_long$AA)\n",
    "    tdata_qc_imgt_pivot_long_excluded_germ <- tdata_qc_imgt_pivot_long %>%\n",
    "      filter(!(v_pos_aa %in% V_exclude)) %>%\n",
    "      filter(!(j_len_pos_aa %in% J_exclude)) %>%\n",
    "      filter(!(AA == 'NA')) %>%\n",
    "      select(patient_id_Emerson,amino_acid, length, IMGT, AA)\n",
    "   \n",
    "\n",
    "    #--------density of pos_length coverage-------\n",
    "    \n",
    "    tdata_pivot_pos_length_density <- tdata_qc_imgt_pivot_long_excluded_germ %>%\n",
    "      select(patient_id_Emerson,length, IMGT) %>%\n",
    "      group_by(patient_id_Emerson,length, IMGT) %>%\n",
    "      count()\n",
    "    \n",
    "    tdata_pivot_pos_length_aa_freq <- tdata_qc_imgt_pivot_long_excluded_germ %>%\n",
    "      select(patient_id_Emerson,length, IMGT,AA) %>%\n",
    "      group_by(patient_id_Emerson,length, IMGT) %>%\n",
    "      count(AA) %>%\n",
    "      mutate(total_per_length_position = sum(n)) %>%\n",
    "      filter(total_per_length_position >= 18)\n",
    "    \n",
    "    tdata_pivot_pos_length_aa_freq$relativ_freq <- tdata_pivot_pos_length_aa_freq$n / tdata_pivot_pos_length_aa_freq$total_per_length_position\n",
    "    tdata_pivot_pos_length_aa_freq <- tdata_pivot_pos_length_aa_freq %>% \n",
    "      group_by(patient_id_Emerson,length, IMGT) %>% \n",
    "      mutate(sum_freq = sum(relativ_freq))\n",
    "\n",
    "    return(tdata_pivot_pos_length_aa_freq)\n",
    "  }\n",
    "\n",
    "    \n",
    "    ###continuation from the cdr3-qtl atricle----\n",
    "    #we transformed each amino acid frequency into a standard normal distribution (INT-transform).\n",
    "    #we used this transformed data as in many other eQTL studies.\n",
    "cdr3_matrix <- function(tdata_pivot_pos_length_aa_freq){ \n",
    "    \n",
    "    pall <- data.frame()\n",
    "    #tdata_pivot_pos_length_aa_freq$pos_length <- paste0(tdata_pivot_pos_length_aa_freq$IMGT, ':',tdata_pivot_pos_length_aa_freq$length)\n",
    "    pdata <- tdata_pivot_pos_length_aa_freq\n",
    "    pnamelist <- unique(pdata$AA)\n",
    "    \n",
    "    for (ptarget in pnamelist){\n",
    "      pdata2 <- subset(pdata, AA==ptarget)\n",
    "      pdata2 <- pdata2[,c(\"patient_id_Emerson\", \"relativ_freq\")]\n",
    "      x <- pdata2$relativ_freq\n",
    "      pdata2$normrate <- qnorm((rank(x, na.last=\"keep\") - 0.5) / sum(!is.na(x)) ) #inverse normal normalization\n",
    "      \n",
    "      df <- pdata2[,c(\"patient_id_Emerson\",\"normrate\")]\n",
    "      df$AA <- ptarget\n",
    "      pall <- rbind(pall,df)\n",
    "    }\n",
    "    \n",
    "    \n",
    "    #transform pall into a matrix\n",
    "    #-------check the logic-----------\n",
    "    mat <- matrix(0, nrow=length(unique(pall$patient_id_Emerson)), ncol = length(unique(pall$AA)))\n",
    "    row.names(mat) <- unique(pall$patient_id_Emerson)\n",
    "    colnames(mat) <- unique(pall$AA)\n",
    "    \n",
    "    for( i in unique(pall$patient_id_Emerson) ){\n",
    "      for( k in unique(pall$AA) ){\n",
    "        out <- subset(pall, patient_id_Emerson==i & AA==k)\n",
    "        if( nrow(out) ==1 ){\n",
    "          mat[i,k] <- out$normrate\n",
    "        }else{\n",
    "          mat[i,k] <- 0\n",
    "        }\n",
    "      }\n",
    "    }\n",
    "    mat <- data.frame(patient_id_Emerson=row.names(mat),mat)\n",
    "    return(mat)\n",
    "}"
   ]
  },
  {
   "cell_type": "code",
   "execution_count": 4,
   "id": "b00d2cdb-a6cf-4f74-a6e5-18cccc993f8b",
   "metadata": {
    "jupyter": {
     "source_hidden": true
    }
   },
   "outputs": [],
   "source": [
    "cdr3 <- cdr3_read()\n",
    "write_tsv(cdr3, 'cdr3.tsv')"
   ]
  },
  {
   "cell_type": "code",
   "execution_count": 1,
   "id": "21e18f52-31ab-47e4-ace5-83a9ea802829",
   "metadata": {},
   "outputs": [],
   "source": [
    "cdr3 <- read.csv2('cdr3.tsv', sep = '\\t', header = TRUE)"
   ]
  },
  {
   "cell_type": "code",
   "execution_count": 8,
   "id": "0aaa9858-ea28-4e1d-8e4b-4fb8078ad208",
   "metadata": {},
   "outputs": [
    {
     "ename": "ERROR",
     "evalue": "Error: cannot allocate vector of size 10.0 Gb\n",
     "output_type": "error",
     "traceback": [
      "Error: cannot allocate vector of size 10.0 Gb\nTraceback:\n",
      "1. imgt_pivot(cdr3)",
      "2. tdata_qc_imgt_pivot_long %>% filter(!(v_pos_aa %in% V_exclude)) %>% \n .     filter(!(j_len_pos_aa %in% J_exclude)) %>% filter(!(AA == \n .     \"NA\")) %>% select(patient_id_Emerson, amino_acid, length, \n .     IMGT, AA)   # at line 74-78 of file <text>",
      "3. select(., patient_id_Emerson, amino_acid, length, IMGT, AA)",
      "4. filter(., !(AA == \"NA\"))",
      "5. filter(., !(j_len_pos_aa %in% J_exclude))",
      "6. filter(., !(v_pos_aa %in% V_exclude))",
      "7. filter.data.frame(., !(v_pos_aa %in% V_exclude))",
      "8. dplyr_row_slice(.data, loc, preserve = .preserve)",
      "9. dplyr_row_slice.data.frame(.data, loc, preserve = .preserve)",
      "10. dplyr_reconstruct(vec_slice(data, i), data)",
      "11. dplyr_new_data_frame(data)",
      "12. row.names %||% .row_names_info(x, type = 0L)",
      "13. .row_names_info(x, type = 0L)",
      "14. vec_slice(data, i)"
     ]
    }
   ],
   "source": [
    "pivoted_cdr3 <- imgt_pivot(cdr3)\n",
    "write_tsv(cdr3, 'cdr3.tsv')"
   ]
  },
  {
   "cell_type": "code",
   "execution_count": 5,
   "id": "b77e03e7-9910-4a2e-9e03-a98b47b72453",
   "metadata": {},
   "outputs": [
    {
     "data": {
      "text/html": [
       "<table class=\"dataframe\">\n",
       "<caption>A data.frame: 6 x 6</caption>\n",
       "<thead>\n",
       "\t<tr><th></th><th scope=col>patient_id_Emerson</th><th scope=col>amino_acid</th><th scope=col>v_gene</th><th scope=col>j_gene</th><th scope=col>length</th><th scope=col>func</th></tr>\n",
       "\t<tr><th></th><th scope=col>&lt;int&gt;</th><th scope=col>&lt;chr&gt;</th><th scope=col>&lt;chr&gt;</th><th scope=col>&lt;chr&gt;</th><th scope=col>&lt;int&gt;</th><th scope=col>&lt;chr&gt;</th></tr>\n",
       "</thead>\n",
       "<tbody>\n",
       "\t<tr><th scope=row>96965876</th><td>668</td><td>CASSTGTFMNTEAFF </td><td>TCRBV07-03</td><td>TCRBJ01-01</td><td>15</td><td>productive</td></tr>\n",
       "\t<tr><th scope=row>96965877</th><td>668</td><td>CASSPGTDNEQFF   </td><td>TCRBV07-03</td><td>TCRBJ02-01</td><td>13</td><td>productive</td></tr>\n",
       "\t<tr><th scope=row>96965878</th><td>668</td><td>CASSLNGGNSYNEQFF</td><td>TCRBV07-03</td><td>TCRBJ02-01</td><td>16</td><td>productive</td></tr>\n",
       "\t<tr><th scope=row>96965879</th><td>668</td><td>CASSQQGGSEQYF   </td><td>TCRBV07-03</td><td>TCRBJ02-07</td><td>13</td><td>productive</td></tr>\n",
       "\t<tr><th scope=row>96965880</th><td>668</td><td>CASSFQPGREQYF   </td><td>TCRBV07-03</td><td>TCRBJ02-07</td><td>13</td><td>productive</td></tr>\n",
       "\t<tr><th scope=row>96965881</th><td>668</td><td>CASSRTGPGTEAFF  </td><td>TCRBV07-03</td><td>TCRBJ01-01</td><td>14</td><td>productive</td></tr>\n",
       "</tbody>\n",
       "</table>\n"
      ],
      "text/latex": [
       "A data.frame: 6 x 6\n",
       "\\begin{tabular}{r|llllll}\n",
       "  & patient\\_id\\_Emerson & amino\\_acid & v\\_gene & j\\_gene & length & func\\\\\n",
       "  & <int> & <chr> & <chr> & <chr> & <int> & <chr>\\\\\n",
       "\\hline\n",
       "\t96965876 & 668 & CASSTGTFMNTEAFF  & TCRBV07-03 & TCRBJ01-01 & 15 & productive\\\\\n",
       "\t96965877 & 668 & CASSPGTDNEQFF    & TCRBV07-03 & TCRBJ02-01 & 13 & productive\\\\\n",
       "\t96965878 & 668 & CASSLNGGNSYNEQFF & TCRBV07-03 & TCRBJ02-01 & 16 & productive\\\\\n",
       "\t96965879 & 668 & CASSQQGGSEQYF    & TCRBV07-03 & TCRBJ02-07 & 13 & productive\\\\\n",
       "\t96965880 & 668 & CASSFQPGREQYF    & TCRBV07-03 & TCRBJ02-07 & 13 & productive\\\\\n",
       "\t96965881 & 668 & CASSRTGPGTEAFF   & TCRBV07-03 & TCRBJ01-01 & 14 & productive\\\\\n",
       "\\end{tabular}\n"
      ],
      "text/markdown": [
       "\n",
       "A data.frame: 6 x 6\n",
       "\n",
       "| <!--/--> | patient_id_Emerson &lt;int&gt; | amino_acid &lt;chr&gt; | v_gene &lt;chr&gt; | j_gene &lt;chr&gt; | length &lt;int&gt; | func &lt;chr&gt; |\n",
       "|---|---|---|---|---|---|---|\n",
       "| 96965876 | 668 | CASSTGTFMNTEAFF  | TCRBV07-03 | TCRBJ01-01 | 15 | productive |\n",
       "| 96965877 | 668 | CASSPGTDNEQFF    | TCRBV07-03 | TCRBJ02-01 | 13 | productive |\n",
       "| 96965878 | 668 | CASSLNGGNSYNEQFF | TCRBV07-03 | TCRBJ02-01 | 16 | productive |\n",
       "| 96965879 | 668 | CASSQQGGSEQYF    | TCRBV07-03 | TCRBJ02-07 | 13 | productive |\n",
       "| 96965880 | 668 | CASSFQPGREQYF    | TCRBV07-03 | TCRBJ02-07 | 13 | productive |\n",
       "| 96965881 | 668 | CASSRTGPGTEAFF   | TCRBV07-03 | TCRBJ01-01 | 14 | productive |\n",
       "\n"
      ],
      "text/plain": [
       "         patient_id_Emerson amino_acid       v_gene     j_gene     length\n",
       "96965876 668                CASSTGTFMNTEAFF  TCRBV07-03 TCRBJ01-01 15    \n",
       "96965877 668                CASSPGTDNEQFF    TCRBV07-03 TCRBJ02-01 13    \n",
       "96965878 668                CASSLNGGNSYNEQFF TCRBV07-03 TCRBJ02-01 16    \n",
       "96965879 668                CASSQQGGSEQYF    TCRBV07-03 TCRBJ02-07 13    \n",
       "96965880 668                CASSFQPGREQYF    TCRBV07-03 TCRBJ02-07 13    \n",
       "96965881 668                CASSRTGPGTEAFF   TCRBV07-03 TCRBJ01-01 14    \n",
       "         func      \n",
       "96965876 productive\n",
       "96965877 productive\n",
       "96965878 productive\n",
       "96965879 productive\n",
       "96965880 productive\n",
       "96965881 productive"
      ]
     },
     "metadata": {},
     "output_type": "display_data"
    }
   ],
   "source": [
    "tail(pivoted_cdr3)"
   ]
  },
  {
   "cell_type": "markdown",
   "id": "eee78399-a8df-4cfa-b47d-7c61314f6c42",
   "metadata": {},
   "source": [
    "### preparing cdr3 matrix for 34 patients of CDR3s length 13 position P107"
   ]
  },
  {
   "cell_type": "code",
   "execution_count": 15,
   "id": "31ab4e03-ca68-48a6-ad49-d61cd508b74e",
   "metadata": {},
   "outputs": [],
   "source": [
    "cdr3_34 <- read.csv2('cdr3.tsv', sep = '\\t', header = TRUE, nrow = 5000000)\n",
    "pivoted_cdr3_34 <- imgt_pivot(cdr3_34)\n",
    "write_tsv(pivoted_cdr3_34, 'pivoted_cdr3_subset_34_patients.tsv')"
   ]
  },
  {
   "cell_type": "code",
   "execution_count": 17,
   "id": "06a7891d-eda7-4d8e-98d1-a13bc1d09621",
   "metadata": {},
   "outputs": [],
   "source": [
    "write_tsv(pivoted_cdr3, 'pivoted_cdr3_subset_34_patients.tsv')"
   ]
  },
  {
   "cell_type": "code",
   "execution_count": 20,
   "id": "8fd60c81-708b-479c-826e-46fac203b56c",
   "metadata": {},
   "outputs": [],
   "source": [
    "pivoted_cdr3_L13_P107 <- pivoted_cdr3 %>% filter(length == 13 & IMGT == 'P107')\n",
    "pivoted_cdr3_matrix <- cdr3_matrix(pivoted_cdr3_L13_P107)"
   ]
  },
  {
   "cell_type": "code",
   "execution_count": 31,
   "id": "40dc93f1-ca09-4cd2-88a5-e9a154c290d4",
   "metadata": {},
   "outputs": [],
   "source": []
  },
  {
   "cell_type": "code",
   "execution_count": 33,
   "id": "be18c14d-0bdd-4582-b61a-fb6e097aae80",
   "metadata": {},
   "outputs": [
    {
     "data": {
      "text/html": [
       "<table class=\"dataframe\">\n",
       "<caption>A data.frame: 34 x 21</caption>\n",
       "<thead>\n",
       "\t<tr><th></th><th scope=col>patient_id_Emerson</th><th scope=col>A</th><th scope=col>C</th><th scope=col>D</th><th scope=col>E</th><th scope=col>F</th><th scope=col>G</th><th scope=col>H</th><th scope=col>I</th><th scope=col>K</th><th scope=col>...</th><th scope=col>M</th><th scope=col>N</th><th scope=col>P</th><th scope=col>Q</th><th scope=col>R</th><th scope=col>S</th><th scope=col>T</th><th scope=col>V</th><th scope=col>W</th><th scope=col>Y</th></tr>\n",
       "\t<tr><th></th><th scope=col>&lt;chr&gt;</th><th scope=col>&lt;dbl&gt;</th><th scope=col>&lt;dbl&gt;</th><th scope=col>&lt;dbl&gt;</th><th scope=col>&lt;dbl&gt;</th><th scope=col>&lt;dbl&gt;</th><th scope=col>&lt;dbl&gt;</th><th scope=col>&lt;dbl&gt;</th><th scope=col>&lt;dbl&gt;</th><th scope=col>&lt;dbl&gt;</th><th scope=col>...</th><th scope=col>&lt;dbl&gt;</th><th scope=col>&lt;dbl&gt;</th><th scope=col>&lt;dbl&gt;</th><th scope=col>&lt;dbl&gt;</th><th scope=col>&lt;dbl&gt;</th><th scope=col>&lt;dbl&gt;</th><th scope=col>&lt;dbl&gt;</th><th scope=col>&lt;dbl&gt;</th><th scope=col>&lt;dbl&gt;</th><th scope=col>&lt;dbl&gt;</th></tr>\n",
       "</thead>\n",
       "<tbody>\n",
       "\t<tr><th scope=row>1</th><td>1 </td><td> 0.18536702</td><td>-1.11533736</td><td> 0.98723099</td><td> 0.77020808</td><td>-0.77020808</td><td>-0.33809166</td><td>-0.87356913</td><td> 0.26096740</td><td> 0.26096740</td><td>...</td><td> 1.26496924</td><td> 1.44999891</td><td> 1.44999891</td><td> 0.18536702</td><td>-1.26496924</td><td>-0.38941430</td><td> 0.26096740</td><td>-1.26496924</td><td>-0.58458986</td><td> 1.44999891</td></tr>\n",
       "\t<tr><th scope=row>2</th><td>2 </td><td> 1.11533736</td><td>-0.26096740</td><td>-0.77020808</td><td>-1.70478090</td><td> 0.18536702</td><td>-0.41728414</td><td> 1.26496924</td><td> 0.67448975</td><td> 0.58458986</td><td>...</td><td>-1.26496924</td><td> 1.11533736</td><td>-1.44999891</td><td>-0.03687053</td><td> 0.87356913</td><td> 1.43420016</td><td>-0.33809166</td><td>-0.33809166</td><td>-0.67448975</td><td>-1.44999891</td></tr>\n",
       "\t<tr><th scope=row>3</th><td>3 </td><td>-1.70478090</td><td> 1.11533736</td><td>-1.11533736</td><td> 1.26496924</td><td> 0.03687053</td><td>-1.44999891</td><td>-0.98723099</td><td> 1.70478090</td><td> 1.11533736</td><td>...</td><td> 0.49918784</td><td>-0.03687053</td><td> 0.33809166</td><td> 0.67448975</td><td>-0.41728414</td><td>-2.16610675</td><td> 0.77020808</td><td>-0.03687053</td><td> 0.58458986</td><td>-0.18536702</td></tr>\n",
       "\t<tr><th scope=row>4</th><td>4 </td><td> 0.33809166</td><td>-0.49918784</td><td> 0.33809166</td><td> 0.26096740</td><td>-0.26096740</td><td>-0.26096740</td><td>-0.11081291</td><td>-0.67448975</td><td>-0.03687053</td><td>...</td><td> 0.41728414</td><td> 0.77020808</td><td>-0.49918784</td><td> 0.87356913</td><td>-0.26096740</td><td> 0.07603162</td><td> 0.33809166</td><td> 0.26096740</td><td>-0.18536702</td><td>-0.11081291</td></tr>\n",
       "\t<tr><th scope=row>5</th><td>5 </td><td> 0.58458986</td><td>-0.41728414</td><td> 2.17792307</td><td> 1.44999891</td><td> 1.44999891</td><td> 1.44999891</td><td> 0.67448975</td><td> 0.98723099</td><td>-2.17792307</td><td>...</td><td>-1.44999891</td><td>-2.17792307</td><td> 2.17792307</td><td> 0.11081291</td><td>-2.17792307</td><td> 0.38941430</td><td>-1.70478090</td><td> 0.87356913</td><td>-0.41728414</td><td> 1.11533736</td></tr>\n",
       "\t<tr><th scope=row>6</th><td>6 </td><td>-0.11081291</td><td>-1.26496924</td><td> 0.03687053</td><td>-0.77020808</td><td> 0.67448975</td><td>-0.98723099</td><td>-0.41728414</td><td>-2.17792307</td><td> 1.26496924</td><td>...</td><td> 0.87356913</td><td> 1.70478090</td><td>-0.98723099</td><td>-0.67448975</td><td> 0.67448975</td><td>-0.30866581</td><td> 0.03687053</td><td> 1.44999891</td><td>-1.11533736</td><td>-0.26096740</td></tr>\n",
       "\t<tr><th scope=row>7</th><td>7 </td><td> 0.87356913</td><td> 1.44999891</td><td> 0.49918784</td><td>-0.18536702</td><td>-0.49918784</td><td> 0.49918784</td><td> 0.03687053</td><td> 0.58458986</td><td>-1.11533736</td><td>...</td><td>-0.77020808</td><td> 0.26096740</td><td> 0.18536702</td><td> 0.26096740</td><td>-0.03687053</td><td>-0.22988412</td><td> 0.58458986</td><td>-0.58458986</td><td>-1.44999891</td><td>-0.98723099</td></tr>\n",
       "\t<tr><th scope=row>8</th><td>8 </td><td> 2.17792307</td><td> 0.33809166</td><td> 1.26496924</td><td>-2.17792307</td><td> 0.26096740</td><td> 1.70478090</td><td>-2.17792307</td><td> 0.87356913</td><td>-1.44999891</td><td>...</td><td>-1.70478090</td><td>-0.58458986</td><td> 0.03687053</td><td> 2.17792307</td><td>-0.98723099</td><td> 2.16610675</td><td>-0.11081291</td><td>-0.87356913</td><td>-0.87356913</td><td>-0.49918784</td></tr>\n",
       "\t<tr><th scope=row>9</th><td>9 </td><td>-1.11533736</td><td> 0.03687053</td><td> 0.18536702</td><td> 0.49918784</td><td> 0.11081291</td><td>-0.58458986</td><td>-0.33809166</td><td> 1.44999891</td><td>-0.33809166</td><td>...</td><td> 0.33809166</td><td>-0.18536702</td><td>-0.18536702</td><td> 0.58458986</td><td>-0.18536702</td><td>-0.85249503</td><td>-0.58458986</td><td> 2.17792307</td><td> 0.77020808</td><td> 0.98723099</td></tr>\n",
       "\t<tr><th scope=row>10</th><td>10</td><td>-0.77020808</td><td>-1.70478090</td><td>-0.03687053</td><td>-0.49918784</td><td>-2.17792307</td><td>-1.70478090</td><td> 0.58458986</td><td>-1.70478090</td><td> 1.44999891</td><td>...</td><td>-0.26096740</td><td> 0.58458986</td><td> 0.49918784</td><td> 1.70478090</td><td> 0.18536702</td><td> 1.69062163</td><td> 1.11533736</td><td> 1.11533736</td><td>-0.03687053</td><td> 0.18536702</td></tr>\n",
       "\t<tr><th scope=row>11</th><td>11</td><td> 0.67448975</td><td> 2.17792307</td><td> 1.11533736</td><td> 1.70478090</td><td> 0.33809166</td><td> 0.58458986</td><td>-1.26496924</td><td>-0.33809166</td><td>-0.77020808</td><td>...</td><td>-0.98723099</td><td> 0.41728414</td><td> 0.41728414</td><td>-1.44999891</td><td>-1.44999891</td><td> 0.96742157</td><td> 1.26496924</td><td>-0.67448975</td><td>-0.98723099</td><td> 1.70478090</td></tr>\n",
       "\t<tr><th scope=row>12</th><td>12</td><td>-2.17792307</td><td> 0.67448975</td><td>-0.49918784</td><td>-1.26496924</td><td> 0.98723099</td><td>-1.26496924</td><td> 0.77020808</td><td>-0.49918784</td><td> 2.17792307</td><td>...</td><td> 0.58458986</td><td> 1.26496924</td><td>-0.26096740</td><td>-0.18536702</td><td> 0.98723099</td><td>-1.43420016</td><td> 0.18536702</td><td>-1.70478090</td><td> 1.11533736</td><td> 1.26496924</td></tr>\n",
       "\t<tr><th scope=row>13</th><td>13</td><td> 0.03687053</td><td>-0.87356913</td><td>-0.98723099</td><td>-0.33809166</td><td>-0.18536702</td><td>-0.87356913</td><td> 0.87356913</td><td>-0.41728414</td><td>-0.18536702</td><td>...</td><td> 1.11533736</td><td>-1.11533736</td><td> 0.77020808</td><td> 0.77020808</td><td> 1.11533736</td><td>-0.07603162</td><td>-0.98723099</td><td> 0.03687053</td><td> 1.70478090</td><td> 0.58458986</td></tr>\n",
       "\t<tr><th scope=row>14</th><td>14</td><td>-0.49918784</td><td> 0.58458986</td><td>-1.44999891</td><td>-0.67448975</td><td> 1.26496924</td><td> 0.41728414</td><td> 2.17792307</td><td>-0.03687053</td><td>-0.49918784</td><td>...</td><td>-0.03687053</td><td>-0.49918784</td><td> 1.11533736</td><td> 0.33809166</td><td> 0.77020808</td><td>-1.09680356</td><td>-0.77020808</td><td>-0.18536702</td><td>-0.11081291</td><td> 0.49918784</td></tr>\n",
       "\t<tr><th scope=row>15</th><td>15</td><td> 0.98723099</td><td> 0.87356913</td><td> 0.58458986</td><td> 0.87356913</td><td> 1.70478090</td><td> 2.17792307</td><td> 0.33809166</td><td> 0.03687053</td><td> 0.03687053</td><td>...</td><td> 1.70478090</td><td>-0.11081291</td><td>-0.33809166</td><td>-1.70478090</td><td>-0.77020808</td><td> 0.22988412</td><td>-2.17792307</td><td> 1.70478090</td><td>-1.26496924</td><td> 0.33809166</td></tr>\n",
       "\t<tr><th scope=row>16</th><td>16</td><td>-0.67448975</td><td>-1.44999891</td><td> 0.41728414</td><td>-0.41728414</td><td>-0.98723099</td><td> 0.26096740</td><td>-0.26096740</td><td>-0.26096740</td><td>-0.58458986</td><td>...</td><td>-0.41728414</td><td>-0.87356913</td><td>-1.26496924</td><td>-0.77020808</td><td> 1.70478090</td><td> 0.47278912</td><td>-0.26096740</td><td>-0.77020808</td><td> 0.18536702</td><td> 0.26096740</td></tr>\n",
       "\t<tr><th scope=row>17</th><td>17</td><td> 0.49918784</td><td>-0.98723099</td><td>-0.18536702</td><td> 0.98723099</td><td>-0.87356913</td><td> 0.03687053</td><td> 0.18536702</td><td>-0.58458986</td><td>-0.87356913</td><td>...</td><td> 0.26096740</td><td> 0.18536702</td><td>-0.41728414</td><td> 1.11533736</td><td>-0.33809166</td><td>-0.96742157</td><td> 0.49918784</td><td>-0.41728414</td><td> 1.44999891</td><td> 0.77020808</td></tr>\n",
       "\t<tr><th scope=row>18</th><td>18</td><td> 1.70478090</td><td>-0.77020808</td><td> 0.77020808</td><td>-1.11533736</td><td>-1.70478090</td><td> 0.98723099</td><td> 1.11533736</td><td>-0.18536702</td><td>-1.70478090</td><td>...</td><td>-0.18536702</td><td>-1.26496924</td><td>-0.11081291</td><td>-0.41728414</td><td>-0.11081291</td><td> 1.09680356</td><td>-1.26496924</td><td> 0.49918784</td><td> 1.26496924</td><td> 2.17792307</td></tr>\n",
       "\t<tr><th scope=row>19</th><td>19</td><td>-0.58458986</td><td> 0.18536702</td><td>-0.67448975</td><td>-0.58458986</td><td>-0.67448975</td><td> 0.18536702</td><td>-0.77020808</td><td> 0.49918784</td><td> 0.41728414</td><td>...</td><td>-2.17792307</td><td>-0.33809166</td><td> 0.58458986</td><td>-0.98723099</td><td> 1.26496924</td><td> 0.55959227</td><td>-1.44999891</td><td> 0.33809166</td><td> 0.49918784</td><td> 0.67448975</td></tr>\n",
       "\t<tr><th scope=row>20</th><td>20</td><td>-0.41728414</td><td> 0.49918784</td><td>-0.58458986</td><td>-0.03687053</td><td> 0.41728414</td><td> 0.33809166</td><td> 0.26096740</td><td> 1.26496924</td><td>-0.67448975</td><td>...</td><td>-0.87356913</td><td> 0.98723099</td><td>-1.70478090</td><td>-1.26496924</td><td>-0.49918784</td><td> 0.65083731</td><td> 0.87356913</td><td> 0.11081291</td><td> 2.17792307</td><td>-1.11533736</td></tr>\n",
       "\t<tr><th scope=row>21</th><td>21</td><td>-0.33809166</td><td>-0.03687053</td><td>-0.11081291</td><td> 0.67448975</td><td> 0.87356913</td><td> 0.11081291</td><td> 0.49918784</td><td> 0.41728414</td><td>-0.11081291</td><td>...</td><td>-0.67448975</td><td> 0.87356913</td><td> 0.11081291</td><td> 1.26496924</td><td>-1.11533736</td><td>-0.55959227</td><td> 1.70478090</td><td>-0.11081291</td><td>-2.17792307</td><td>-0.67448975</td></tr>\n",
       "\t<tr><th scope=row>22</th><td>22</td><td> 0.26096740</td><td>-0.11081291</td><td>-1.26496924</td><td> 0.11081291</td><td> 0.77020808</td><td> 0.67448975</td><td>-0.03687053</td><td> 0.77020808</td><td>-1.26496924</td><td>...</td><td>-0.11081291</td><td>-0.26096740</td><td>-0.03687053</td><td>-0.26096740</td><td>-0.58458986</td><td> 0.00000000</td><td> 1.44999891</td><td> 0.67448975</td><td> 0.03687053</td><td> 0.41728414</td></tr>\n",
       "\t<tr><th scope=row>23</th><td>23</td><td>-0.26096740</td><td> 0.77020808</td><td>-0.33809166</td><td>-0.26096740</td><td>-0.03687053</td><td> 0.77020808</td><td> 0.41728414</td><td>-0.98723099</td><td> 0.18536702</td><td>...</td><td> 1.44999891</td><td>-1.44999891</td><td> 0.98723099</td><td>-0.33809166</td><td> 0.58458986</td><td> 0.15250597</td><td>-1.11533736</td><td> 0.18536702</td><td> 0.26096740</td><td>-0.03687053</td></tr>\n",
       "\t<tr><th scope=row>24</th><td>24</td><td> 0.41728414</td><td>-2.17792307</td><td> 1.70478090</td><td> 0.58458986</td><td>-1.26496924</td><td>-0.49918784</td><td> 0.11081291</td><td>-0.87356913</td><td>-0.26096740</td><td>...</td><td> 2.17792307</td><td>-0.41728414</td><td>-0.87356913</td><td>-0.49918784</td><td> 0.03687053</td><td> 1.24775386</td><td>-0.67448975</td><td> 0.41728414</td><td> 0.87356913</td><td>-1.70478090</td></tr>\n",
       "\t<tr><th scope=row>25</th><td>25</td><td>-0.87356913</td><td> 0.41728414</td><td> 0.26096740</td><td>-0.87356913</td><td>-0.11081291</td><td>-0.11081291</td><td> 0.98723099</td><td> 0.18536702</td><td> 0.77020808</td><td>...</td><td> 0.03687053</td><td> 0.49918784</td><td> 0.26096740</td><td>-0.87356913</td><td> 0.41728414</td><td> 0.30866581</td><td>-0.41728414</td><td>-0.49918784</td><td>-0.77020808</td><td>-0.33809166</td></tr>\n",
       "\t<tr><th scope=row>26</th><td>26</td><td>-0.03687053</td><td>-0.58458986</td><td> 0.67448975</td><td> 0.41728414</td><td> 0.58458986</td><td>-0.18536702</td><td>-0.67448975</td><td>-1.44999891</td><td> 0.49918784</td><td>...</td><td> 0.11081291</td><td> 0.67448975</td><td> 0.87356913</td><td> 0.41728414</td><td> 0.26096740</td><td>-1.24775386</td><td>-0.49918784</td><td>-0.98723099</td><td>-0.26096740</td><td>-0.41728414</td></tr>\n",
       "\t<tr><th scope=row>27</th><td>27</td><td>-1.26496924</td><td> 0.26096740</td><td>-2.17792307</td><td>-1.44999891</td><td> 0.49918784</td><td>-0.77020808</td><td>-1.11533736</td><td> 0.11081291</td><td> 0.98723099</td><td>...</td><td>-0.49918784</td><td>-1.70478090</td><td> 1.26496924</td><td>-1.11533736</td><td> 2.17792307</td><td>-0.74785859</td><td> 0.41728414</td><td>-1.44999891</td><td> 0.33809166</td><td>-0.77020808</td></tr>\n",
       "\t<tr><th scope=row>28</th><td>28</td><td>-0.98723099</td><td>-0.33809166</td><td> 0.11081291</td><td> 0.18536702</td><td> 1.11533736</td><td>-0.03687053</td><td>-0.49918784</td><td>-1.26496924</td><td> 0.67448975</td><td>...</td><td>-0.33809166</td><td> 0.33809166</td><td>-0.77020808</td><td> 1.44999891</td><td> 0.33809166</td><td>-0.47278912</td><td>-0.03687053</td><td> 0.77020808</td><td> 0.41728414</td><td>-0.87356913</td></tr>\n",
       "\t<tr><th scope=row>29</th><td>29</td><td>-0.18536702</td><td>-0.18536702</td><td> 1.44999891</td><td> 0.33809166</td><td>-0.58458986</td><td>-0.67448975</td><td>-1.70478090</td><td>-0.11081291</td><td>-0.41728414</td><td>...</td><td> 0.77020808</td><td> 0.11081291</td><td>-0.58458986</td><td> 0.49918784</td><td> 0.11081291</td><td>-0.65083731</td><td> 0.67448975</td><td> 1.26496924</td><td>-0.49918784</td><td>-2.17792307</td></tr>\n",
       "\t<tr><th scope=row>30</th><td>30</td><td> 1.26496924</td><td> 0.11081291</td><td>-0.87356913</td><td>-0.98723099</td><td> 2.17792307</td><td> 0.87356913</td><td> 1.44999891</td><td> 0.33809166</td><td> 0.87356913</td><td>...</td><td> 0.67448975</td><td>-0.98723099</td><td>-0.67448975</td><td>-0.58458986</td><td>-0.67448975</td><td>-0.15250597</td><td>-0.87356913</td><td> 0.98723099</td><td> 0.98723099</td><td> 0.03687053</td></tr>\n",
       "\t<tr><th scope=row>31</th><td>31</td><td>-1.44999891</td><td> 0.98723099</td><td>-0.26096740</td><td> 1.11533736</td><td>-1.11533736</td><td>-1.11533736</td><td>-0.58458986</td><td> 1.11533736</td><td> 1.70478090</td><td>...</td><td>-1.11533736</td><td> 0.03687053</td><td>-1.11533736</td><td>-0.11081291</td><td> 1.44999891</td><td>-1.69062163</td><td> 0.11081291</td><td>-1.11533736</td><td> 0.11081291</td><td>-1.26496924</td></tr>\n",
       "\t<tr><th scope=row>32</th><td>32</td><td> 0.77020808</td><td>-0.67448975</td><td>-0.41728414</td><td>-0.11081291</td><td>-0.41728414</td><td> 1.26496924</td><td>-1.44999891</td><td>-0.77020808</td><td> 0.11081291</td><td>...</td><td> 0.18536702</td><td>-0.77020808</td><td> 0.67448975</td><td> 0.98723099</td><td>-0.87356913</td><td> 0.85249503</td><td>-0.18536702</td><td> 0.58458986</td><td> 0.67448975</td><td> 0.11081291</td></tr>\n",
       "\t<tr><th scope=row>33</th><td>33</td><td> 0.11081291</td><td> 1.26496924</td><td> 0.87356913</td><td> 0.03687053</td><td>-0.33809166</td><td> 1.11533736</td><td>-0.18536702</td><td>-1.11533736</td><td> 0.33809166</td><td>...</td><td> 0.98723099</td><td>-0.67448975</td><td> 1.70478090</td><td> 0.03687053</td><td>-1.70478090</td><td> 0.74785859</td><td> 0.98723099</td><td>-0.26096740</td><td>-0.33809166</td><td> 0.87356913</td></tr>\n",
       "\t<tr><th scope=row>34</th><td>34</td><td> 1.44999891</td><td> 1.70478090</td><td>-1.70478090</td><td> 2.17792307</td><td>-1.44999891</td><td>-2.17792307</td><td> 1.70478090</td><td> 2.17792307</td><td>-0.98723099</td><td>...</td><td>-0.58458986</td><td> 2.17792307</td><td>-2.17792307</td><td>-2.17792307</td><td> 0.49918784</td><td> 0.00000000</td><td> 2.17792307</td><td>-2.17792307</td><td>-1.70478090</td><td>-0.58458986</td></tr>\n",
       "</tbody>\n",
       "</table>\n"
      ],
      "text/latex": [
       "A data.frame: 34 x 21\n",
       "\\begin{tabular}{r|lllllllllllllllllllll}\n",
       "  & patient\\_id\\_Emerson & A & C & D & E & F & G & H & I & K & ... & M & N & P & Q & R & S & T & V & W & Y\\\\\n",
       "  & <chr> & <dbl> & <dbl> & <dbl> & <dbl> & <dbl> & <dbl> & <dbl> & <dbl> & <dbl> & ... & <dbl> & <dbl> & <dbl> & <dbl> & <dbl> & <dbl> & <dbl> & <dbl> & <dbl> & <dbl>\\\\\n",
       "\\hline\n",
       "\t1 & 1  &  0.18536702 & -1.11533736 &  0.98723099 &  0.77020808 & -0.77020808 & -0.33809166 & -0.87356913 &  0.26096740 &  0.26096740 & ... &  1.26496924 &  1.44999891 &  1.44999891 &  0.18536702 & -1.26496924 & -0.38941430 &  0.26096740 & -1.26496924 & -0.58458986 &  1.44999891\\\\\n",
       "\t2 & 2  &  1.11533736 & -0.26096740 & -0.77020808 & -1.70478090 &  0.18536702 & -0.41728414 &  1.26496924 &  0.67448975 &  0.58458986 & ... & -1.26496924 &  1.11533736 & -1.44999891 & -0.03687053 &  0.87356913 &  1.43420016 & -0.33809166 & -0.33809166 & -0.67448975 & -1.44999891\\\\\n",
       "\t3 & 3  & -1.70478090 &  1.11533736 & -1.11533736 &  1.26496924 &  0.03687053 & -1.44999891 & -0.98723099 &  1.70478090 &  1.11533736 & ... &  0.49918784 & -0.03687053 &  0.33809166 &  0.67448975 & -0.41728414 & -2.16610675 &  0.77020808 & -0.03687053 &  0.58458986 & -0.18536702\\\\\n",
       "\t4 & 4  &  0.33809166 & -0.49918784 &  0.33809166 &  0.26096740 & -0.26096740 & -0.26096740 & -0.11081291 & -0.67448975 & -0.03687053 & ... &  0.41728414 &  0.77020808 & -0.49918784 &  0.87356913 & -0.26096740 &  0.07603162 &  0.33809166 &  0.26096740 & -0.18536702 & -0.11081291\\\\\n",
       "\t5 & 5  &  0.58458986 & -0.41728414 &  2.17792307 &  1.44999891 &  1.44999891 &  1.44999891 &  0.67448975 &  0.98723099 & -2.17792307 & ... & -1.44999891 & -2.17792307 &  2.17792307 &  0.11081291 & -2.17792307 &  0.38941430 & -1.70478090 &  0.87356913 & -0.41728414 &  1.11533736\\\\\n",
       "\t6 & 6  & -0.11081291 & -1.26496924 &  0.03687053 & -0.77020808 &  0.67448975 & -0.98723099 & -0.41728414 & -2.17792307 &  1.26496924 & ... &  0.87356913 &  1.70478090 & -0.98723099 & -0.67448975 &  0.67448975 & -0.30866581 &  0.03687053 &  1.44999891 & -1.11533736 & -0.26096740\\\\\n",
       "\t7 & 7  &  0.87356913 &  1.44999891 &  0.49918784 & -0.18536702 & -0.49918784 &  0.49918784 &  0.03687053 &  0.58458986 & -1.11533736 & ... & -0.77020808 &  0.26096740 &  0.18536702 &  0.26096740 & -0.03687053 & -0.22988412 &  0.58458986 & -0.58458986 & -1.44999891 & -0.98723099\\\\\n",
       "\t8 & 8  &  2.17792307 &  0.33809166 &  1.26496924 & -2.17792307 &  0.26096740 &  1.70478090 & -2.17792307 &  0.87356913 & -1.44999891 & ... & -1.70478090 & -0.58458986 &  0.03687053 &  2.17792307 & -0.98723099 &  2.16610675 & -0.11081291 & -0.87356913 & -0.87356913 & -0.49918784\\\\\n",
       "\t9 & 9  & -1.11533736 &  0.03687053 &  0.18536702 &  0.49918784 &  0.11081291 & -0.58458986 & -0.33809166 &  1.44999891 & -0.33809166 & ... &  0.33809166 & -0.18536702 & -0.18536702 &  0.58458986 & -0.18536702 & -0.85249503 & -0.58458986 &  2.17792307 &  0.77020808 &  0.98723099\\\\\n",
       "\t10 & 10 & -0.77020808 & -1.70478090 & -0.03687053 & -0.49918784 & -2.17792307 & -1.70478090 &  0.58458986 & -1.70478090 &  1.44999891 & ... & -0.26096740 &  0.58458986 &  0.49918784 &  1.70478090 &  0.18536702 &  1.69062163 &  1.11533736 &  1.11533736 & -0.03687053 &  0.18536702\\\\\n",
       "\t11 & 11 &  0.67448975 &  2.17792307 &  1.11533736 &  1.70478090 &  0.33809166 &  0.58458986 & -1.26496924 & -0.33809166 & -0.77020808 & ... & -0.98723099 &  0.41728414 &  0.41728414 & -1.44999891 & -1.44999891 &  0.96742157 &  1.26496924 & -0.67448975 & -0.98723099 &  1.70478090\\\\\n",
       "\t12 & 12 & -2.17792307 &  0.67448975 & -0.49918784 & -1.26496924 &  0.98723099 & -1.26496924 &  0.77020808 & -0.49918784 &  2.17792307 & ... &  0.58458986 &  1.26496924 & -0.26096740 & -0.18536702 &  0.98723099 & -1.43420016 &  0.18536702 & -1.70478090 &  1.11533736 &  1.26496924\\\\\n",
       "\t13 & 13 &  0.03687053 & -0.87356913 & -0.98723099 & -0.33809166 & -0.18536702 & -0.87356913 &  0.87356913 & -0.41728414 & -0.18536702 & ... &  1.11533736 & -1.11533736 &  0.77020808 &  0.77020808 &  1.11533736 & -0.07603162 & -0.98723099 &  0.03687053 &  1.70478090 &  0.58458986\\\\\n",
       "\t14 & 14 & -0.49918784 &  0.58458986 & -1.44999891 & -0.67448975 &  1.26496924 &  0.41728414 &  2.17792307 & -0.03687053 & -0.49918784 & ... & -0.03687053 & -0.49918784 &  1.11533736 &  0.33809166 &  0.77020808 & -1.09680356 & -0.77020808 & -0.18536702 & -0.11081291 &  0.49918784\\\\\n",
       "\t15 & 15 &  0.98723099 &  0.87356913 &  0.58458986 &  0.87356913 &  1.70478090 &  2.17792307 &  0.33809166 &  0.03687053 &  0.03687053 & ... &  1.70478090 & -0.11081291 & -0.33809166 & -1.70478090 & -0.77020808 &  0.22988412 & -2.17792307 &  1.70478090 & -1.26496924 &  0.33809166\\\\\n",
       "\t16 & 16 & -0.67448975 & -1.44999891 &  0.41728414 & -0.41728414 & -0.98723099 &  0.26096740 & -0.26096740 & -0.26096740 & -0.58458986 & ... & -0.41728414 & -0.87356913 & -1.26496924 & -0.77020808 &  1.70478090 &  0.47278912 & -0.26096740 & -0.77020808 &  0.18536702 &  0.26096740\\\\\n",
       "\t17 & 17 &  0.49918784 & -0.98723099 & -0.18536702 &  0.98723099 & -0.87356913 &  0.03687053 &  0.18536702 & -0.58458986 & -0.87356913 & ... &  0.26096740 &  0.18536702 & -0.41728414 &  1.11533736 & -0.33809166 & -0.96742157 &  0.49918784 & -0.41728414 &  1.44999891 &  0.77020808\\\\\n",
       "\t18 & 18 &  1.70478090 & -0.77020808 &  0.77020808 & -1.11533736 & -1.70478090 &  0.98723099 &  1.11533736 & -0.18536702 & -1.70478090 & ... & -0.18536702 & -1.26496924 & -0.11081291 & -0.41728414 & -0.11081291 &  1.09680356 & -1.26496924 &  0.49918784 &  1.26496924 &  2.17792307\\\\\n",
       "\t19 & 19 & -0.58458986 &  0.18536702 & -0.67448975 & -0.58458986 & -0.67448975 &  0.18536702 & -0.77020808 &  0.49918784 &  0.41728414 & ... & -2.17792307 & -0.33809166 &  0.58458986 & -0.98723099 &  1.26496924 &  0.55959227 & -1.44999891 &  0.33809166 &  0.49918784 &  0.67448975\\\\\n",
       "\t20 & 20 & -0.41728414 &  0.49918784 & -0.58458986 & -0.03687053 &  0.41728414 &  0.33809166 &  0.26096740 &  1.26496924 & -0.67448975 & ... & -0.87356913 &  0.98723099 & -1.70478090 & -1.26496924 & -0.49918784 &  0.65083731 &  0.87356913 &  0.11081291 &  2.17792307 & -1.11533736\\\\\n",
       "\t21 & 21 & -0.33809166 & -0.03687053 & -0.11081291 &  0.67448975 &  0.87356913 &  0.11081291 &  0.49918784 &  0.41728414 & -0.11081291 & ... & -0.67448975 &  0.87356913 &  0.11081291 &  1.26496924 & -1.11533736 & -0.55959227 &  1.70478090 & -0.11081291 & -2.17792307 & -0.67448975\\\\\n",
       "\t22 & 22 &  0.26096740 & -0.11081291 & -1.26496924 &  0.11081291 &  0.77020808 &  0.67448975 & -0.03687053 &  0.77020808 & -1.26496924 & ... & -0.11081291 & -0.26096740 & -0.03687053 & -0.26096740 & -0.58458986 &  0.00000000 &  1.44999891 &  0.67448975 &  0.03687053 &  0.41728414\\\\\n",
       "\t23 & 23 & -0.26096740 &  0.77020808 & -0.33809166 & -0.26096740 & -0.03687053 &  0.77020808 &  0.41728414 & -0.98723099 &  0.18536702 & ... &  1.44999891 & -1.44999891 &  0.98723099 & -0.33809166 &  0.58458986 &  0.15250597 & -1.11533736 &  0.18536702 &  0.26096740 & -0.03687053\\\\\n",
       "\t24 & 24 &  0.41728414 & -2.17792307 &  1.70478090 &  0.58458986 & -1.26496924 & -0.49918784 &  0.11081291 & -0.87356913 & -0.26096740 & ... &  2.17792307 & -0.41728414 & -0.87356913 & -0.49918784 &  0.03687053 &  1.24775386 & -0.67448975 &  0.41728414 &  0.87356913 & -1.70478090\\\\\n",
       "\t25 & 25 & -0.87356913 &  0.41728414 &  0.26096740 & -0.87356913 & -0.11081291 & -0.11081291 &  0.98723099 &  0.18536702 &  0.77020808 & ... &  0.03687053 &  0.49918784 &  0.26096740 & -0.87356913 &  0.41728414 &  0.30866581 & -0.41728414 & -0.49918784 & -0.77020808 & -0.33809166\\\\\n",
       "\t26 & 26 & -0.03687053 & -0.58458986 &  0.67448975 &  0.41728414 &  0.58458986 & -0.18536702 & -0.67448975 & -1.44999891 &  0.49918784 & ... &  0.11081291 &  0.67448975 &  0.87356913 &  0.41728414 &  0.26096740 & -1.24775386 & -0.49918784 & -0.98723099 & -0.26096740 & -0.41728414\\\\\n",
       "\t27 & 27 & -1.26496924 &  0.26096740 & -2.17792307 & -1.44999891 &  0.49918784 & -0.77020808 & -1.11533736 &  0.11081291 &  0.98723099 & ... & -0.49918784 & -1.70478090 &  1.26496924 & -1.11533736 &  2.17792307 & -0.74785859 &  0.41728414 & -1.44999891 &  0.33809166 & -0.77020808\\\\\n",
       "\t28 & 28 & -0.98723099 & -0.33809166 &  0.11081291 &  0.18536702 &  1.11533736 & -0.03687053 & -0.49918784 & -1.26496924 &  0.67448975 & ... & -0.33809166 &  0.33809166 & -0.77020808 &  1.44999891 &  0.33809166 & -0.47278912 & -0.03687053 &  0.77020808 &  0.41728414 & -0.87356913\\\\\n",
       "\t29 & 29 & -0.18536702 & -0.18536702 &  1.44999891 &  0.33809166 & -0.58458986 & -0.67448975 & -1.70478090 & -0.11081291 & -0.41728414 & ... &  0.77020808 &  0.11081291 & -0.58458986 &  0.49918784 &  0.11081291 & -0.65083731 &  0.67448975 &  1.26496924 & -0.49918784 & -2.17792307\\\\\n",
       "\t30 & 30 &  1.26496924 &  0.11081291 & -0.87356913 & -0.98723099 &  2.17792307 &  0.87356913 &  1.44999891 &  0.33809166 &  0.87356913 & ... &  0.67448975 & -0.98723099 & -0.67448975 & -0.58458986 & -0.67448975 & -0.15250597 & -0.87356913 &  0.98723099 &  0.98723099 &  0.03687053\\\\\n",
       "\t31 & 31 & -1.44999891 &  0.98723099 & -0.26096740 &  1.11533736 & -1.11533736 & -1.11533736 & -0.58458986 &  1.11533736 &  1.70478090 & ... & -1.11533736 &  0.03687053 & -1.11533736 & -0.11081291 &  1.44999891 & -1.69062163 &  0.11081291 & -1.11533736 &  0.11081291 & -1.26496924\\\\\n",
       "\t32 & 32 &  0.77020808 & -0.67448975 & -0.41728414 & -0.11081291 & -0.41728414 &  1.26496924 & -1.44999891 & -0.77020808 &  0.11081291 & ... &  0.18536702 & -0.77020808 &  0.67448975 &  0.98723099 & -0.87356913 &  0.85249503 & -0.18536702 &  0.58458986 &  0.67448975 &  0.11081291\\\\\n",
       "\t33 & 33 &  0.11081291 &  1.26496924 &  0.87356913 &  0.03687053 & -0.33809166 &  1.11533736 & -0.18536702 & -1.11533736 &  0.33809166 & ... &  0.98723099 & -0.67448975 &  1.70478090 &  0.03687053 & -1.70478090 &  0.74785859 &  0.98723099 & -0.26096740 & -0.33809166 &  0.87356913\\\\\n",
       "\t34 & 34 &  1.44999891 &  1.70478090 & -1.70478090 &  2.17792307 & -1.44999891 & -2.17792307 &  1.70478090 &  2.17792307 & -0.98723099 & ... & -0.58458986 &  2.17792307 & -2.17792307 & -2.17792307 &  0.49918784 &  0.00000000 &  2.17792307 & -2.17792307 & -1.70478090 & -0.58458986\\\\\n",
       "\\end{tabular}\n"
      ],
      "text/markdown": [
       "\n",
       "A data.frame: 34 x 21\n",
       "\n",
       "| <!--/--> | patient_id_Emerson &lt;chr&gt; | A &lt;dbl&gt; | C &lt;dbl&gt; | D &lt;dbl&gt; | E &lt;dbl&gt; | F &lt;dbl&gt; | G &lt;dbl&gt; | H &lt;dbl&gt; | I &lt;dbl&gt; | K &lt;dbl&gt; | ... ... | M &lt;dbl&gt; | N &lt;dbl&gt; | P &lt;dbl&gt; | Q &lt;dbl&gt; | R &lt;dbl&gt; | S &lt;dbl&gt; | T &lt;dbl&gt; | V &lt;dbl&gt; | W &lt;dbl&gt; | Y &lt;dbl&gt; |\n",
       "|---|---|---|---|---|---|---|---|---|---|---|---|---|---|---|---|---|---|---|---|---|---|\n",
       "| 1 | 1  |  0.18536702 | -1.11533736 |  0.98723099 |  0.77020808 | -0.77020808 | -0.33809166 | -0.87356913 |  0.26096740 |  0.26096740 | ... |  1.26496924 |  1.44999891 |  1.44999891 |  0.18536702 | -1.26496924 | -0.38941430 |  0.26096740 | -1.26496924 | -0.58458986 |  1.44999891 |\n",
       "| 2 | 2  |  1.11533736 | -0.26096740 | -0.77020808 | -1.70478090 |  0.18536702 | -0.41728414 |  1.26496924 |  0.67448975 |  0.58458986 | ... | -1.26496924 |  1.11533736 | -1.44999891 | -0.03687053 |  0.87356913 |  1.43420016 | -0.33809166 | -0.33809166 | -0.67448975 | -1.44999891 |\n",
       "| 3 | 3  | -1.70478090 |  1.11533736 | -1.11533736 |  1.26496924 |  0.03687053 | -1.44999891 | -0.98723099 |  1.70478090 |  1.11533736 | ... |  0.49918784 | -0.03687053 |  0.33809166 |  0.67448975 | -0.41728414 | -2.16610675 |  0.77020808 | -0.03687053 |  0.58458986 | -0.18536702 |\n",
       "| 4 | 4  |  0.33809166 | -0.49918784 |  0.33809166 |  0.26096740 | -0.26096740 | -0.26096740 | -0.11081291 | -0.67448975 | -0.03687053 | ... |  0.41728414 |  0.77020808 | -0.49918784 |  0.87356913 | -0.26096740 |  0.07603162 |  0.33809166 |  0.26096740 | -0.18536702 | -0.11081291 |\n",
       "| 5 | 5  |  0.58458986 | -0.41728414 |  2.17792307 |  1.44999891 |  1.44999891 |  1.44999891 |  0.67448975 |  0.98723099 | -2.17792307 | ... | -1.44999891 | -2.17792307 |  2.17792307 |  0.11081291 | -2.17792307 |  0.38941430 | -1.70478090 |  0.87356913 | -0.41728414 |  1.11533736 |\n",
       "| 6 | 6  | -0.11081291 | -1.26496924 |  0.03687053 | -0.77020808 |  0.67448975 | -0.98723099 | -0.41728414 | -2.17792307 |  1.26496924 | ... |  0.87356913 |  1.70478090 | -0.98723099 | -0.67448975 |  0.67448975 | -0.30866581 |  0.03687053 |  1.44999891 | -1.11533736 | -0.26096740 |\n",
       "| 7 | 7  |  0.87356913 |  1.44999891 |  0.49918784 | -0.18536702 | -0.49918784 |  0.49918784 |  0.03687053 |  0.58458986 | -1.11533736 | ... | -0.77020808 |  0.26096740 |  0.18536702 |  0.26096740 | -0.03687053 | -0.22988412 |  0.58458986 | -0.58458986 | -1.44999891 | -0.98723099 |\n",
       "| 8 | 8  |  2.17792307 |  0.33809166 |  1.26496924 | -2.17792307 |  0.26096740 |  1.70478090 | -2.17792307 |  0.87356913 | -1.44999891 | ... | -1.70478090 | -0.58458986 |  0.03687053 |  2.17792307 | -0.98723099 |  2.16610675 | -0.11081291 | -0.87356913 | -0.87356913 | -0.49918784 |\n",
       "| 9 | 9  | -1.11533736 |  0.03687053 |  0.18536702 |  0.49918784 |  0.11081291 | -0.58458986 | -0.33809166 |  1.44999891 | -0.33809166 | ... |  0.33809166 | -0.18536702 | -0.18536702 |  0.58458986 | -0.18536702 | -0.85249503 | -0.58458986 |  2.17792307 |  0.77020808 |  0.98723099 |\n",
       "| 10 | 10 | -0.77020808 | -1.70478090 | -0.03687053 | -0.49918784 | -2.17792307 | -1.70478090 |  0.58458986 | -1.70478090 |  1.44999891 | ... | -0.26096740 |  0.58458986 |  0.49918784 |  1.70478090 |  0.18536702 |  1.69062163 |  1.11533736 |  1.11533736 | -0.03687053 |  0.18536702 |\n",
       "| 11 | 11 |  0.67448975 |  2.17792307 |  1.11533736 |  1.70478090 |  0.33809166 |  0.58458986 | -1.26496924 | -0.33809166 | -0.77020808 | ... | -0.98723099 |  0.41728414 |  0.41728414 | -1.44999891 | -1.44999891 |  0.96742157 |  1.26496924 | -0.67448975 | -0.98723099 |  1.70478090 |\n",
       "| 12 | 12 | -2.17792307 |  0.67448975 | -0.49918784 | -1.26496924 |  0.98723099 | -1.26496924 |  0.77020808 | -0.49918784 |  2.17792307 | ... |  0.58458986 |  1.26496924 | -0.26096740 | -0.18536702 |  0.98723099 | -1.43420016 |  0.18536702 | -1.70478090 |  1.11533736 |  1.26496924 |\n",
       "| 13 | 13 |  0.03687053 | -0.87356913 | -0.98723099 | -0.33809166 | -0.18536702 | -0.87356913 |  0.87356913 | -0.41728414 | -0.18536702 | ... |  1.11533736 | -1.11533736 |  0.77020808 |  0.77020808 |  1.11533736 | -0.07603162 | -0.98723099 |  0.03687053 |  1.70478090 |  0.58458986 |\n",
       "| 14 | 14 | -0.49918784 |  0.58458986 | -1.44999891 | -0.67448975 |  1.26496924 |  0.41728414 |  2.17792307 | -0.03687053 | -0.49918784 | ... | -0.03687053 | -0.49918784 |  1.11533736 |  0.33809166 |  0.77020808 | -1.09680356 | -0.77020808 | -0.18536702 | -0.11081291 |  0.49918784 |\n",
       "| 15 | 15 |  0.98723099 |  0.87356913 |  0.58458986 |  0.87356913 |  1.70478090 |  2.17792307 |  0.33809166 |  0.03687053 |  0.03687053 | ... |  1.70478090 | -0.11081291 | -0.33809166 | -1.70478090 | -0.77020808 |  0.22988412 | -2.17792307 |  1.70478090 | -1.26496924 |  0.33809166 |\n",
       "| 16 | 16 | -0.67448975 | -1.44999891 |  0.41728414 | -0.41728414 | -0.98723099 |  0.26096740 | -0.26096740 | -0.26096740 | -0.58458986 | ... | -0.41728414 | -0.87356913 | -1.26496924 | -0.77020808 |  1.70478090 |  0.47278912 | -0.26096740 | -0.77020808 |  0.18536702 |  0.26096740 |\n",
       "| 17 | 17 |  0.49918784 | -0.98723099 | -0.18536702 |  0.98723099 | -0.87356913 |  0.03687053 |  0.18536702 | -0.58458986 | -0.87356913 | ... |  0.26096740 |  0.18536702 | -0.41728414 |  1.11533736 | -0.33809166 | -0.96742157 |  0.49918784 | -0.41728414 |  1.44999891 |  0.77020808 |\n",
       "| 18 | 18 |  1.70478090 | -0.77020808 |  0.77020808 | -1.11533736 | -1.70478090 |  0.98723099 |  1.11533736 | -0.18536702 | -1.70478090 | ... | -0.18536702 | -1.26496924 | -0.11081291 | -0.41728414 | -0.11081291 |  1.09680356 | -1.26496924 |  0.49918784 |  1.26496924 |  2.17792307 |\n",
       "| 19 | 19 | -0.58458986 |  0.18536702 | -0.67448975 | -0.58458986 | -0.67448975 |  0.18536702 | -0.77020808 |  0.49918784 |  0.41728414 | ... | -2.17792307 | -0.33809166 |  0.58458986 | -0.98723099 |  1.26496924 |  0.55959227 | -1.44999891 |  0.33809166 |  0.49918784 |  0.67448975 |\n",
       "| 20 | 20 | -0.41728414 |  0.49918784 | -0.58458986 | -0.03687053 |  0.41728414 |  0.33809166 |  0.26096740 |  1.26496924 | -0.67448975 | ... | -0.87356913 |  0.98723099 | -1.70478090 | -1.26496924 | -0.49918784 |  0.65083731 |  0.87356913 |  0.11081291 |  2.17792307 | -1.11533736 |\n",
       "| 21 | 21 | -0.33809166 | -0.03687053 | -0.11081291 |  0.67448975 |  0.87356913 |  0.11081291 |  0.49918784 |  0.41728414 | -0.11081291 | ... | -0.67448975 |  0.87356913 |  0.11081291 |  1.26496924 | -1.11533736 | -0.55959227 |  1.70478090 | -0.11081291 | -2.17792307 | -0.67448975 |\n",
       "| 22 | 22 |  0.26096740 | -0.11081291 | -1.26496924 |  0.11081291 |  0.77020808 |  0.67448975 | -0.03687053 |  0.77020808 | -1.26496924 | ... | -0.11081291 | -0.26096740 | -0.03687053 | -0.26096740 | -0.58458986 |  0.00000000 |  1.44999891 |  0.67448975 |  0.03687053 |  0.41728414 |\n",
       "| 23 | 23 | -0.26096740 |  0.77020808 | -0.33809166 | -0.26096740 | -0.03687053 |  0.77020808 |  0.41728414 | -0.98723099 |  0.18536702 | ... |  1.44999891 | -1.44999891 |  0.98723099 | -0.33809166 |  0.58458986 |  0.15250597 | -1.11533736 |  0.18536702 |  0.26096740 | -0.03687053 |\n",
       "| 24 | 24 |  0.41728414 | -2.17792307 |  1.70478090 |  0.58458986 | -1.26496924 | -0.49918784 |  0.11081291 | -0.87356913 | -0.26096740 | ... |  2.17792307 | -0.41728414 | -0.87356913 | -0.49918784 |  0.03687053 |  1.24775386 | -0.67448975 |  0.41728414 |  0.87356913 | -1.70478090 |\n",
       "| 25 | 25 | -0.87356913 |  0.41728414 |  0.26096740 | -0.87356913 | -0.11081291 | -0.11081291 |  0.98723099 |  0.18536702 |  0.77020808 | ... |  0.03687053 |  0.49918784 |  0.26096740 | -0.87356913 |  0.41728414 |  0.30866581 | -0.41728414 | -0.49918784 | -0.77020808 | -0.33809166 |\n",
       "| 26 | 26 | -0.03687053 | -0.58458986 |  0.67448975 |  0.41728414 |  0.58458986 | -0.18536702 | -0.67448975 | -1.44999891 |  0.49918784 | ... |  0.11081291 |  0.67448975 |  0.87356913 |  0.41728414 |  0.26096740 | -1.24775386 | -0.49918784 | -0.98723099 | -0.26096740 | -0.41728414 |\n",
       "| 27 | 27 | -1.26496924 |  0.26096740 | -2.17792307 | -1.44999891 |  0.49918784 | -0.77020808 | -1.11533736 |  0.11081291 |  0.98723099 | ... | -0.49918784 | -1.70478090 |  1.26496924 | -1.11533736 |  2.17792307 | -0.74785859 |  0.41728414 | -1.44999891 |  0.33809166 | -0.77020808 |\n",
       "| 28 | 28 | -0.98723099 | -0.33809166 |  0.11081291 |  0.18536702 |  1.11533736 | -0.03687053 | -0.49918784 | -1.26496924 |  0.67448975 | ... | -0.33809166 |  0.33809166 | -0.77020808 |  1.44999891 |  0.33809166 | -0.47278912 | -0.03687053 |  0.77020808 |  0.41728414 | -0.87356913 |\n",
       "| 29 | 29 | -0.18536702 | -0.18536702 |  1.44999891 |  0.33809166 | -0.58458986 | -0.67448975 | -1.70478090 | -0.11081291 | -0.41728414 | ... |  0.77020808 |  0.11081291 | -0.58458986 |  0.49918784 |  0.11081291 | -0.65083731 |  0.67448975 |  1.26496924 | -0.49918784 | -2.17792307 |\n",
       "| 30 | 30 |  1.26496924 |  0.11081291 | -0.87356913 | -0.98723099 |  2.17792307 |  0.87356913 |  1.44999891 |  0.33809166 |  0.87356913 | ... |  0.67448975 | -0.98723099 | -0.67448975 | -0.58458986 | -0.67448975 | -0.15250597 | -0.87356913 |  0.98723099 |  0.98723099 |  0.03687053 |\n",
       "| 31 | 31 | -1.44999891 |  0.98723099 | -0.26096740 |  1.11533736 | -1.11533736 | -1.11533736 | -0.58458986 |  1.11533736 |  1.70478090 | ... | -1.11533736 |  0.03687053 | -1.11533736 | -0.11081291 |  1.44999891 | -1.69062163 |  0.11081291 | -1.11533736 |  0.11081291 | -1.26496924 |\n",
       "| 32 | 32 |  0.77020808 | -0.67448975 | -0.41728414 | -0.11081291 | -0.41728414 |  1.26496924 | -1.44999891 | -0.77020808 |  0.11081291 | ... |  0.18536702 | -0.77020808 |  0.67448975 |  0.98723099 | -0.87356913 |  0.85249503 | -0.18536702 |  0.58458986 |  0.67448975 |  0.11081291 |\n",
       "| 33 | 33 |  0.11081291 |  1.26496924 |  0.87356913 |  0.03687053 | -0.33809166 |  1.11533736 | -0.18536702 | -1.11533736 |  0.33809166 | ... |  0.98723099 | -0.67448975 |  1.70478090 |  0.03687053 | -1.70478090 |  0.74785859 |  0.98723099 | -0.26096740 | -0.33809166 |  0.87356913 |\n",
       "| 34 | 34 |  1.44999891 |  1.70478090 | -1.70478090 |  2.17792307 | -1.44999891 | -2.17792307 |  1.70478090 |  2.17792307 | -0.98723099 | ... | -0.58458986 |  2.17792307 | -2.17792307 | -2.17792307 |  0.49918784 |  0.00000000 |  2.17792307 | -2.17792307 | -1.70478090 | -0.58458986 |\n",
       "\n"
      ],
      "text/plain": [
       "   patient_id_Emerson A           C           D           E          \n",
       "1  1                   0.18536702 -1.11533736  0.98723099  0.77020808\n",
       "2  2                   1.11533736 -0.26096740 -0.77020808 -1.70478090\n",
       "3  3                  -1.70478090  1.11533736 -1.11533736  1.26496924\n",
       "4  4                   0.33809166 -0.49918784  0.33809166  0.26096740\n",
       "5  5                   0.58458986 -0.41728414  2.17792307  1.44999891\n",
       "6  6                  -0.11081291 -1.26496924  0.03687053 -0.77020808\n",
       "7  7                   0.87356913  1.44999891  0.49918784 -0.18536702\n",
       "8  8                   2.17792307  0.33809166  1.26496924 -2.17792307\n",
       "9  9                  -1.11533736  0.03687053  0.18536702  0.49918784\n",
       "10 10                 -0.77020808 -1.70478090 -0.03687053 -0.49918784\n",
       "11 11                  0.67448975  2.17792307  1.11533736  1.70478090\n",
       "12 12                 -2.17792307  0.67448975 -0.49918784 -1.26496924\n",
       "13 13                  0.03687053 -0.87356913 -0.98723099 -0.33809166\n",
       "14 14                 -0.49918784  0.58458986 -1.44999891 -0.67448975\n",
       "15 15                  0.98723099  0.87356913  0.58458986  0.87356913\n",
       "16 16                 -0.67448975 -1.44999891  0.41728414 -0.41728414\n",
       "17 17                  0.49918784 -0.98723099 -0.18536702  0.98723099\n",
       "18 18                  1.70478090 -0.77020808  0.77020808 -1.11533736\n",
       "19 19                 -0.58458986  0.18536702 -0.67448975 -0.58458986\n",
       "20 20                 -0.41728414  0.49918784 -0.58458986 -0.03687053\n",
       "21 21                 -0.33809166 -0.03687053 -0.11081291  0.67448975\n",
       "22 22                  0.26096740 -0.11081291 -1.26496924  0.11081291\n",
       "23 23                 -0.26096740  0.77020808 -0.33809166 -0.26096740\n",
       "24 24                  0.41728414 -2.17792307  1.70478090  0.58458986\n",
       "25 25                 -0.87356913  0.41728414  0.26096740 -0.87356913\n",
       "26 26                 -0.03687053 -0.58458986  0.67448975  0.41728414\n",
       "27 27                 -1.26496924  0.26096740 -2.17792307 -1.44999891\n",
       "28 28                 -0.98723099 -0.33809166  0.11081291  0.18536702\n",
       "29 29                 -0.18536702 -0.18536702  1.44999891  0.33809166\n",
       "30 30                  1.26496924  0.11081291 -0.87356913 -0.98723099\n",
       "31 31                 -1.44999891  0.98723099 -0.26096740  1.11533736\n",
       "32 32                  0.77020808 -0.67448975 -0.41728414 -0.11081291\n",
       "33 33                  0.11081291  1.26496924  0.87356913  0.03687053\n",
       "34 34                  1.44999891  1.70478090 -1.70478090  2.17792307\n",
       "   F           G           H           I           K           ... M          \n",
       "1  -0.77020808 -0.33809166 -0.87356913  0.26096740  0.26096740 ...  1.26496924\n",
       "2   0.18536702 -0.41728414  1.26496924  0.67448975  0.58458986 ... -1.26496924\n",
       "3   0.03687053 -1.44999891 -0.98723099  1.70478090  1.11533736 ...  0.49918784\n",
       "4  -0.26096740 -0.26096740 -0.11081291 -0.67448975 -0.03687053 ...  0.41728414\n",
       "5   1.44999891  1.44999891  0.67448975  0.98723099 -2.17792307 ... -1.44999891\n",
       "6   0.67448975 -0.98723099 -0.41728414 -2.17792307  1.26496924 ...  0.87356913\n",
       "7  -0.49918784  0.49918784  0.03687053  0.58458986 -1.11533736 ... -0.77020808\n",
       "8   0.26096740  1.70478090 -2.17792307  0.87356913 -1.44999891 ... -1.70478090\n",
       "9   0.11081291 -0.58458986 -0.33809166  1.44999891 -0.33809166 ...  0.33809166\n",
       "10 -2.17792307 -1.70478090  0.58458986 -1.70478090  1.44999891 ... -0.26096740\n",
       "11  0.33809166  0.58458986 -1.26496924 -0.33809166 -0.77020808 ... -0.98723099\n",
       "12  0.98723099 -1.26496924  0.77020808 -0.49918784  2.17792307 ...  0.58458986\n",
       "13 -0.18536702 -0.87356913  0.87356913 -0.41728414 -0.18536702 ...  1.11533736\n",
       "14  1.26496924  0.41728414  2.17792307 -0.03687053 -0.49918784 ... -0.03687053\n",
       "15  1.70478090  2.17792307  0.33809166  0.03687053  0.03687053 ...  1.70478090\n",
       "16 -0.98723099  0.26096740 -0.26096740 -0.26096740 -0.58458986 ... -0.41728414\n",
       "17 -0.87356913  0.03687053  0.18536702 -0.58458986 -0.87356913 ...  0.26096740\n",
       "18 -1.70478090  0.98723099  1.11533736 -0.18536702 -1.70478090 ... -0.18536702\n",
       "19 -0.67448975  0.18536702 -0.77020808  0.49918784  0.41728414 ... -2.17792307\n",
       "20  0.41728414  0.33809166  0.26096740  1.26496924 -0.67448975 ... -0.87356913\n",
       "21  0.87356913  0.11081291  0.49918784  0.41728414 -0.11081291 ... -0.67448975\n",
       "22  0.77020808  0.67448975 -0.03687053  0.77020808 -1.26496924 ... -0.11081291\n",
       "23 -0.03687053  0.77020808  0.41728414 -0.98723099  0.18536702 ...  1.44999891\n",
       "24 -1.26496924 -0.49918784  0.11081291 -0.87356913 -0.26096740 ...  2.17792307\n",
       "25 -0.11081291 -0.11081291  0.98723099  0.18536702  0.77020808 ...  0.03687053\n",
       "26  0.58458986 -0.18536702 -0.67448975 -1.44999891  0.49918784 ...  0.11081291\n",
       "27  0.49918784 -0.77020808 -1.11533736  0.11081291  0.98723099 ... -0.49918784\n",
       "28  1.11533736 -0.03687053 -0.49918784 -1.26496924  0.67448975 ... -0.33809166\n",
       "29 -0.58458986 -0.67448975 -1.70478090 -0.11081291 -0.41728414 ...  0.77020808\n",
       "30  2.17792307  0.87356913  1.44999891  0.33809166  0.87356913 ...  0.67448975\n",
       "31 -1.11533736 -1.11533736 -0.58458986  1.11533736  1.70478090 ... -1.11533736\n",
       "32 -0.41728414  1.26496924 -1.44999891 -0.77020808  0.11081291 ...  0.18536702\n",
       "33 -0.33809166  1.11533736 -0.18536702 -1.11533736  0.33809166 ...  0.98723099\n",
       "34 -1.44999891 -2.17792307  1.70478090  2.17792307 -0.98723099 ... -0.58458986\n",
       "   N           P           Q           R           S           T          \n",
       "1   1.44999891  1.44999891  0.18536702 -1.26496924 -0.38941430  0.26096740\n",
       "2   1.11533736 -1.44999891 -0.03687053  0.87356913  1.43420016 -0.33809166\n",
       "3  -0.03687053  0.33809166  0.67448975 -0.41728414 -2.16610675  0.77020808\n",
       "4   0.77020808 -0.49918784  0.87356913 -0.26096740  0.07603162  0.33809166\n",
       "5  -2.17792307  2.17792307  0.11081291 -2.17792307  0.38941430 -1.70478090\n",
       "6   1.70478090 -0.98723099 -0.67448975  0.67448975 -0.30866581  0.03687053\n",
       "7   0.26096740  0.18536702  0.26096740 -0.03687053 -0.22988412  0.58458986\n",
       "8  -0.58458986  0.03687053  2.17792307 -0.98723099  2.16610675 -0.11081291\n",
       "9  -0.18536702 -0.18536702  0.58458986 -0.18536702 -0.85249503 -0.58458986\n",
       "10  0.58458986  0.49918784  1.70478090  0.18536702  1.69062163  1.11533736\n",
       "11  0.41728414  0.41728414 -1.44999891 -1.44999891  0.96742157  1.26496924\n",
       "12  1.26496924 -0.26096740 -0.18536702  0.98723099 -1.43420016  0.18536702\n",
       "13 -1.11533736  0.77020808  0.77020808  1.11533736 -0.07603162 -0.98723099\n",
       "14 -0.49918784  1.11533736  0.33809166  0.77020808 -1.09680356 -0.77020808\n",
       "15 -0.11081291 -0.33809166 -1.70478090 -0.77020808  0.22988412 -2.17792307\n",
       "16 -0.87356913 -1.26496924 -0.77020808  1.70478090  0.47278912 -0.26096740\n",
       "17  0.18536702 -0.41728414  1.11533736 -0.33809166 -0.96742157  0.49918784\n",
       "18 -1.26496924 -0.11081291 -0.41728414 -0.11081291  1.09680356 -1.26496924\n",
       "19 -0.33809166  0.58458986 -0.98723099  1.26496924  0.55959227 -1.44999891\n",
       "20  0.98723099 -1.70478090 -1.26496924 -0.49918784  0.65083731  0.87356913\n",
       "21  0.87356913  0.11081291  1.26496924 -1.11533736 -0.55959227  1.70478090\n",
       "22 -0.26096740 -0.03687053 -0.26096740 -0.58458986  0.00000000  1.44999891\n",
       "23 -1.44999891  0.98723099 -0.33809166  0.58458986  0.15250597 -1.11533736\n",
       "24 -0.41728414 -0.87356913 -0.49918784  0.03687053  1.24775386 -0.67448975\n",
       "25  0.49918784  0.26096740 -0.87356913  0.41728414  0.30866581 -0.41728414\n",
       "26  0.67448975  0.87356913  0.41728414  0.26096740 -1.24775386 -0.49918784\n",
       "27 -1.70478090  1.26496924 -1.11533736  2.17792307 -0.74785859  0.41728414\n",
       "28  0.33809166 -0.77020808  1.44999891  0.33809166 -0.47278912 -0.03687053\n",
       "29  0.11081291 -0.58458986  0.49918784  0.11081291 -0.65083731  0.67448975\n",
       "30 -0.98723099 -0.67448975 -0.58458986 -0.67448975 -0.15250597 -0.87356913\n",
       "31  0.03687053 -1.11533736 -0.11081291  1.44999891 -1.69062163  0.11081291\n",
       "32 -0.77020808  0.67448975  0.98723099 -0.87356913  0.85249503 -0.18536702\n",
       "33 -0.67448975  1.70478090  0.03687053 -1.70478090  0.74785859  0.98723099\n",
       "34  2.17792307 -2.17792307 -2.17792307  0.49918784  0.00000000  2.17792307\n",
       "   V           W           Y          \n",
       "1  -1.26496924 -0.58458986  1.44999891\n",
       "2  -0.33809166 -0.67448975 -1.44999891\n",
       "3  -0.03687053  0.58458986 -0.18536702\n",
       "4   0.26096740 -0.18536702 -0.11081291\n",
       "5   0.87356913 -0.41728414  1.11533736\n",
       "6   1.44999891 -1.11533736 -0.26096740\n",
       "7  -0.58458986 -1.44999891 -0.98723099\n",
       "8  -0.87356913 -0.87356913 -0.49918784\n",
       "9   2.17792307  0.77020808  0.98723099\n",
       "10  1.11533736 -0.03687053  0.18536702\n",
       "11 -0.67448975 -0.98723099  1.70478090\n",
       "12 -1.70478090  1.11533736  1.26496924\n",
       "13  0.03687053  1.70478090  0.58458986\n",
       "14 -0.18536702 -0.11081291  0.49918784\n",
       "15  1.70478090 -1.26496924  0.33809166\n",
       "16 -0.77020808  0.18536702  0.26096740\n",
       "17 -0.41728414  1.44999891  0.77020808\n",
       "18  0.49918784  1.26496924  2.17792307\n",
       "19  0.33809166  0.49918784  0.67448975\n",
       "20  0.11081291  2.17792307 -1.11533736\n",
       "21 -0.11081291 -2.17792307 -0.67448975\n",
       "22  0.67448975  0.03687053  0.41728414\n",
       "23  0.18536702  0.26096740 -0.03687053\n",
       "24  0.41728414  0.87356913 -1.70478090\n",
       "25 -0.49918784 -0.77020808 -0.33809166\n",
       "26 -0.98723099 -0.26096740 -0.41728414\n",
       "27 -1.44999891  0.33809166 -0.77020808\n",
       "28  0.77020808  0.41728414 -0.87356913\n",
       "29  1.26496924 -0.49918784 -2.17792307\n",
       "30  0.98723099  0.98723099  0.03687053\n",
       "31 -1.11533736  0.11081291 -1.26496924\n",
       "32  0.58458986  0.67448975  0.11081291\n",
       "33 -0.26096740 -0.33809166  0.87356913\n",
       "34 -2.17792307 -1.70478090 -0.58458986"
      ]
     },
     "metadata": {},
     "output_type": "display_data"
    }
   ],
   "source": [
    "pivoted_cdr3_matrix"
   ]
  },
  {
   "cell_type": "code",
   "execution_count": 7,
   "id": "b6210fab-4ea7-415c-9511-d6fb2f6dddee",
   "metadata": {},
   "outputs": [],
   "source": [
    "\n",
    "#tdata_nonProductive <- filter(tdata, (grepl('\\\\*', aminoAcid) | aminoAcid == ''))\n",
    "\n",
    "  #mutate(v_3mer = substring(aminoAcid, 1, 3)) %>% \n",
    "  #mutate(v_2mer = substring(aminoAcid, 1, 2)) %>% \n",
    "  #mutate(j_3mer = substring(aminoAcid, nchar(aminoAcid)-2, nchar(aminoAcid))) %>%\n",
    "  #mutate(j_2mer = substring(aminoAcid, nchar(aminoAcid)-1, nchar(aminoAcid)))"
   ]
  },
  {
   "cell_type": "code",
   "execution_count": 26,
   "id": "01b064d5-ad80-4d57-8285-06dfa6dd82a1",
   "metadata": {},
   "outputs": [
    {
     "data": {
      "text/html": [
       "18"
      ],
      "text/latex": [
       "18"
      ],
      "text/markdown": [
       "18"
      ],
      "text/plain": [
       "[1] 18"
      ]
     },
     "metadata": {},
     "output_type": "display_data"
    },
    {
     "data": {
      "image/png": "[encoded data removed]",
      "text/plain": [
       "Plot with title \"Distribution of CDR3 AA length\""
      ]
     },
     "metadata": {
      "image/png": {
       "height": 300,
       "width": 300
      }
     },
     "output_type": "display_data"
    }
   ],
   "source": [
    "\n",
    "#tdata_productive_subseting_v <- tdata_productive_subseting %>% \n",
    "#  select(c(v_gene, v_part_3, aminoAcid)) %>% \n",
    "#  filter(vGeneName != '') %>%\n",
    "#  group_by(vGeneName, v_part_3) %>%\n",
    "#  mutate(overlaps_with_v_3mer = count(v_part_3))\n",
    "\n",
    "#tdata_productive_subseting_j <- tdata_productive_subseting %>% \n",
    "#  select(c(vGeneName, v_part_3, aminoAcid)) %>% \n",
    "#  filter(vGeneName != '') %>%\n",
    "#  group_by(vGeneName, v_part_3) %>%\n",
    "#  mutate(overlaps_with_v_3mer = count(v_part_3))\n",
    "\n",
    "\n",
    "options(repr.plot.width=5, repr.plot.height=5)\n",
    "hist(nchar(tdata$amino_acid),breaks=20,main=\"Distribution of CDR3 AA length\",col=\"magenta3\")\n"
   ]
  },
  {
   "cell_type": "code",
   "execution_count": 9,
   "id": "a887a17c-dec2-4274-b7c5-9f3165cbdd7f",
   "metadata": {},
   "outputs": [
    {
     "data": {
      "text/html": [
       "15"
      ],
      "text/latex": [
       "15"
      ],
      "text/markdown": [
       "15"
      ],
      "text/plain": [
       "[1] 15"
      ]
     },
     "metadata": {},
     "output_type": "display_data"
    },
    {
     "data": {
      "text/html": [
       "<table class=\"dataframe\">\n",
       "<caption>A matrix: 1 x 18 of type chr</caption>\n",
       "<thead>\n",
       "\t<tr><th scope=col>P104</th><th scope=col>P105</th><th scope=col>P106</th><th scope=col>P107</th><th scope=col>P108</th><th scope=col>P109</th><th scope=col>P110</th><th scope=col>P111</th><th scope=col>P111.1</th><th scope=col>P112.2</th><th scope=col>P112.1</th><th scope=col>P112</th><th scope=col>P113</th><th scope=col>P114</th><th scope=col>P115</th><th scope=col>P116</th><th scope=col>P117</th><th scope=col>P118</th></tr>\n",
       "</thead>\n",
       "<tbody>\n",
       "\t<tr><td>C</td><td>A</td><td>T</td><td>T</td><td>G</td><td>T</td><td>S</td><td>G</td><td>NA</td><td>NA</td><td>NA</td><td>S</td><td>Q</td><td>S</td><td>T</td><td>Q</td><td>Y</td><td>F</td></tr>\n",
       "</tbody>\n",
       "</table>\n"
      ],
      "text/latex": [
       "A matrix: 1 x 18 of type chr\n",
       "\\begin{tabular}{llllllllllllllllll}\n",
       " P104 & P105 & P106 & P107 & P108 & P109 & P110 & P111 & P111.1 & P112.2 & P112.1 & P112 & P113 & P114 & P115 & P116 & P117 & P118\\\\\n",
       "\\hline\n",
       "\t C & A & T & T & G & T & S & G & NA & NA & NA & S & Q & S & T & Q & Y & F\\\\\n",
       "\\end{tabular}\n"
      ],
      "text/markdown": [
       "\n",
       "A matrix: 1 x 18 of type chr\n",
       "\n",
       "| P104 | P105 | P106 | P107 | P108 | P109 | P110 | P111 | P111.1 | P112.2 | P112.1 | P112 | P113 | P114 | P115 | P116 | P117 | P118 |\n",
       "|---|---|---|---|---|---|---|---|---|---|---|---|---|---|---|---|---|---|\n",
       "| C | A | T | T | G | T | S | G | NA | NA | NA | S | Q | S | T | Q | Y | F |\n",
       "\n"
      ],
      "text/plain": [
       "     P104 P105 P106 P107 P108 P109 P110 P111 P111.1 P112.2 P112.1 P112 P113\n",
       "[1,] C    A    T    T    G    T    S    G    NA     NA     NA     S    Q   \n",
       "     P114 P115 P116 P117 P118\n",
       "[1,] S    T    Q    Y    F   "
      ]
     },
     "metadata": {},
     "output_type": "display_data"
    }
   ],
   "source": [
    "head(cdr3)"
   ]
  },
  {
   "cell_type": "code",
   "execution_count": 10,
   "id": "0229657d-96c1-49ea-9ddb-31d8296bd95e",
   "metadata": {},
   "outputs": [
    {
     "data": {
      "text/html": [
       "<table class=\"dataframe\">\n",
       "<caption>A data.frame: 6 x 22</caption>\n",
       "<thead>\n",
       "\t<tr><th></th><th scope=col>amino_acid</th><th scope=col>v_gene</th><th scope=col>j_gene</th><th scope=col>length</th><th scope=col>P104</th><th scope=col>P105</th><th scope=col>P106</th><th scope=col>P107</th><th scope=col>P108</th><th scope=col>P109</th><th scope=col>...</th><th scope=col>P111.1</th><th scope=col>P112.2</th><th scope=col>P112.1</th><th scope=col>P112</th><th scope=col>P113</th><th scope=col>P114</th><th scope=col>P115</th><th scope=col>P116</th><th scope=col>P117</th><th scope=col>P118</th></tr>\n",
       "\t<tr><th></th><th scope=col>&lt;chr&gt;</th><th scope=col>&lt;chr&gt;</th><th scope=col>&lt;chr&gt;</th><th scope=col>&lt;int&gt;</th><th scope=col>&lt;chr&gt;</th><th scope=col>&lt;chr&gt;</th><th scope=col>&lt;chr&gt;</th><th scope=col>&lt;chr&gt;</th><th scope=col>&lt;chr&gt;</th><th scope=col>&lt;chr&gt;</th><th scope=col>...</th><th scope=col>&lt;chr&gt;</th><th scope=col>&lt;chr&gt;</th><th scope=col>&lt;chr&gt;</th><th scope=col>&lt;chr&gt;</th><th scope=col>&lt;chr&gt;</th><th scope=col>&lt;chr&gt;</th><th scope=col>&lt;chr&gt;</th><th scope=col>&lt;chr&gt;</th><th scope=col>&lt;chr&gt;</th><th scope=col>&lt;chr&gt;</th></tr>\n",
       "</thead>\n",
       "<tbody>\n",
       "\t<tr><th scope=row>CASSQGQGDFYGYTF</th><td>CASSQGQGDFYGYTF</td><td>TCRBV05-05</td><td>TCRBJ01-02</td><td>15</td><td>C</td><td>A</td><td>S</td><td>S</td><td>Q</td><td>G</td><td>...</td><td>NA</td><td>NA</td><td>NA</td><td>D </td><td>F</td><td>Y</td><td>G</td><td>Y</td><td>T</td><td>F</td></tr>\n",
       "\t<tr><th scope=row>CASSLGQELSGGYTF</th><td>CASSLGQELSGGYTF</td><td>TCRBV05-05</td><td>TCRBJ01-02</td><td>15</td><td>C</td><td>A</td><td>S</td><td>S</td><td>L</td><td>G</td><td>...</td><td>NA</td><td>NA</td><td>NA</td><td>L </td><td>S</td><td>G</td><td>G</td><td>Y</td><td>T</td><td>F</td></tr>\n",
       "\t<tr><th scope=row>CASSLLAGIQETQYF</th><td>CASSLLAGIQETQYF</td><td>TCRBV05-05</td><td>TCRBJ02-05</td><td>15</td><td>C</td><td>A</td><td>S</td><td>S</td><td>L</td><td>L</td><td>...</td><td>NA</td><td>NA</td><td>NA</td><td>I </td><td>Q</td><td>E</td><td>T</td><td>Q</td><td>Y</td><td>F</td></tr>\n",
       "\t<tr><th scope=row>CASSILAGGQETQYF</th><td>CASSILAGGQETQYF</td><td>TCRBV05-05</td><td>TCRBJ02-05</td><td>15</td><td>C</td><td>A</td><td>S</td><td>S</td><td>I</td><td>L</td><td>...</td><td>NA</td><td>NA</td><td>NA</td><td>G </td><td>Q</td><td>E</td><td>T</td><td>Q</td><td>Y</td><td>F</td></tr>\n",
       "\t<tr><th scope=row>CASSLVATQNYGYTF</th><td>CASSLVATQNYGYTF</td><td>TCRBV05-05</td><td>TCRBJ01-02</td><td>15</td><td>C</td><td>A</td><td>S</td><td>S</td><td>L</td><td>V</td><td>...</td><td>NA</td><td>NA</td><td>NA</td><td>Q </td><td>N</td><td>Y</td><td>G</td><td>Y</td><td>T</td><td>F</td></tr>\n",
       "\t<tr><th scope=row>CASTSPGQPQHF</th><td>CASTSPGQPQHF   </td><td>TCRBV05-05</td><td>TCRBJ01-05</td><td>12</td><td>C</td><td>A</td><td>S</td><td>T</td><td>S</td><td>P</td><td>...</td><td>NA</td><td>NA</td><td>NA</td><td>NA</td><td>G</td><td>Q</td><td>P</td><td>Q</td><td>H</td><td>F</td></tr>\n",
       "</tbody>\n",
       "</table>\n"
      ],
      "text/latex": [
       "A data.frame: 6 x 22\n",
       "\\begin{tabular}{r|lllllllllllllllllllll}\n",
       "  & amino\\_acid & v\\_gene & j\\_gene & length & P104 & P105 & P106 & P107 & P108 & P109 & ... & P111.1 & P112.2 & P112.1 & P112 & P113 & P114 & P115 & P116 & P117 & P118\\\\\n",
       "  & <chr> & <chr> & <chr> & <int> & <chr> & <chr> & <chr> & <chr> & <chr> & <chr> & ... & <chr> & <chr> & <chr> & <chr> & <chr> & <chr> & <chr> & <chr> & <chr> & <chr>\\\\\n",
       "\\hline\n",
       "\tCASSQGQGDFYGYTF & CASSQGQGDFYGYTF & TCRBV05-05 & TCRBJ01-02 & 15 & C & A & S & S & Q & G & ... & NA & NA & NA & D  & F & Y & G & Y & T & F\\\\\n",
       "\tCASSLGQELSGGYTF & CASSLGQELSGGYTF & TCRBV05-05 & TCRBJ01-02 & 15 & C & A & S & S & L & G & ... & NA & NA & NA & L  & S & G & G & Y & T & F\\\\\n",
       "\tCASSLLAGIQETQYF & CASSLLAGIQETQYF & TCRBV05-05 & TCRBJ02-05 & 15 & C & A & S & S & L & L & ... & NA & NA & NA & I  & Q & E & T & Q & Y & F\\\\\n",
       "\tCASSILAGGQETQYF & CASSILAGGQETQYF & TCRBV05-05 & TCRBJ02-05 & 15 & C & A & S & S & I & L & ... & NA & NA & NA & G  & Q & E & T & Q & Y & F\\\\\n",
       "\tCASSLVATQNYGYTF & CASSLVATQNYGYTF & TCRBV05-05 & TCRBJ01-02 & 15 & C & A & S & S & L & V & ... & NA & NA & NA & Q  & N & Y & G & Y & T & F\\\\\n",
       "\tCASTSPGQPQHF & CASTSPGQPQHF    & TCRBV05-05 & TCRBJ01-05 & 12 & C & A & S & T & S & P & ... & NA & NA & NA & NA & G & Q & P & Q & H & F\\\\\n",
       "\\end{tabular}\n"
      ],
      "text/markdown": [
       "\n",
       "A data.frame: 6 x 22\n",
       "\n",
       "| <!--/--> | amino_acid &lt;chr&gt; | v_gene &lt;chr&gt; | j_gene &lt;chr&gt; | length &lt;int&gt; | P104 &lt;chr&gt; | P105 &lt;chr&gt; | P106 &lt;chr&gt; | P107 &lt;chr&gt; | P108 &lt;chr&gt; | P109 &lt;chr&gt; | ... ... | P111.1 &lt;chr&gt; | P112.2 &lt;chr&gt; | P112.1 &lt;chr&gt; | P112 &lt;chr&gt; | P113 &lt;chr&gt; | P114 &lt;chr&gt; | P115 &lt;chr&gt; | P116 &lt;chr&gt; | P117 &lt;chr&gt; | P118 &lt;chr&gt; |\n",
       "|---|---|---|---|---|---|---|---|---|---|---|---|---|---|---|---|---|---|---|---|---|---|\n",
       "| CASSQGQGDFYGYTF | CASSQGQGDFYGYTF | TCRBV05-05 | TCRBJ01-02 | 15 | C | A | S | S | Q | G | ... | NA | NA | NA | D  | F | Y | G | Y | T | F |\n",
       "| CASSLGQELSGGYTF | CASSLGQELSGGYTF | TCRBV05-05 | TCRBJ01-02 | 15 | C | A | S | S | L | G | ... | NA | NA | NA | L  | S | G | G | Y | T | F |\n",
       "| CASSLLAGIQETQYF | CASSLLAGIQETQYF | TCRBV05-05 | TCRBJ02-05 | 15 | C | A | S | S | L | L | ... | NA | NA | NA | I  | Q | E | T | Q | Y | F |\n",
       "| CASSILAGGQETQYF | CASSILAGGQETQYF | TCRBV05-05 | TCRBJ02-05 | 15 | C | A | S | S | I | L | ... | NA | NA | NA | G  | Q | E | T | Q | Y | F |\n",
       "| CASSLVATQNYGYTF | CASSLVATQNYGYTF | TCRBV05-05 | TCRBJ01-02 | 15 | C | A | S | S | L | V | ... | NA | NA | NA | Q  | N | Y | G | Y | T | F |\n",
       "| CASTSPGQPQHF | CASTSPGQPQHF    | TCRBV05-05 | TCRBJ01-05 | 12 | C | A | S | T | S | P | ... | NA | NA | NA | NA | G | Q | P | Q | H | F |\n",
       "\n"
      ],
      "text/plain": [
       "                amino_acid      v_gene     j_gene     length P104 P105 P106\n",
       "CASSQGQGDFYGYTF CASSQGQGDFYGYTF TCRBV05-05 TCRBJ01-02 15     C    A    S   \n",
       "CASSLGQELSGGYTF CASSLGQELSGGYTF TCRBV05-05 TCRBJ01-02 15     C    A    S   \n",
       "CASSLLAGIQETQYF CASSLLAGIQETQYF TCRBV05-05 TCRBJ02-05 15     C    A    S   \n",
       "CASSILAGGQETQYF CASSILAGGQETQYF TCRBV05-05 TCRBJ02-05 15     C    A    S   \n",
       "CASSLVATQNYGYTF CASSLVATQNYGYTF TCRBV05-05 TCRBJ01-02 15     C    A    S   \n",
       "CASTSPGQPQHF    CASTSPGQPQHF    TCRBV05-05 TCRBJ01-05 12     C    A    S   \n",
       "                P107 P108 P109 ... P111.1 P112.2 P112.1 P112 P113 P114 P115\n",
       "CASSQGQGDFYGYTF S    Q    G    ... NA     NA     NA     D    F    Y    G   \n",
       "CASSLGQELSGGYTF S    L    G    ... NA     NA     NA     L    S    G    G   \n",
       "CASSLLAGIQETQYF S    L    L    ... NA     NA     NA     I    Q    E    T   \n",
       "CASSILAGGQETQYF S    I    L    ... NA     NA     NA     G    Q    E    T   \n",
       "CASSLVATQNYGYTF S    L    V    ... NA     NA     NA     Q    N    Y    G   \n",
       "CASTSPGQPQHF    T    S    P    ... NA     NA     NA     NA   G    Q    P   \n",
       "                P116 P117 P118\n",
       "CASSQGQGDFYGYTF Y    T    F   \n",
       "CASSLGQELSGGYTF Y    T    F   \n",
       "CASSLLAGIQETQYF Q    Y    F   \n",
       "CASSILAGGQETQYF Q    Y    F   \n",
       "CASSLVATQNYGYTF Y    T    F   \n",
       "CASTSPGQPQHF    Q    H    F   "
      ]
     },
     "metadata": {},
     "output_type": "display_data"
    }
   ],
   "source": []
  },
  {
   "cell_type": "code",
   "execution_count": 31,
   "id": "e7cdb658-25f8-493d-bcbe-36025a0abc47",
   "metadata": {},
   "outputs": [
    {
     "ename": "ERROR",
     "evalue": "Error in parse(text = x, srcfile = src): <text>:8:18: unexpected ','\n7: colnames(Target_data)[1] <- \"AA\"\n8: Target_data$Vgene,\n                    ^\n",
     "output_type": "error",
     "traceback": [
      "Error in parse(text = x, srcfile = src): <text>:8:18: unexpected ','\n7: colnames(Target_data)[1] <- \"AA\"\n8: Target_data$Vgene,\n                    ^\nTraceback:\n"
     ]
    }
   ],
   "source": [
    "#-----------this part from the article. I don't like it, so later I pivot the data my way ----\n",
    "\n",
    "Target_Len <- 13\n",
    "Target_Pos <- \"P113\"\n",
    "\n",
    "Target_data <- subset(tdata_qc_imgt,Length==Target_Len)[,c(Target_Pos,\"Vgene\",\"Jgene\",\"Length\")]\n",
    "colnames(Target_data)[1] <- \"AA\"\n",
    "Target_data$Vgene,\":\",Target_Pos,\":\",Target_dataJ_tag <- paste0(Target_data$Jgene,\":L\",Target_data$Length,\":\",Target_Pos,\":\",Target_data$AA)\n",
    "head(Target_data,n=2)\n",
    "\n"
   ]
  },
  {
   "cell_type": "code",
   "execution_count": 11,
   "id": "2f0538ec-33dc-4150-8b49-bd4912d27e73",
   "metadata": {},
   "outputs": [
    {
     "data": {
      "text/html": [
       "<table class=\"dataframe\">\n",
       "<caption>A tibble: 6 x 4</caption>\n",
       "<thead>\n",
       "\t<tr><th scope=col>amino_acid</th><th scope=col>length</th><th scope=col>IMGT</th><th scope=col>AA</th></tr>\n",
       "\t<tr><th scope=col>&lt;chr&gt;</th><th scope=col>&lt;int&gt;</th><th scope=col>&lt;chr&gt;</th><th scope=col>&lt;chr&gt;</th></tr>\n",
       "</thead>\n",
       "<tbody>\n",
       "\t<tr><td>CASSQGQGDFYGYTF</td><td>15</td><td>P108</td><td>Q</td></tr>\n",
       "\t<tr><td>CASSQGQGDFYGYTF</td><td>15</td><td>P109</td><td>G</td></tr>\n",
       "\t<tr><td>CASSQGQGDFYGYTF</td><td>15</td><td>P110</td><td>Q</td></tr>\n",
       "\t<tr><td>CASSQGQGDFYGYTF</td><td>15</td><td>P111</td><td>G</td></tr>\n",
       "\t<tr><td>CASSQGQGDFYGYTF</td><td>15</td><td>P112</td><td>D</td></tr>\n",
       "\t<tr><td>CASSQGQGDFYGYTF</td><td>15</td><td>P113</td><td>F</td></tr>\n",
       "</tbody>\n",
       "</table>\n"
      ],
      "text/latex": [
       "A tibble: 6 x 4\n",
       "\\begin{tabular}{llll}\n",
       " amino\\_acid & length & IMGT & AA\\\\\n",
       " <chr> & <int> & <chr> & <chr>\\\\\n",
       "\\hline\n",
       "\t CASSQGQGDFYGYTF & 15 & P108 & Q\\\\\n",
       "\t CASSQGQGDFYGYTF & 15 & P109 & G\\\\\n",
       "\t CASSQGQGDFYGYTF & 15 & P110 & Q\\\\\n",
       "\t CASSQGQGDFYGYTF & 15 & P111 & G\\\\\n",
       "\t CASSQGQGDFYGYTF & 15 & P112 & D\\\\\n",
       "\t CASSQGQGDFYGYTF & 15 & P113 & F\\\\\n",
       "\\end{tabular}\n"
      ],
      "text/markdown": [
       "\n",
       "A tibble: 6 x 4\n",
       "\n",
       "| amino_acid &lt;chr&gt; | length &lt;int&gt; | IMGT &lt;chr&gt; | AA &lt;chr&gt; |\n",
       "|---|---|---|---|\n",
       "| CASSQGQGDFYGYTF | 15 | P108 | Q |\n",
       "| CASSQGQGDFYGYTF | 15 | P109 | G |\n",
       "| CASSQGQGDFYGYTF | 15 | P110 | Q |\n",
       "| CASSQGQGDFYGYTF | 15 | P111 | G |\n",
       "| CASSQGQGDFYGYTF | 15 | P112 | D |\n",
       "| CASSQGQGDFYGYTF | 15 | P113 | F |\n",
       "\n"
      ],
      "text/plain": [
       "  amino_acid      length IMGT AA\n",
       "1 CASSQGQGDFYGYTF 15     P108 Q \n",
       "2 CASSQGQGDFYGYTF 15     P109 G \n",
       "3 CASSQGQGDFYGYTF 15     P110 Q \n",
       "4 CASSQGQGDFYGYTF 15     P111 G \n",
       "5 CASSQGQGDFYGYTF 15     P112 D \n",
       "6 CASSQGQGDFYGYTF 15     P113 F "
      ]
     },
     "metadata": {},
     "output_type": "display_data"
    }
   ],
   "source": []
  },
  {
   "cell_type": "code",
   "execution_count": 12,
   "id": "8f5f93cc-ccff-4e84-baa1-31308fdf9533",
   "metadata": {},
   "outputs": [
    {
     "data": {
      "text/html": [
       "<table class=\"dataframe\">\n",
       "<caption>A grouped_df: 6 x 7</caption>\n",
       "<thead>\n",
       "\t<tr><th scope=col>length</th><th scope=col>IMGT</th><th scope=col>AA</th><th scope=col>n</th><th scope=col>total_per_length_position</th><th scope=col>relativ_freq</th><th scope=col>sum_freq</th></tr>\n",
       "\t<tr><th scope=col>&lt;int&gt;</th><th scope=col>&lt;chr&gt;</th><th scope=col>&lt;chr&gt;</th><th scope=col>&lt;int&gt;</th><th scope=col>&lt;int&gt;</th><th scope=col>&lt;dbl&gt;</th><th scope=col>&lt;dbl&gt;</th></tr>\n",
       "</thead>\n",
       "<tbody>\n",
       "\t<tr><td>12</td><td>P105</td><td>D</td><td>  2</td><td>122</td><td>0.01639344</td><td>1</td></tr>\n",
       "\t<tr><td>12</td><td>P105</td><td>G</td><td>  7</td><td>122</td><td>0.05737705</td><td>1</td></tr>\n",
       "\t<tr><td>12</td><td>P105</td><td>L</td><td>  2</td><td>122</td><td>0.01639344</td><td>1</td></tr>\n",
       "\t<tr><td>12</td><td>P105</td><td>R</td><td>  2</td><td>122</td><td>0.01639344</td><td>1</td></tr>\n",
       "\t<tr><td>12</td><td>P105</td><td>S</td><td>101</td><td>122</td><td>0.82786885</td><td>1</td></tr>\n",
       "\t<tr><td>12</td><td>P105</td><td>T</td><td>  2</td><td>122</td><td>0.01639344</td><td>1</td></tr>\n",
       "</tbody>\n",
       "</table>\n"
      ],
      "text/latex": [
       "A grouped\\_df: 6 x 7\n",
       "\\begin{tabular}{lllllll}\n",
       " length & IMGT & AA & n & total\\_per\\_length\\_position & relativ\\_freq & sum\\_freq\\\\\n",
       " <int> & <chr> & <chr> & <int> & <int> & <dbl> & <dbl>\\\\\n",
       "\\hline\n",
       "\t 12 & P105 & D &   2 & 122 & 0.01639344 & 1\\\\\n",
       "\t 12 & P105 & G &   7 & 122 & 0.05737705 & 1\\\\\n",
       "\t 12 & P105 & L &   2 & 122 & 0.01639344 & 1\\\\\n",
       "\t 12 & P105 & R &   2 & 122 & 0.01639344 & 1\\\\\n",
       "\t 12 & P105 & S & 101 & 122 & 0.82786885 & 1\\\\\n",
       "\t 12 & P105 & T &   2 & 122 & 0.01639344 & 1\\\\\n",
       "\\end{tabular}\n"
      ],
      "text/markdown": [
       "\n",
       "A grouped_df: 6 x 7\n",
       "\n",
       "| length &lt;int&gt; | IMGT &lt;chr&gt; | AA &lt;chr&gt; | n &lt;int&gt; | total_per_length_position &lt;int&gt; | relativ_freq &lt;dbl&gt; | sum_freq &lt;dbl&gt; |\n",
       "|---|---|---|---|---|---|---|\n",
       "| 12 | P105 | D |   2 | 122 | 0.01639344 | 1 |\n",
       "| 12 | P105 | G |   7 | 122 | 0.05737705 | 1 |\n",
       "| 12 | P105 | L |   2 | 122 | 0.01639344 | 1 |\n",
       "| 12 | P105 | R |   2 | 122 | 0.01639344 | 1 |\n",
       "| 12 | P105 | S | 101 | 122 | 0.82786885 | 1 |\n",
       "| 12 | P105 | T |   2 | 122 | 0.01639344 | 1 |\n",
       "\n"
      ],
      "text/plain": [
       "  length IMGT AA n   total_per_length_position relativ_freq sum_freq\n",
       "1 12     P105 D    2 122                       0.01639344   1       \n",
       "2 12     P105 G    7 122                       0.05737705   1       \n",
       "3 12     P105 L    2 122                       0.01639344   1       \n",
       "4 12     P105 R    2 122                       0.01639344   1       \n",
       "5 12     P105 S  101 122                       0.82786885   1       \n",
       "6 12     P105 T    2 122                       0.01639344   1       "
      ]
     },
     "metadata": {},
     "output_type": "display_data"
    }
   ],
   "source": []
  },
  {
   "cell_type": "code",
   "execution_count": null,
   "id": "887f0037-3cdb-4990-a0d1-399fa116af69",
   "metadata": {},
   "outputs": [],
   "source": [
    "#-------some plots of density----\n",
    "den <- ggplot(tdata_pivot_pos_length_density) +\n",
    "  geom_tile(aes(fill = n, x = IMGT, y = length))\n",
    "den\n",
    "\n",
    "relativ_freq <- ggplot(tdata_pivot_pos_length_aa_freq) +\n",
    "  geom_tile(aes(fill = relativ_freq, x = IMGT, y = length))\n",
    "relativ_freq\n",
    "\n",
    "\n",
    "for (i in 12:18) {\n",
    "  plot_length_position <- ggplot(subset(tdata_pivot_pos_length_aa_freq, length == i), aes(x = IMGT, y = relativ_freq, color = AA)) +\n",
    "    geom_point() +\n",
    "    ggtitle(paste0('Length',i))\n",
    "  ggsave(paste0('plots/Length',i,sep='', '_P00364.jpeg'), plot_length_position)\n",
    "}\n",
    "\n",
    "facet_plots <- ggplot(tdata_pivot_pos_length_aa_freq, aes(x = total_per_length_position, y = n, color = AA)) +\n",
    "  geom_point()\n",
    "facet_plots\n",
    "facet_plots + facet_wrap(~IMGT) \n",
    "\n",
    "unique(tdata_pivot_pos_length_aa_freq$AA[tdata_pivot_pos_length_aa_freq$relativ_freq >= 0.3])"
   ]
  },
  {
   "cell_type": "code",
   "execution_count": null,
   "id": "24f7e450-0ddb-4e12-8951-fa951af2f067",
   "metadata": {},
   "outputs": [],
   "source": [
    "test <- read.csv('pivoted_cdr3.tcv', header = T)\n",
    "relativ_freq <- ggplot(test) +\n",
    "  geom_tile(aes(fill = relativ_freq, x = IMGT, y = length))\n",
    "relativ_freq"
   ]
  },
  {
   "cell_type": "code",
   "execution_count": 15,
   "id": "3c89ab9e-7868-439d-975a-ef2090f1e3f4",
   "metadata": {},
   "outputs": [
    {
     "data": {
      "image/png": "[encoded data removed]",
      "text/plain": [
       "plot without title"
      ]
     },
     "metadata": {
      "image/png": {
       "height": 360,
       "width": 720
      }
     },
     "output_type": "display_data"
    }
   ],
   "source": [
    "# the distributions of CDR3 amino acid frequencies of post-transformation.\n",
    "#as you can see, the data is normally distributted.\n",
    "options(repr.plot.width=12, repr.plot.height=6)\n",
    "df <- pall\n",
    "df %>% ggplot(aes(x=normrate,fill=AA))+\n",
    "  geom_histogram(bins = 30)+\n",
    "  facet_wrap(~AA)+\n",
    "  theme_bw()+\n",
    "  theme(legend.position = \"none\")+\n",
    "  labs(title=\"Distribution of amino acid frequencies (pre-transform, same scale)\")\n"
   ]
  },
  {
   "cell_type": "code",
   "execution_count": 38,
   "id": "a876da40-cbea-416d-a756-5d72b2593ff1",
   "metadata": {},
   "outputs": [
    {
     "data": {
      "text/html": [
       "<table class=\"dataframe\">\n",
       "<caption>A tibble: 6 x 3</caption>\n",
       "<thead>\n",
       "\t<tr><th scope=col>pos_length</th><th scope=col>normrate</th><th scope=col>AA</th></tr>\n",
       "\t<tr><th scope=col>&lt;chr&gt;</th><th scope=col>&lt;dbl&gt;</th><th scope=col>&lt;chr&gt;</th></tr>\n",
       "</thead>\n",
       "<tbody>\n",
       "\t<tr><td>P105:12</td><td>-1.21678978</td><td>D</td></tr>\n",
       "\t<tr><td>P107:12</td><td> 0.08254853</td><td>D</td></tr>\n",
       "\t<tr><td>P108:12</td><td> 0.46108609</td><td>D</td></tr>\n",
       "\t<tr><td>P109:12</td><td> 0.82760412</td><td>D</td></tr>\n",
       "\t<tr><td>P113:12</td><td> 0.53578773</td><td>D</td></tr>\n",
       "\t<tr><td>P114:12</td><td> 1.28908534</td><td>D</td></tr>\n",
       "</tbody>\n",
       "</table>\n"
      ],
      "text/latex": [
       "A tibble: 6 x 3\n",
       "\\begin{tabular}{lll}\n",
       " pos\\_length & normrate & AA\\\\\n",
       " <chr> & <dbl> & <chr>\\\\\n",
       "\\hline\n",
       "\t P105:12 & -1.21678978 & D\\\\\n",
       "\t P107:12 &  0.08254853 & D\\\\\n",
       "\t P108:12 &  0.46108609 & D\\\\\n",
       "\t P109:12 &  0.82760412 & D\\\\\n",
       "\t P113:12 &  0.53578773 & D\\\\\n",
       "\t P114:12 &  1.28908534 & D\\\\\n",
       "\\end{tabular}\n"
      ],
      "text/markdown": [
       "\n",
       "A tibble: 6 x 3\n",
       "\n",
       "| pos_length &lt;chr&gt; | normrate &lt;dbl&gt; | AA &lt;chr&gt; |\n",
       "|---|---|---|\n",
       "| P105:12 | -1.21678978 | D |\n",
       "| P107:12 |  0.08254853 | D |\n",
       "| P108:12 |  0.46108609 | D |\n",
       "| P109:12 |  0.82760412 | D |\n",
       "| P113:12 |  0.53578773 | D |\n",
       "| P114:12 |  1.28908534 | D |\n",
       "\n"
      ],
      "text/plain": [
       "  pos_length normrate    AA\n",
       "1 P105:12    -1.21678978 D \n",
       "2 P107:12     0.08254853 D \n",
       "3 P108:12     0.46108609 D \n",
       "4 P109:12     0.82760412 D \n",
       "5 P113:12     0.53578773 D \n",
       "6 P114:12     1.28908534 D "
      ]
     },
     "metadata": {},
     "output_type": "display_data"
    }
   ],
   "source": [
    "head(pall)"
   ]
  },
  {
   "cell_type": "code",
   "execution_count": null,
   "id": "ec3fbedf-1068-4c69-bbe6-fa68b9b91dbc",
   "metadata": {},
   "outputs": [],
   "source": [
    "#---------trying the same with dplyr--------\n",
    "\n",
    "cdrs_test <- pall %>% filter(po)"
   ]
  }
 ],
 "metadata": {
  "kernelspec": {
   "display_name": "R",
   "language": "R",
   "name": "ir"
  },
  "language_info": {
   "codemirror_mode": "r",
   "file_extension": ".r",
   "mimetype": "text/x-r-source",
   "name": "R",
   "pygments_lexer": "r",
   "version": "4.1.1"
  }
 },
 "nbformat": 4,
 "nbformat_minor": 5
}
